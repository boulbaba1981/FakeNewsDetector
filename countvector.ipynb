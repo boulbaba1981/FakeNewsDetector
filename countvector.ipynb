{
 "cells": [
  {
   "cell_type": "markdown",
   "id": "0e271cb5-43e7-4fce-a045-03c68d4b6f76",
   "metadata": {},
   "source": [
    "# Libraries"
   ]
  },
  {
   "cell_type": "code",
   "execution_count": 1,
   "id": "64423b11-2a90-4419-9acd-0d0502cea6d5",
   "metadata": {},
   "outputs": [],
   "source": [
    "# Load librarie\n",
    "import pandas as pd\n",
    "import numpy as np"
   ]
  },
  {
   "cell_type": "markdown",
   "id": "728b1a89-40f7-438f-88ba-e2fddf729e23",
   "metadata": {},
   "source": [
    "# Reading and adding label\n"
   ]
  },
  {
   "cell_type": "code",
   "execution_count": 2,
   "id": "3edcd76c-0d25-4607-8ecb-5cad9e390999",
   "metadata": {},
   "outputs": [
    {
     "data": {
      "text/html": [
       "<div>\n",
       "<style scoped>\n",
       "    .dataframe tbody tr th:only-of-type {\n",
       "        vertical-align: middle;\n",
       "    }\n",
       "\n",
       "    .dataframe tbody tr th {\n",
       "        vertical-align: top;\n",
       "    }\n",
       "\n",
       "    .dataframe thead th {\n",
       "        text-align: right;\n",
       "    }\n",
       "</style>\n",
       "<table border=\"1\" class=\"dataframe\">\n",
       "  <thead>\n",
       "    <tr style=\"text-align: right;\">\n",
       "      <th></th>\n",
       "      <th>title</th>\n",
       "      <th>text</th>\n",
       "      <th>subject</th>\n",
       "      <th>date</th>\n",
       "      <th>Label</th>\n",
       "    </tr>\n",
       "  </thead>\n",
       "  <tbody>\n",
       "    <tr>\n",
       "      <th>0</th>\n",
       "      <td>Donald Trump Sends Out Embarrassing New Year’...</td>\n",
       "      <td>Donald Trump just couldn t wish all Americans ...</td>\n",
       "      <td>News</td>\n",
       "      <td>December 31, 2017</td>\n",
       "      <td>1</td>\n",
       "    </tr>\n",
       "    <tr>\n",
       "      <th>1</th>\n",
       "      <td>Drunk Bragging Trump Staffer Started Russian ...</td>\n",
       "      <td>House Intelligence Committee Chairman Devin Nu...</td>\n",
       "      <td>News</td>\n",
       "      <td>December 31, 2017</td>\n",
       "      <td>1</td>\n",
       "    </tr>\n",
       "    <tr>\n",
       "      <th>2</th>\n",
       "      <td>Sheriff David Clarke Becomes An Internet Joke...</td>\n",
       "      <td>On Friday, it was revealed that former Milwauk...</td>\n",
       "      <td>News</td>\n",
       "      <td>December 30, 2017</td>\n",
       "      <td>1</td>\n",
       "    </tr>\n",
       "    <tr>\n",
       "      <th>3</th>\n",
       "      <td>Trump Is So Obsessed He Even Has Obama’s Name...</td>\n",
       "      <td>On Christmas day, Donald Trump announced that ...</td>\n",
       "      <td>News</td>\n",
       "      <td>December 29, 2017</td>\n",
       "      <td>1</td>\n",
       "    </tr>\n",
       "    <tr>\n",
       "      <th>4</th>\n",
       "      <td>Pope Francis Just Called Out Donald Trump Dur...</td>\n",
       "      <td>Pope Francis used his annual Christmas Day mes...</td>\n",
       "      <td>News</td>\n",
       "      <td>December 25, 2017</td>\n",
       "      <td>1</td>\n",
       "    </tr>\n",
       "    <tr>\n",
       "      <th>...</th>\n",
       "      <td>...</td>\n",
       "      <td>...</td>\n",
       "      <td>...</td>\n",
       "      <td>...</td>\n",
       "      <td>...</td>\n",
       "    </tr>\n",
       "    <tr>\n",
       "      <th>23476</th>\n",
       "      <td>McPain: John McCain Furious That Iran Treated ...</td>\n",
       "      <td>21st Century Wire says As 21WIRE reported earl...</td>\n",
       "      <td>Middle-east</td>\n",
       "      <td>January 16, 2016</td>\n",
       "      <td>1</td>\n",
       "    </tr>\n",
       "    <tr>\n",
       "      <th>23477</th>\n",
       "      <td>JUSTICE? Yahoo Settles E-mail Privacy Class-ac...</td>\n",
       "      <td>21st Century Wire says It s a familiar theme. ...</td>\n",
       "      <td>Middle-east</td>\n",
       "      <td>January 16, 2016</td>\n",
       "      <td>1</td>\n",
       "    </tr>\n",
       "    <tr>\n",
       "      <th>23478</th>\n",
       "      <td>Sunnistan: US and Allied ‘Safe Zone’ Plan to T...</td>\n",
       "      <td>Patrick Henningsen  21st Century WireRemember ...</td>\n",
       "      <td>Middle-east</td>\n",
       "      <td>January 15, 2016</td>\n",
       "      <td>1</td>\n",
       "    </tr>\n",
       "    <tr>\n",
       "      <th>23479</th>\n",
       "      <td>How to Blow $700 Million: Al Jazeera America F...</td>\n",
       "      <td>21st Century Wire says Al Jazeera America will...</td>\n",
       "      <td>Middle-east</td>\n",
       "      <td>January 14, 2016</td>\n",
       "      <td>1</td>\n",
       "    </tr>\n",
       "    <tr>\n",
       "      <th>23480</th>\n",
       "      <td>10 U.S. Navy Sailors Held by Iranian Military ...</td>\n",
       "      <td>21st Century Wire says As 21WIRE predicted in ...</td>\n",
       "      <td>Middle-east</td>\n",
       "      <td>January 12, 2016</td>\n",
       "      <td>1</td>\n",
       "    </tr>\n",
       "  </tbody>\n",
       "</table>\n",
       "<p>23481 rows × 5 columns</p>\n",
       "</div>"
      ],
      "text/plain": [
       "                                                   title  \\\n",
       "0       Donald Trump Sends Out Embarrassing New Year’...   \n",
       "1       Drunk Bragging Trump Staffer Started Russian ...   \n",
       "2       Sheriff David Clarke Becomes An Internet Joke...   \n",
       "3       Trump Is So Obsessed He Even Has Obama’s Name...   \n",
       "4       Pope Francis Just Called Out Donald Trump Dur...   \n",
       "...                                                  ...   \n",
       "23476  McPain: John McCain Furious That Iran Treated ...   \n",
       "23477  JUSTICE? Yahoo Settles E-mail Privacy Class-ac...   \n",
       "23478  Sunnistan: US and Allied ‘Safe Zone’ Plan to T...   \n",
       "23479  How to Blow $700 Million: Al Jazeera America F...   \n",
       "23480  10 U.S. Navy Sailors Held by Iranian Military ...   \n",
       "\n",
       "                                                    text      subject  \\\n",
       "0      Donald Trump just couldn t wish all Americans ...         News   \n",
       "1      House Intelligence Committee Chairman Devin Nu...         News   \n",
       "2      On Friday, it was revealed that former Milwauk...         News   \n",
       "3      On Christmas day, Donald Trump announced that ...         News   \n",
       "4      Pope Francis used his annual Christmas Day mes...         News   \n",
       "...                                                  ...          ...   \n",
       "23476  21st Century Wire says As 21WIRE reported earl...  Middle-east   \n",
       "23477  21st Century Wire says It s a familiar theme. ...  Middle-east   \n",
       "23478  Patrick Henningsen  21st Century WireRemember ...  Middle-east   \n",
       "23479  21st Century Wire says Al Jazeera America will...  Middle-east   \n",
       "23480  21st Century Wire says As 21WIRE predicted in ...  Middle-east   \n",
       "\n",
       "                    date  Label  \n",
       "0      December 31, 2017      1  \n",
       "1      December 31, 2017      1  \n",
       "2      December 30, 2017      1  \n",
       "3      December 29, 2017      1  \n",
       "4      December 25, 2017      1  \n",
       "...                  ...    ...  \n",
       "23476   January 16, 2016      1  \n",
       "23477   January 16, 2016      1  \n",
       "23478   January 15, 2016      1  \n",
       "23479   January 14, 2016      1  \n",
       "23480   January 12, 2016      1  \n",
       "\n",
       "[23481 rows x 5 columns]"
      ]
     },
     "execution_count": 2,
     "metadata": {},
     "output_type": "execute_result"
    }
   ],
   "source": [
    "# Load fake news dataset\n",
    "fake = pd.read_csv(\"Fake.csv\")\n",
    "# Load true news dataset\n",
    "true = pd.read_csv(\"True.csv\")\n",
    "# Add label\n",
    "fake[\"Label\"] = 1\n",
    "true[\"Label\"] = 0\n",
    "fake"
   ]
  },
  {
   "cell_type": "markdown",
   "id": "de201d8e-113b-4eab-852d-2637ab2cdceb",
   "metadata": {},
   "source": [
    "# Combining "
   ]
  },
  {
   "cell_type": "code",
   "execution_count": 3,
   "id": "debe53ed-0444-4096-adb8-3c82ec1cd407",
   "metadata": {},
   "outputs": [
    {
     "data": {
      "text/html": [
       "<div>\n",
       "<style scoped>\n",
       "    .dataframe tbody tr th:only-of-type {\n",
       "        vertical-align: middle;\n",
       "    }\n",
       "\n",
       "    .dataframe tbody tr th {\n",
       "        vertical-align: top;\n",
       "    }\n",
       "\n",
       "    .dataframe thead th {\n",
       "        text-align: right;\n",
       "    }\n",
       "</style>\n",
       "<table border=\"1\" class=\"dataframe\">\n",
       "  <thead>\n",
       "    <tr style=\"text-align: right;\">\n",
       "      <th></th>\n",
       "      <th>title</th>\n",
       "      <th>text</th>\n",
       "      <th>subject</th>\n",
       "      <th>date</th>\n",
       "      <th>Label</th>\n",
       "    </tr>\n",
       "  </thead>\n",
       "  <tbody>\n",
       "    <tr>\n",
       "      <th>0</th>\n",
       "      <td>Donald Trump Sends Out Embarrassing New Year’...</td>\n",
       "      <td>Donald Trump just couldn t wish all Americans ...</td>\n",
       "      <td>News</td>\n",
       "      <td>December 31, 2017</td>\n",
       "      <td>1</td>\n",
       "    </tr>\n",
       "    <tr>\n",
       "      <th>1</th>\n",
       "      <td>Drunk Bragging Trump Staffer Started Russian ...</td>\n",
       "      <td>House Intelligence Committee Chairman Devin Nu...</td>\n",
       "      <td>News</td>\n",
       "      <td>December 31, 2017</td>\n",
       "      <td>1</td>\n",
       "    </tr>\n",
       "    <tr>\n",
       "      <th>2</th>\n",
       "      <td>Sheriff David Clarke Becomes An Internet Joke...</td>\n",
       "      <td>On Friday, it was revealed that former Milwauk...</td>\n",
       "      <td>News</td>\n",
       "      <td>December 30, 2017</td>\n",
       "      <td>1</td>\n",
       "    </tr>\n",
       "    <tr>\n",
       "      <th>3</th>\n",
       "      <td>Trump Is So Obsessed He Even Has Obama’s Name...</td>\n",
       "      <td>On Christmas day, Donald Trump announced that ...</td>\n",
       "      <td>News</td>\n",
       "      <td>December 29, 2017</td>\n",
       "      <td>1</td>\n",
       "    </tr>\n",
       "    <tr>\n",
       "      <th>4</th>\n",
       "      <td>Pope Francis Just Called Out Donald Trump Dur...</td>\n",
       "      <td>Pope Francis used his annual Christmas Day mes...</td>\n",
       "      <td>News</td>\n",
       "      <td>December 25, 2017</td>\n",
       "      <td>1</td>\n",
       "    </tr>\n",
       "    <tr>\n",
       "      <th>...</th>\n",
       "      <td>...</td>\n",
       "      <td>...</td>\n",
       "      <td>...</td>\n",
       "      <td>...</td>\n",
       "      <td>...</td>\n",
       "    </tr>\n",
       "    <tr>\n",
       "      <th>21412</th>\n",
       "      <td>'Fully committed' NATO backs new U.S. approach...</td>\n",
       "      <td>BRUSSELS (Reuters) - NATO allies on Tuesday we...</td>\n",
       "      <td>worldnews</td>\n",
       "      <td>August 22, 2017</td>\n",
       "      <td>0</td>\n",
       "    </tr>\n",
       "    <tr>\n",
       "      <th>21413</th>\n",
       "      <td>LexisNexis withdrew two products from Chinese ...</td>\n",
       "      <td>LONDON (Reuters) - LexisNexis, a provider of l...</td>\n",
       "      <td>worldnews</td>\n",
       "      <td>August 22, 2017</td>\n",
       "      <td>0</td>\n",
       "    </tr>\n",
       "    <tr>\n",
       "      <th>21414</th>\n",
       "      <td>Minsk cultural hub becomes haven from authorities</td>\n",
       "      <td>MINSK (Reuters) - In the shadow of disused Sov...</td>\n",
       "      <td>worldnews</td>\n",
       "      <td>August 22, 2017</td>\n",
       "      <td>0</td>\n",
       "    </tr>\n",
       "    <tr>\n",
       "      <th>21415</th>\n",
       "      <td>Vatican upbeat on possibility of Pope Francis ...</td>\n",
       "      <td>MOSCOW (Reuters) - Vatican Secretary of State ...</td>\n",
       "      <td>worldnews</td>\n",
       "      <td>August 22, 2017</td>\n",
       "      <td>0</td>\n",
       "    </tr>\n",
       "    <tr>\n",
       "      <th>21416</th>\n",
       "      <td>Indonesia to buy $1.14 billion worth of Russia...</td>\n",
       "      <td>JAKARTA (Reuters) - Indonesia will buy 11 Sukh...</td>\n",
       "      <td>worldnews</td>\n",
       "      <td>August 22, 2017</td>\n",
       "      <td>0</td>\n",
       "    </tr>\n",
       "  </tbody>\n",
       "</table>\n",
       "<p>44898 rows × 5 columns</p>\n",
       "</div>"
      ],
      "text/plain": [
       "                                                   title  \\\n",
       "0       Donald Trump Sends Out Embarrassing New Year’...   \n",
       "1       Drunk Bragging Trump Staffer Started Russian ...   \n",
       "2       Sheriff David Clarke Becomes An Internet Joke...   \n",
       "3       Trump Is So Obsessed He Even Has Obama’s Name...   \n",
       "4       Pope Francis Just Called Out Donald Trump Dur...   \n",
       "...                                                  ...   \n",
       "21412  'Fully committed' NATO backs new U.S. approach...   \n",
       "21413  LexisNexis withdrew two products from Chinese ...   \n",
       "21414  Minsk cultural hub becomes haven from authorities   \n",
       "21415  Vatican upbeat on possibility of Pope Francis ...   \n",
       "21416  Indonesia to buy $1.14 billion worth of Russia...   \n",
       "\n",
       "                                                    text    subject  \\\n",
       "0      Donald Trump just couldn t wish all Americans ...       News   \n",
       "1      House Intelligence Committee Chairman Devin Nu...       News   \n",
       "2      On Friday, it was revealed that former Milwauk...       News   \n",
       "3      On Christmas day, Donald Trump announced that ...       News   \n",
       "4      Pope Francis used his annual Christmas Day mes...       News   \n",
       "...                                                  ...        ...   \n",
       "21412  BRUSSELS (Reuters) - NATO allies on Tuesday we...  worldnews   \n",
       "21413  LONDON (Reuters) - LexisNexis, a provider of l...  worldnews   \n",
       "21414  MINSK (Reuters) - In the shadow of disused Sov...  worldnews   \n",
       "21415  MOSCOW (Reuters) - Vatican Secretary of State ...  worldnews   \n",
       "21416  JAKARTA (Reuters) - Indonesia will buy 11 Sukh...  worldnews   \n",
       "\n",
       "                    date  Label  \n",
       "0      December 31, 2017      1  \n",
       "1      December 31, 2017      1  \n",
       "2      December 30, 2017      1  \n",
       "3      December 29, 2017      1  \n",
       "4      December 25, 2017      1  \n",
       "...                  ...    ...  \n",
       "21412   August 22, 2017       0  \n",
       "21413   August 22, 2017       0  \n",
       "21414   August 22, 2017       0  \n",
       "21415   August 22, 2017       0  \n",
       "21416   August 22, 2017       0  \n",
       "\n",
       "[44898 rows x 5 columns]"
      ]
     },
     "execution_count": 3,
     "metadata": {},
     "output_type": "execute_result"
    }
   ],
   "source": [
    "# Combining both into new dataframe \"news_dataset\"\n",
    "frames = [fake, true]\n",
    "news_dataset= pd.concat(frames)\n",
    "news_dataset"
   ]
  },
  {
   "cell_type": "markdown",
   "id": "ad941c5f-5fe3-4973-a36a-a8b13b2ac50e",
   "metadata": {},
   "source": [
    "# Shuffling data"
   ]
  },
  {
   "cell_type": "code",
   "execution_count": 4,
   "id": "0caf3088-639a-469e-87d0-5039e0f7e716",
   "metadata": {},
   "outputs": [
    {
     "data": {
      "text/html": [
       "<div>\n",
       "<style scoped>\n",
       "    .dataframe tbody tr th:only-of-type {\n",
       "        vertical-align: middle;\n",
       "    }\n",
       "\n",
       "    .dataframe tbody tr th {\n",
       "        vertical-align: top;\n",
       "    }\n",
       "\n",
       "    .dataframe thead th {\n",
       "        text-align: right;\n",
       "    }\n",
       "</style>\n",
       "<table border=\"1\" class=\"dataframe\">\n",
       "  <thead>\n",
       "    <tr style=\"text-align: right;\">\n",
       "      <th></th>\n",
       "      <th>title</th>\n",
       "      <th>text</th>\n",
       "      <th>subject</th>\n",
       "      <th>date</th>\n",
       "      <th>Label</th>\n",
       "    </tr>\n",
       "  </thead>\n",
       "  <tbody>\n",
       "    <tr>\n",
       "      <th>19036</th>\n",
       "      <td>DOES NANCY NEED MEDICAL ATTENTION? Watch As Na...</td>\n",
       "      <td>Thank you to the American Mirror for putting t...</td>\n",
       "      <td>left-news</td>\n",
       "      <td>Mar 4, 2017</td>\n",
       "      <td>1</td>\n",
       "    </tr>\n",
       "    <tr>\n",
       "      <th>14812</th>\n",
       "      <td>After U.S. visit, South Sudan's Kiir orders un...</td>\n",
       "      <td>UNITED NATIONS (Reuters) - South Sudan s Presi...</td>\n",
       "      <td>worldnews</td>\n",
       "      <td>November 14, 2017</td>\n",
       "      <td>0</td>\n",
       "    </tr>\n",
       "    <tr>\n",
       "      <th>3274</th>\n",
       "      <td>The Internet Loses It Over RNC’s Bizarre Stat...</td>\n",
       "      <td>The Republican National Committee released a b...</td>\n",
       "      <td>News</td>\n",
       "      <td>December 25, 2016</td>\n",
       "      <td>1</td>\n",
       "    </tr>\n",
       "    <tr>\n",
       "      <th>23203</th>\n",
       "      <td>FBI REDUX: What’s Behind New Probe into Hillar...</td>\n",
       "      <td>21st Century Wire says In a stunning turn of e...</td>\n",
       "      <td>Middle-east</td>\n",
       "      <td>October 28, 2016</td>\n",
       "      <td>1</td>\n",
       "    </tr>\n",
       "    <tr>\n",
       "      <th>20208</th>\n",
       "      <td>Indonesia tightens rules to curb money launder...</td>\n",
       "      <td>JAKARTA (Reuters) - Indonesia has issued new r...</td>\n",
       "      <td>worldnews</td>\n",
       "      <td>September 13, 2017</td>\n",
       "      <td>0</td>\n",
       "    </tr>\n",
       "  </tbody>\n",
       "</table>\n",
       "</div>"
      ],
      "text/plain": [
       "                                                   title  \\\n",
       "19036  DOES NANCY NEED MEDICAL ATTENTION? Watch As Na...   \n",
       "14812  After U.S. visit, South Sudan's Kiir orders un...   \n",
       "3274    The Internet Loses It Over RNC’s Bizarre Stat...   \n",
       "23203  FBI REDUX: What’s Behind New Probe into Hillar...   \n",
       "20208  Indonesia tightens rules to curb money launder...   \n",
       "\n",
       "                                                    text      subject  \\\n",
       "19036  Thank you to the American Mirror for putting t...    left-news   \n",
       "14812  UNITED NATIONS (Reuters) - South Sudan s Presi...    worldnews   \n",
       "3274   The Republican National Committee released a b...         News   \n",
       "23203  21st Century Wire says In a stunning turn of e...  Middle-east   \n",
       "20208  JAKARTA (Reuters) - Indonesia has issued new r...    worldnews   \n",
       "\n",
       "                      date  Label  \n",
       "19036          Mar 4, 2017      1  \n",
       "14812   November 14, 2017       0  \n",
       "3274     December 25, 2016      1  \n",
       "23203     October 28, 2016      1  \n",
       "20208  September 13, 2017       0  "
      ]
     },
     "execution_count": 4,
     "metadata": {},
     "output_type": "execute_result"
    }
   ],
   "source": [
    "news_dataset = news_dataset .sample(frac = 1)\n",
    "news_dataset.head()"
   ]
  },
  {
   "cell_type": "markdown",
   "id": "ae3517ce-915f-46df-a0d8-5c3bb506c056",
   "metadata": {},
   "source": [
    "# Pre-Processing"
   ]
  },
  {
   "cell_type": "code",
   "execution_count": 5,
   "id": "61de81f0-8ce8-4996-a27a-bec16d0dbfd1",
   "metadata": {},
   "outputs": [],
   "source": [
    "import re \n",
    "from nltk.corpus import stopwords\n",
    "from nltk.stem.porter import PorterStemmer "
   ]
  },
  {
   "cell_type": "code",
   "execution_count": 6,
   "id": "a01b741e-8ea4-4674-9619-e89851b2bd75",
   "metadata": {},
   "outputs": [
    {
     "name": "stderr",
     "output_type": "stream",
     "text": [
      "[nltk_data] Downloading package stopwords to\n",
      "[nltk_data]     C:\\Users\\ASUS1\\AppData\\Roaming\\nltk_data...\n",
      "[nltk_data]   Package stopwords is already up-to-date!\n"
     ]
    },
    {
     "data": {
      "text/plain": [
       "True"
      ]
     },
     "execution_count": 6,
     "metadata": {},
     "output_type": "execute_result"
    }
   ],
   "source": [
    "import nltk \n",
    "nltk.download('stopwords')"
   ]
  },
  {
   "cell_type": "code",
   "execution_count": 7,
   "id": "c74428b3-7779-4b18-ab44-abd4de0bf73b",
   "metadata": {},
   "outputs": [
    {
     "name": "stdout",
     "output_type": "stream",
     "text": [
      "['i', 'me', 'my', 'myself', 'we', 'our', 'ours', 'ourselves', 'you', \"you're\", \"you've\", \"you'll\", \"you'd\", 'your', 'yours', 'yourself', 'yourselves', 'he', 'him', 'his', 'himself', 'she', \"she's\", 'her', 'hers', 'herself', 'it', \"it's\", 'its', 'itself', 'they', 'them', 'their', 'theirs', 'themselves', 'what', 'which', 'who', 'whom', 'this', 'that', \"that'll\", 'these', 'those', 'am', 'is', 'are', 'was', 'were', 'be', 'been', 'being', 'have', 'has', 'had', 'having', 'do', 'does', 'did', 'doing', 'a', 'an', 'the', 'and', 'but', 'if', 'or', 'because', 'as', 'until', 'while', 'of', 'at', 'by', 'for', 'with', 'about', 'against', 'between', 'into', 'through', 'during', 'before', 'after', 'above', 'below', 'to', 'from', 'up', 'down', 'in', 'out', 'on', 'off', 'over', 'under', 'again', 'further', 'then', 'once', 'here', 'there', 'when', 'where', 'why', 'how', 'all', 'any', 'both', 'each', 'few', 'more', 'most', 'other', 'some', 'such', 'no', 'nor', 'not', 'only', 'own', 'same', 'so', 'than', 'too', 'very', 's', 't', 'can', 'will', 'just', 'don', \"don't\", 'should', \"should've\", 'now', 'd', 'll', 'm', 'o', 're', 've', 'y', 'ain', 'aren', \"aren't\", 'couldn', \"couldn't\", 'didn', \"didn't\", 'doesn', \"doesn't\", 'hadn', \"hadn't\", 'hasn', \"hasn't\", 'haven', \"haven't\", 'isn', \"isn't\", 'ma', 'mightn', \"mightn't\", 'mustn', \"mustn't\", 'needn', \"needn't\", 'shan', \"shan't\", 'shouldn', \"shouldn't\", 'wasn', \"wasn't\", 'weren', \"weren't\", 'won', \"won't\", 'wouldn', \"wouldn't\"]\n"
     ]
    }
   ],
   "source": [
    "print(stopwords.words('english'))"
   ]
  },
  {
   "cell_type": "code",
   "execution_count": 8,
   "id": "996db414-3ee4-4634-9152-593519267799",
   "metadata": {},
   "outputs": [],
   "source": [
    "news_dataset= news_dataset.drop(['title','subject','date'],axis=1)"
   ]
  },
  {
   "cell_type": "code",
   "execution_count": 9,
   "id": "7f3645ca-0d89-4e67-8c51-66454eeef857",
   "metadata": {},
   "outputs": [
    {
     "data": {
      "text/html": [
       "<div>\n",
       "<style scoped>\n",
       "    .dataframe tbody tr th:only-of-type {\n",
       "        vertical-align: middle;\n",
       "    }\n",
       "\n",
       "    .dataframe tbody tr th {\n",
       "        vertical-align: top;\n",
       "    }\n",
       "\n",
       "    .dataframe thead th {\n",
       "        text-align: right;\n",
       "    }\n",
       "</style>\n",
       "<table border=\"1\" class=\"dataframe\">\n",
       "  <thead>\n",
       "    <tr style=\"text-align: right;\">\n",
       "      <th></th>\n",
       "      <th>text</th>\n",
       "      <th>Label</th>\n",
       "    </tr>\n",
       "  </thead>\n",
       "  <tbody>\n",
       "    <tr>\n",
       "      <th>19036</th>\n",
       "      <td>Thank you to the American Mirror for putting t...</td>\n",
       "      <td>1</td>\n",
       "    </tr>\n",
       "    <tr>\n",
       "      <th>14812</th>\n",
       "      <td>UNITED NATIONS (Reuters) - South Sudan s Presi...</td>\n",
       "      <td>0</td>\n",
       "    </tr>\n",
       "    <tr>\n",
       "      <th>3274</th>\n",
       "      <td>The Republican National Committee released a b...</td>\n",
       "      <td>1</td>\n",
       "    </tr>\n",
       "    <tr>\n",
       "      <th>23203</th>\n",
       "      <td>21st Century Wire says In a stunning turn of e...</td>\n",
       "      <td>1</td>\n",
       "    </tr>\n",
       "    <tr>\n",
       "      <th>20208</th>\n",
       "      <td>JAKARTA (Reuters) - Indonesia has issued new r...</td>\n",
       "      <td>0</td>\n",
       "    </tr>\n",
       "    <tr>\n",
       "      <th>...</th>\n",
       "      <td>...</td>\n",
       "      <td>...</td>\n",
       "    </tr>\n",
       "    <tr>\n",
       "      <th>9024</th>\n",
       "      <td>New e-mails obtained by media outlets show tha...</td>\n",
       "      <td>1</td>\n",
       "    </tr>\n",
       "    <tr>\n",
       "      <th>3961</th>\n",
       "      <td>Donald Trump once again bullied NBC correspond...</td>\n",
       "      <td>1</td>\n",
       "    </tr>\n",
       "    <tr>\n",
       "      <th>7987</th>\n",
       "      <td>Sometimes you could wonder if some of the peop...</td>\n",
       "      <td>1</td>\n",
       "    </tr>\n",
       "    <tr>\n",
       "      <th>5052</th>\n",
       "      <td>WASHINGTON (Reuters) - Republicans in the U.S....</td>\n",
       "      <td>0</td>\n",
       "    </tr>\n",
       "    <tr>\n",
       "      <th>21126</th>\n",
       "      <td>Some good news for today! Al Jazeera is dead, ...</td>\n",
       "      <td>1</td>\n",
       "    </tr>\n",
       "  </tbody>\n",
       "</table>\n",
       "<p>44898 rows × 2 columns</p>\n",
       "</div>"
      ],
      "text/plain": [
       "                                                    text  Label\n",
       "19036  Thank you to the American Mirror for putting t...      1\n",
       "14812  UNITED NATIONS (Reuters) - South Sudan s Presi...      0\n",
       "3274   The Republican National Committee released a b...      1\n",
       "23203  21st Century Wire says In a stunning turn of e...      1\n",
       "20208  JAKARTA (Reuters) - Indonesia has issued new r...      0\n",
       "...                                                  ...    ...\n",
       "9024   New e-mails obtained by media outlets show tha...      1\n",
       "3961   Donald Trump once again bullied NBC correspond...      1\n",
       "7987   Sometimes you could wonder if some of the peop...      1\n",
       "5052   WASHINGTON (Reuters) - Republicans in the U.S....      0\n",
       "21126  Some good news for today! Al Jazeera is dead, ...      1\n",
       "\n",
       "[44898 rows x 2 columns]"
      ]
     },
     "execution_count": 9,
     "metadata": {},
     "output_type": "execute_result"
    }
   ],
   "source": [
    "news_dataset"
   ]
  },
  {
   "cell_type": "markdown",
   "id": "03ae12ba-8487-4264-9404-e8ea987507d7",
   "metadata": {},
   "source": [
    "# Stemming text"
   ]
  },
  {
   "cell_type": "markdown",
   "id": "c4060a54-c028-4df8-b498-fba1ebde01b9",
   "metadata": {},
   "source": [
    "#### Stemming is the process of reducing a word to its Root word \n",
    "#### example :\n",
    "##### programmation : programme\n",
    "##### eating : eat \n",
    "##### books : book"
   ]
  },
  {
   "cell_type": "code",
   "execution_count": 10,
   "id": "58e733d5-0553-4225-ac76-1907c34e8412",
   "metadata": {},
   "outputs": [],
   "source": [
    "port_stem = PorterStemmer()"
   ]
  },
  {
   "cell_type": "code",
   "execution_count": 11,
   "id": "88f3f3ca-51b6-42f2-b5a8-2d10e4fc7323",
   "metadata": {},
   "outputs": [],
   "source": [
    "def stemming(content):\n",
    "    strmmed_content = re.sub('[^a-zA-Z]',' ',content)\n",
    "    strmmed_content = strmmed_content.lower() # Characters are lowercase\n",
    "    strmmed_content = strmmed_content.split() # Splits a string into an ordered list of substrings\n",
    "    strmmed_content = [port_stem.stem(word) for word in  strmmed_content   if not word in stopwords.words('english')]\n",
    "    strmmed_content  = ' '.join( strmmed_content )\n",
    "    return  strmmed_content"
   ]
  },
  {
   "cell_type": "code",
   "execution_count": 13,
   "id": "b2d0da78-2abf-47b3-b320-3f33a6820e58",
   "metadata": {},
   "outputs": [],
   "source": [
    "news_dataset['text'] = news_dataset['text'].apply(stemming)"
   ]
  },
  {
   "cell_type": "code",
   "execution_count": 14,
   "id": "e00cd1d7-e0dd-48a5-85ae-cba95e39b9cc",
   "metadata": {},
   "outputs": [
    {
     "name": "stdout",
     "output_type": "stream",
     "text": [
      "19036    thank american mirror put video togeth show na...\n",
      "14812    unit nation reuter south sudan presid salva ki...\n",
      "3274     republican nation committe releas bizarr chris...\n",
      "23203    st centuri wire say stun turn event day presid...\n",
      "20208    jakarta reuter indonesia issu new regul aim cu...\n",
      "                               ...                        \n",
      "9024     new e mail obtain media outlet show coordin ch...\n",
      "3961     donald trump bulli nbc correspond kati tur ral...\n",
      "7987     sometim could wonder peopl run republican nomi...\n",
      "5052     washington reuter republican u congress move r...\n",
      "21126    good news today al jazeera dead gone kaput rem...\n",
      "Name: text, Length: 44898, dtype: object\n"
     ]
    }
   ],
   "source": [
    "print(news_dataset['text'])"
   ]
  },
  {
   "cell_type": "markdown",
   "id": "e4f41947-3cf7-44c4-b015-e99737937385",
   "metadata": {},
   "source": [
    "# Defining dependent and independent variables"
   ]
  },
  {
   "cell_type": "code",
   "execution_count": 15,
   "id": "91f68733-806e-4a00-b999-c775938a3dce",
   "metadata": {},
   "outputs": [],
   "source": [
    "X = news_dataset['text'].values\n",
    "y = news_dataset['Label'].values"
   ]
  },
  {
   "cell_type": "code",
   "execution_count": 16,
   "id": "b42fe023-f5e8-46d4-9f5f-b5a4f8d35821",
   "metadata": {},
   "outputs": [
    {
     "name": "stdout",
     "output_type": "stream",
     "text": [
      "[1 0 1 ... 1 0 1]\n"
     ]
    }
   ],
   "source": [
    "print(y)"
   ]
  },
  {
   "cell_type": "markdown",
   "id": "515e3630-affb-41c7-b7f4-9f36e9e1fc14",
   "metadata": {},
   "source": [
    "# Data Transformation with CountVectorizer()"
   ]
  },
  {
   "cell_type": "markdown",
   "id": "3b93c104-d3f7-4c20-905d-58e18a3baa7f",
   "metadata": {},
   "source": [
    "###          -   converting the textuel data to numerical data"
   ]
  },
  {
   "cell_type": "code",
   "execution_count": 16,
   "id": "48edb9ec-7e2a-4806-8d1e-f9afc7111cdd",
   "metadata": {},
   "outputs": [],
   "source": [
    "from sklearn.feature_extraction.text import CountVectorizer\n",
    "count_vect = CountVectorizer()\n",
    "x = count_vect.fit_transform(X)"
   ]
  },
  {
   "cell_type": "code",
   "execution_count": 17,
   "id": "31bc587f-22a9-49e1-88c2-539d406373ae",
   "metadata": {},
   "outputs": [
    {
     "name": "stdout",
     "output_type": "stream",
     "text": [
      "  (0, 69656)\t1\n",
      "  (0, 17553)\t1\n",
      "  (0, 70983)\t5\n",
      "  (0, 32652)\t14\n",
      "  (0, 14055)\t8\n",
      "  (0, 25213)\t1\n",
      "  (0, 45887)\t1\n",
      "  (0, 73486)\t5\n",
      "  (0, 19352)\t2\n",
      "  (0, 7679)\t1\n",
      "  (0, 33242)\t4\n",
      "  (0, 50943)\t1\n",
      "  (0, 61199)\t1\n",
      "  (0, 48381)\t1\n",
      "  (0, 18277)\t2\n",
      "  (0, 20041)\t2\n",
      "  (0, 31452)\t5\n",
      "  (0, 84920)\t9\n",
      "  (0, 84973)\t1\n",
      "  (0, 641)\t1\n",
      "  (0, 63823)\t1\n",
      "  (0, 14694)\t1\n",
      "  (0, 46258)\t2\n",
      "  (0, 79311)\t1\n",
      "  (0, 26088)\t1\n",
      "  :\t:\n",
      "  (44897, 18359)\t1\n",
      "  (44897, 49762)\t1\n",
      "  (44897, 17898)\t1\n",
      "  (44897, 29588)\t1\n",
      "  (44897, 49795)\t1\n",
      "  (44897, 82998)\t2\n",
      "  (44897, 7527)\t2\n",
      "  (44897, 77156)\t1\n",
      "  (44897, 69066)\t1\n",
      "  (44897, 35858)\t1\n",
      "  (44897, 25957)\t1\n",
      "  (44897, 72136)\t1\n",
      "  (44897, 16341)\t1\n",
      "  (44897, 43368)\t1\n",
      "  (44897, 8879)\t1\n",
      "  (44897, 76731)\t1\n",
      "  (44897, 31609)\t1\n",
      "  (44897, 54382)\t1\n",
      "  (44897, 86185)\t2\n",
      "  (44897, 4060)\t5\n",
      "  (44897, 12957)\t1\n",
      "  (44897, 38219)\t1\n",
      "  (44897, 81494)\t1\n",
      "  (44897, 39031)\t1\n",
      "  (44897, 38960)\t1\n"
     ]
    }
   ],
   "source": [
    "print(x)"
   ]
  },
  {
   "cell_type": "code",
   "execution_count": 18,
   "id": "d123bdf1-9e40-4b35-b6bd-f8bb3cf5a794",
   "metadata": {},
   "outputs": [
    {
     "name": "stdout",
     "output_type": "stream",
     "text": [
      "(44898, 89633)\n"
     ]
    }
   ],
   "source": [
    "print(x.shape)"
   ]
  },
  {
   "cell_type": "markdown",
   "id": "15f93fa0-4c12-4235-80ab-2f463b59bb1f",
   "metadata": {},
   "source": [
    "# Splitting Training and Testing\n"
   ]
  },
  {
   "cell_type": "code",
   "execution_count": 19,
   "id": "3e5d27f9-342e-41b9-97b8-97d23b1858c4",
   "metadata": {},
   "outputs": [],
   "source": [
    "from sklearn.model_selection import train_test_split\n",
    "X_train, X_test, Y_train, Y_test = train_test_split(x, y, test_size = 0.2, stratify=y, random_state=2)"
   ]
  },
  {
   "cell_type": "markdown",
   "id": "59313d37-be31-45d5-a7d7-8d69e5469a74",
   "metadata": {},
   "source": [
    "# Best Model in Machine Learning "
   ]
  },
  {
   "cell_type": "markdown",
   "id": "ed1eeb07-52a1-4cd5-815e-56f5ba349fa6",
   "metadata": {},
   "source": [
    "## ML XGBOOST"
   ]
  },
  {
   "cell_type": "code",
   "execution_count": 20,
   "id": "6a3e2800-ba72-427b-996a-640031580bad",
   "metadata": {},
   "outputs": [],
   "source": [
    "from xgboost import XGBClassifier"
   ]
  },
  {
   "cell_type": "code",
   "execution_count": 21,
   "id": "712e16a3-198a-44a1-8b1a-0405de73c706",
   "metadata": {},
   "outputs": [
    {
     "name": "stderr",
     "output_type": "stream",
     "text": [
      "C:\\Users\\ASUS1\\anaconda3\\lib\\site-packages\\xgboost\\sklearn.py:1224: UserWarning: The use of label encoder in XGBClassifier is deprecated and will be removed in a future release. To remove this warning, do the following: 1) Pass option use_label_encoder=False when constructing XGBClassifier object; and 2) Encode your labels (y) as integers starting with 0, i.e. 0, 1, 2, ..., [num_class - 1].\n",
      "  warnings.warn(label_encoder_deprecation_msg, UserWarning)\n"
     ]
    },
    {
     "name": "stdout",
     "output_type": "stream",
     "text": [
      "[00:27:39] WARNING: C:/Users/Administrator/workspace/xgboost-win64_release_1.5.1/src/learner.cc:1115: Starting in XGBoost 1.3.0, the default evaluation metric used with the objective 'binary:logistic' was changed from 'error' to 'logloss'. Explicitly set eval_metric if you'd like to restore the old behavior.\n"
     ]
    }
   ],
   "source": [
    "xgb = XGBClassifier()\n",
    "tfidf = xgb.fit(X_train,Y_train)"
   ]
  },
  {
   "cell_type": "code",
   "execution_count": 22,
   "id": "1a762035-3aed-4ac2-95bf-50187c51e324",
   "metadata": {},
   "outputs": [
    {
     "name": "stdout",
     "output_type": "stream",
     "text": [
      "Tfidf Vectorizer score : 0.9983296213808464\n"
     ]
    }
   ],
   "source": [
    "from sklearn.metrics import accuracy_score\n",
    "tfidf_val_predict = tfidf.predict( X_test)\n",
    "print('Tfidf Vectorizer score :',accuracy_score(Y_test, tfidf_val_predict))"
   ]
  },
  {
   "cell_type": "code",
   "execution_count": 24,
   "id": "1b41dc26-1f82-4365-b5fe-adbd6d221505",
   "metadata": {},
   "outputs": [
    {
     "name": "stdout",
     "output_type": "stream",
     "text": [
      "Precision =  0.9976575809199318\n",
      "Recall =  0.99914693964598\n",
      "f1_score =  0.998401704848162\n"
     ]
    }
   ],
   "source": [
    "from sklearn.metrics import precision_score\n",
    "from sklearn.metrics import recall_score\n",
    "from sklearn.metrics import f1_score\n",
    "\n",
    "print('Precision = ', precision_score(tfidf_val_predict, Y_test))\n",
    "print('Recall = ', recall_score(tfidf_val_predict, Y_test))\n",
    "print('f1_score = ', f1_score(tfidf_val_predict, Y_test))"
   ]
  },
  {
   "cell_type": "code",
   "execution_count": 25,
   "id": "5f5fc69a-7d2b-49d2-9cc3-39fda6ec2d09",
   "metadata": {},
   "outputs": [
    {
     "data": {
      "image/png": "[encoded data removed]",
      "text/plain": [
       "<Figure size 576x432 with 2 Axes>"
      ]
     },
     "metadata": {
      "needs_background": "light"
     },
     "output_type": "display_data"
    }
   ],
   "source": [
    "from sklearn.metrics import confusion_matrix  \n",
    "import matplotlib.pyplot as plt\n",
    "import seaborn as sns\n",
    "\n",
    "cm = confusion_matrix(Y_test, tfidf_val_predict)\n",
    "cm = pd.DataFrame(cm , index = [i for i in range(2)] , columns = [i for i in range(2)])\n",
    "plt.figure(figsize = (8,6))\n",
    "sns.heatmap(cm,cmap= \"BuPu\", linecolor = 'black' , linewidth = 1 , annot = True, fmt='' , xticklabels=['FAKE', 'TRUE'], yticklabels=['FAKE', 'TRUE'])\n",
    "plt.xlabel('Predicted Label')\n",
    "plt.ylabel('True Label')\n",
    "plt.title('Confusion Matrix for Xgboost')\n",
    "plt.savefig('confision matrix for XGBoost',dpi=300)\n"
   ]
  },
  {
   "cell_type": "code",
   "execution_count": 27,
   "id": "68b021b0-7b04-49c4-be03-8da3022c7924",
   "metadata": {},
   "outputs": [],
   "source": [
    "from sklearn.metrics import roc_curve, roc_auc_score\n",
    "\n",
    "random_probs = [0 for i in range(len(Y_test))]\n",
    "p_fpr, p_tpr, _ = roc_curve(Y_test, random_probs, pos_label=1)\n",
    "pred_prob = xgb.predict_proba(X_test)"
   ]
  },
  {
   "cell_type": "code",
   "execution_count": 28,
   "id": "c16b5189-33bc-4538-9d76-36f9e67b4ad9",
   "metadata": {},
   "outputs": [
    {
     "name": "stdout",
     "output_type": "stream",
     "text": [
      "0.999893054183627\n"
     ]
    }
   ],
   "source": [
    "fpr, tpr, thresh = roc_curve(Y_test, pred_prob[:,1], pos_label=1)\n",
    "# auc scores\n",
    "auc_score = roc_auc_score(Y_test, pred_prob[:,1])\n",
    "print(auc_score)"
   ]
  },
  {
   "cell_type": "code",
   "execution_count": 29,
   "id": "d66bf1d6-43d2-4644-8797-66addb726835",
   "metadata": {},
   "outputs": [
    {
     "data": {
      "image/png": "[encoded data removed]",
      "text/plain": [
       "<Figure size 576x396 with 1 Axes>"
      ]
     },
     "metadata": {},
     "output_type": "display_data"
    }
   ],
   "source": [
    "import matplotlib.pyplot as plt\n",
    "plt.style.use('seaborn')\n",
    "\n",
    "# plot roc curves\n",
    "plt.plot(fpr, tpr, linestyle='--',color='orange', label='XGBOOST')\n",
    "\n",
    "plt.plot(p_fpr, p_tpr, linestyle='--', color='blue')\n",
    "# title\n",
    "plt.title('ROC curve')\n",
    "# x label\n",
    "plt.xlabel('False Positive Rate')\n",
    "# y label\n",
    "plt.ylabel('True Positive rate')\n",
    "\n",
    "plt.legend(loc='best')\n",
    "plt.savefig('roc of XGBOOST ',dpi=300)\n",
    "plt.show();"
   ]
  },
  {
   "cell_type": "markdown",
   "id": "2545ac9b-94cd-4eb0-b2f3-7300a677a443",
   "metadata": {},
   "source": [
    "# Best Deep Learning Models"
   ]
  },
  {
   "cell_type": "markdown",
   "id": "741955ce-9809-4af5-aa4a-e53e5b0c44ce",
   "metadata": {},
   "source": [
    "## MLP"
   ]
  },
  {
   "cell_type": "code",
   "execution_count": 88,
   "id": "a53cbcd5-add7-402e-8a7a-8d445241928b",
   "metadata": {},
   "outputs": [
    {
     "data": {
      "text/plain": [
       "MLPClassifier(activation='tanh', hidden_layer_sizes=(500, 450, 300),\n",
       "              max_iter=800, solver='sgd')"
      ]
     },
     "execution_count": 88,
     "metadata": {},
     "output_type": "execute_result"
    }
   ],
   "source": [
    "from sklearn.neural_network import MLPClassifier\n",
    "\n",
    "mlp_clfMLP = MLPClassifier(hidden_layer_sizes=(500,450,300),\n",
    "                        max_iter = 800,activation = 'tanh',\n",
    "                        solver = 'sgd')\n",
    "\n",
    "mlp_clfMLP.fit(X_train, Y_train)"
   ]
  },
  {
   "cell_type": "code",
   "execution_count": 89,
   "id": "76f25c76-a39a-46cd-add6-d53623852e8c",
   "metadata": {},
   "outputs": [
    {
     "name": "stdout",
     "output_type": "stream",
     "text": [
      "Accuracy: 0.9964365\n"
     ]
    }
   ],
   "source": [
    "y_predMLP= mlp_clfMLP.predict(X_test)\n",
    "\n",
    "print('Accuracy: {:.7f}'.format(accuracy_score(Y_test, y_predMLP)))"
   ]
  },
  {
   "cell_type": "code",
   "execution_count": 90,
   "id": "b9a5188a-9c35-49f7-9885-a3ac57ca03eb",
   "metadata": {},
   "outputs": [
    {
     "name": "stdout",
     "output_type": "stream",
     "text": [
      "Precision =  0.9965928449744463\n",
      "Recall =  0.9965928449744463\n",
      "f1_score =  0.9965928449744463\n"
     ]
    }
   ],
   "source": [
    "print('Precision = ', precision_score(y_predMLP, Y_test))\n",
    "print('Recall = ', recall_score(y_predMLP, Y_test))\n",
    "print('f1_score = ', f1_score(y_predMLP, Y_test))"
   ]
  },
  {
   "cell_type": "code",
   "execution_count": 91,
   "id": "ebd002e4-b0e3-4c67-a035-f43cb83f589f",
   "metadata": {},
   "outputs": [
    {
     "data": {
      "image/png": "[encoded data removed]",
      "text/plain": [
       "<Figure size 576x432 with 2 Axes>"
      ]
     },
     "metadata": {
      "needs_background": "light"
     },
     "output_type": "display_data"
    }
   ],
   "source": [
    "cm = confusion_matrix(Y_test, y_predMLP)\n",
    "cm = pd.DataFrame(cm , index = [i for i in range(2)] , columns = [i for i in range(2)])\n",
    "plt.figure(figsize = (8,6))\n",
    "sns.heatmap(cm,cmap= \"Purples\", linecolor = 'black' , linewidth = 1 , annot = True, fmt='' , xticklabels=['FAKE', 'TRUE'], yticklabels=['FAKE', 'TRUE'])\n",
    "plt.xlabel('Predicted Label')\n",
    "plt.ylabel('True Label')\n",
    "\n",
    "plt.savefig('confusion matrix for MLP',dpi=300)"
   ]
  },
  {
   "cell_type": "code",
   "execution_count": 94,
   "id": "b1371e95-2e95-428e-888f-2f9de85136fa",
   "metadata": {},
   "outputs": [
    {
     "data": {
      "image/png": "[encoded data removed]",
      "text/plain": [
       "<Figure size 432x288 with 1 Axes>"
      ]
     },
     "metadata": {
      "needs_background": "light"
     },
     "output_type": "display_data"
    }
   ],
   "source": [
    "plt.plot(mlp_clfMLP.loss_curve_)\n",
    "plt.title(\"Loss Curve\", fontsize=14)\n",
    "plt.xlabel('Iterations')\n",
    "plt.ylabel('Cost')\n",
    "plt.show()"
   ]
  },
  {
   "cell_type": "markdown",
   "id": "47882eac-eb31-4d25-b0f6-22fd080756f3",
   "metadata": {},
   "source": [
    "## Tensorflow"
   ]
  },
  {
   "cell_type": "code",
   "execution_count": 65,
   "id": "08a8dff7-bc59-4781-9192-e31206671f86",
   "metadata": {},
   "outputs": [],
   "source": [
    "from sklearn.feature_extraction.text import CountVectorizer\n",
    "count_vect = CountVectorizer(max_features=600)\n",
    "x = count_vect.fit_transform(X).toarray()"
   ]
  },
  {
   "cell_type": "code",
   "execution_count": 66,
   "id": "e0021fdf-e3ec-4811-b952-08cc2a849e6c",
   "metadata": {},
   "outputs": [],
   "source": [
    "X_train2, X_test2, Y_train2, Y_test2 = train_test_split(x, y, test_size = 0.2, random_state=2)"
   ]
  },
  {
   "cell_type": "code",
   "execution_count": 67,
   "id": "0066cd57-d420-42f1-b847-f75e11eafba9",
   "metadata": {},
   "outputs": [
    {
     "data": {
      "text/plain": [
       "600"
      ]
     },
     "execution_count": 67,
     "metadata": {},
     "output_type": "execute_result"
    }
   ],
   "source": [
    "from tensorflow.keras import Sequential\n",
    "from tensorflow.keras.layers import Dense\n",
    "max_features = X_train2.shape[1]\n",
    "max_features"
   ]
  },
  {
   "cell_type": "code",
   "execution_count": 68,
   "id": "e4032241-1985-4b50-89a5-f85e29a4a133",
   "metadata": {},
   "outputs": [],
   "source": [
    "#Building Model\n",
    "model_Tensorflow = Sequential()\n",
    "model_Tensorflow.add(Dense(150, activation='tanh', kernel_initializer='he_normal', input_shape=(max_features,)))\n",
    "model_Tensorflow.add(Dense(100, activation='tanh', kernel_initializer='he_normal'))\n",
    "model_Tensorflow.add(Dense(50, activation='tanh', kernel_initializer='he_normal'))\n",
    "model_Tensorflow.add(Dense(10, activation='tanh', kernel_initializer='he_normal'))\n",
    "model_Tensorflow.add(Dense(1, activation='sigmoid'))\n"
   ]
  },
  {
   "cell_type": "code",
   "execution_count": 70,
   "id": "55134c60-0aae-49da-b35d-5d0c9afe6c16",
   "metadata": {},
   "outputs": [],
   "source": [
    "#Compile The Model\n",
    "model_Tensorflow.compile(optimizer='adam', loss='binary_crossentropy', metrics=['accuracy'])"
   ]
  },
  {
   "cell_type": "code",
   "execution_count": 71,
   "id": "f5ffc87f-edb8-4690-a6c2-f0aa572ec4bd",
   "metadata": {},
   "outputs": [
    {
     "name": "stdout",
     "output_type": "stream",
     "text": [
      "Epoch 1/50\n",
      "1123/1123 [==============================] - 4s 3ms/step - loss: 0.0613 - accuracy: 0.9805\n",
      "Epoch 2/50\n",
      "1123/1123 [==============================] - 3s 3ms/step - loss: 0.0242 - accuracy: 0.9936\n",
      "Epoch 3/50\n",
      "1123/1123 [==============================] - 3s 3ms/step - loss: 0.0162 - accuracy: 0.9954\n",
      "Epoch 4/50\n",
      "1123/1123 [==============================] - 3s 3ms/step - loss: 0.0122 - accuracy: 0.9963\n",
      "Epoch 5/50\n",
      "1123/1123 [==============================] - 4s 3ms/step - loss: 0.0085 - accuracy: 0.9977\n",
      "Epoch 6/50\n",
      "1123/1123 [==============================] - 4s 3ms/step - loss: 0.0065 - accuracy: 0.9982\n",
      "Epoch 7/50\n",
      "1123/1123 [==============================] - 3s 3ms/step - loss: 0.0077 - accuracy: 0.9975\n",
      "Epoch 8/50\n",
      "1123/1123 [==============================] - 3s 3ms/step - loss: 0.0041 - accuracy: 0.9988\n",
      "Epoch 9/50\n",
      "1123/1123 [==============================] - 3s 3ms/step - loss: 0.0039 - accuracy: 0.9989\n",
      "Epoch 10/50\n",
      "1123/1123 [==============================] - 4s 3ms/step - loss: 0.0035 - accuracy: 0.9991\n",
      "Epoch 11/50\n",
      "1123/1123 [==============================] - 3s 3ms/step - loss: 0.0035 - accuracy: 0.9989\n",
      "Epoch 12/50\n",
      "1123/1123 [==============================] - 4s 3ms/step - loss: 0.0033 - accuracy: 0.9989\n",
      "Epoch 13/50\n",
      "1123/1123 [==============================] - 3s 3ms/step - loss: 8.6854e-04 - accuracy: 0.9998\n",
      "Epoch 14/50\n",
      "1123/1123 [==============================] - 4s 3ms/step - loss: 3.6577e-04 - accuracy: 1.0000\n",
      "Epoch 15/50\n",
      "1123/1123 [==============================] - 3s 3ms/step - loss: 3.4444e-04 - accuracy: 1.0000\n",
      "Epoch 16/50\n",
      "1123/1123 [==============================] - 3s 2ms/step - loss: 3.3708e-04 - accuracy: 1.0000\n",
      "Epoch 17/50\n",
      "1123/1123 [==============================] - 3s 3ms/step - loss: 3.3453e-04 - accuracy: 1.0000\n",
      "Epoch 18/50\n",
      "1123/1123 [==============================] - 3s 3ms/step - loss: 3.2864e-04 - accuracy: 1.0000\n",
      "Epoch 19/50\n",
      "1123/1123 [==============================] - 3s 3ms/step - loss: 3.2872e-04 - accuracy: 1.0000\n",
      "Epoch 20/50\n",
      "1123/1123 [==============================] - 3s 3ms/step - loss: 3.2847e-04 - accuracy: 1.0000\n",
      "Epoch 21/50\n",
      "1123/1123 [==============================] - 3s 3ms/step - loss: 3.2949e-04 - accuracy: 1.0000\n",
      "Epoch 22/50\n",
      "1123/1123 [==============================] - 3s 3ms/step - loss: 3.2791e-04 - accuracy: 1.0000\n",
      "Epoch 23/50\n",
      "1123/1123 [==============================] - 3s 3ms/step - loss: 3.2593e-04 - accuracy: 1.0000\n",
      "Epoch 24/50\n",
      "1123/1123 [==============================] - 4s 3ms/step - loss: 3.2335e-04 - accuracy: 1.0000\n",
      "Epoch 25/50\n",
      "1123/1123 [==============================] - 4s 3ms/step - loss: 3.2371e-04 - accuracy: 1.0000\n",
      "Epoch 26/50\n",
      "1123/1123 [==============================] - 4s 3ms/step - loss: 3.2216e-04 - accuracy: 1.0000\n",
      "Epoch 27/50\n",
      "1123/1123 [==============================] - 4s 3ms/step - loss: 3.2404e-04 - accuracy: 1.0000\n",
      "Epoch 28/50\n",
      "1123/1123 [==============================] - 3s 3ms/step - loss: 0.0013 - accuracy: 0.9998\n",
      "Epoch 29/50\n",
      "1123/1123 [==============================] - 4s 3ms/step - loss: 0.0087 - accuracy: 0.9975\n",
      "Epoch 30/50\n",
      "1123/1123 [==============================] - 3s 3ms/step - loss: 0.0015 - accuracy: 0.9996\n",
      "Epoch 31/50\n",
      "1123/1123 [==============================] - 3s 3ms/step - loss: 8.5693e-04 - accuracy: 0.9998\n",
      "Epoch 32/50\n",
      "1123/1123 [==============================] - 3s 3ms/step - loss: 3.5142e-04 - accuracy: 1.0000\n",
      "Epoch 33/50\n",
      "1123/1123 [==============================] - 4s 3ms/step - loss: 3.1378e-04 - accuracy: 1.0000\n",
      "Epoch 34/50\n",
      "1123/1123 [==============================] - 4s 4ms/step - loss: 2.6884e-04 - accuracy: 1.0000\n",
      "Epoch 35/50\n",
      "1123/1123 [==============================] - 4s 4ms/step - loss: 3.2224e-04 - accuracy: 1.0000\n",
      "Epoch 36/50\n",
      "1123/1123 [==============================] - 4s 4ms/step - loss: 2.7887e-04 - accuracy: 1.0000\n",
      "Epoch 37/50\n",
      "1123/1123 [==============================] - 4s 4ms/step - loss: 2.5917e-04 - accuracy: 1.0000\n",
      "Epoch 38/50\n",
      "1123/1123 [==============================] - 4s 4ms/step - loss: 2.7681e-04 - accuracy: 1.0000\n",
      "Epoch 39/50\n",
      "1123/1123 [==============================] - 4s 3ms/step - loss: 2.5709e-04 - accuracy: 1.0000\n",
      "Epoch 40/50\n",
      "1123/1123 [==============================] - 3s 3ms/step - loss: 2.5243e-04 - accuracy: 1.0000\n",
      "Epoch 41/50\n",
      "1123/1123 [==============================] - 4s 3ms/step - loss: 2.5110e-04 - accuracy: 1.0000\n",
      "Epoch 42/50\n",
      "1123/1123 [==============================] - 4s 4ms/step - loss: 0.0037 - accuracy: 0.9991\n",
      "Epoch 43/50\n",
      "1123/1123 [==============================] - 4s 3ms/step - loss: 0.0065 - accuracy: 0.9983\n",
      "Epoch 44/50\n",
      "1123/1123 [==============================] - 4s 3ms/step - loss: 0.0015 - accuracy: 0.9996\n",
      "Epoch 45/50\n",
      "1123/1123 [==============================] - 4s 3ms/step - loss: 5.3465e-04 - accuracy: 0.9999\n",
      "Epoch 46/50\n",
      "1123/1123 [==============================] - 4s 4ms/step - loss: 0.0013 - accuracy: 0.9997\n",
      "Epoch 47/50\n",
      "1123/1123 [==============================] - 3s 3ms/step - loss: 0.0012 - accuracy: 0.9996\n",
      "Epoch 48/50\n",
      "1123/1123 [==============================] - 4s 3ms/step - loss: 0.0010 - accuracy: 0.9998\n",
      "Epoch 49/50\n",
      "1123/1123 [==============================] - 3s 3ms/step - loss: 7.8613e-04 - accuracy: 0.9999\n",
      "Epoch 50/50\n",
      "1123/1123 [==============================] - 3s 3ms/step - loss: 2.5831e-04 - accuracy: 1.0000\n"
     ]
    },
    {
     "data": {
      "text/plain": [
       "<keras.callbacks.History at 0x22bcc8b20a0>"
      ]
     },
     "execution_count": 71,
     "metadata": {},
     "output_type": "execute_result"
    }
   ],
   "source": [
    "#Fit The Model\n",
    "model_Tensorflow.fit(X_train2, Y_train2, epochs=50, batch_size=32,verbose=1)"
   ]
  },
  {
   "cell_type": "code",
   "execution_count": 72,
   "id": "7baab4db-ea8c-495e-adab-d95e5b9c682a",
   "metadata": {},
   "outputs": [
    {
     "name": "stdout",
     "output_type": "stream",
     "text": [
      "281/281 [==============================] - 1s 2ms/step - loss: 0.0282 - accuracy: 0.9962\n",
      "Test Accuracy: 0.996214\n"
     ]
    }
   ],
   "source": [
    "loss2, acc2 = model_Tensorflow.evaluate(X_test2, Y_test2, verbose=1)\n",
    "print('Test Accuracy: %.6f' % acc2)"
   ]
  },
  {
   "cell_type": "code",
   "execution_count": null,
   "id": "07399859-c2d0-4755-b40a-b36e37884211",
   "metadata": {},
   "outputs": [],
   "source": []
  },
  {
   "cell_type": "code",
   "execution_count": 73,
   "id": "0cfb75ab-6593-4833-b2cc-ff6db5344e62",
   "metadata": {},
   "outputs": [],
   "source": [
    "y_pred=model_Tensorflow.predict(X_test2)\n",
    "\n",
    "binary_predictions =[]\n",
    "\n",
    "for i in y_pred:\n",
    "    if i >=0.5:\n",
    "        binary_predictions.append(1)\n",
    "    else:\n",
    "        binary_predictions.append(0)"
   ]
  },
  {
   "cell_type": "code",
   "execution_count": 74,
   "id": "2c17abd3-1e57-407c-8d61-4e752af552ac",
   "metadata": {},
   "outputs": [
    {
     "name": "stdout",
     "output_type": "stream",
     "text": [
      "Model accuracy is  99.62138084632517\n",
      "Model precision is  99.61554891072191\n",
      "Model recall is  99.65811965811966\n",
      "Model f1_score is  99.63682973723564\n"
     ]
    }
   ],
   "source": [
    "# Importing metrics\n",
    "from sklearn.metrics import confusion_matrix, accuracy_score, precision_score, recall_score, f1_score\n",
    "\n",
    "print(\"Model accuracy is \",accuracy_score(binary_predictions,Y_test2)*100)\n",
    "print(\"Model precision is \",precision_score(binary_predictions,Y_test2)*100)\n",
    "print(\"Model recall is \",recall_score(binary_predictions,Y_test2)*100)\n",
    "print(\"Model f1_score is \",f1_score(binary_predictions,Y_test2)*100)"
   ]
  },
  {
   "cell_type": "code",
   "execution_count": 75,
   "id": "10319ecd-1425-490e-903e-bcc9e8fb3dab",
   "metadata": {},
   "outputs": [
    {
     "data": {
      "image/png": "[encoded data removed]",
      "text/plain": [
       "<Figure size 576x432 with 2 Axes>"
      ]
     },
     "metadata": {
      "needs_background": "light"
     },
     "output_type": "display_data"
    }
   ],
   "source": [
    "cm = confusion_matrix(Y_test2, binary_predictions)\n",
    "cm = pd.DataFrame(cm , index = [i for i in range(2)] , columns = [i for i in range(2)])\n",
    "plt.figure(figsize = (8,6))\n",
    "sns.heatmap(cm,cmap= \"Purples\", linecolor = 'black' , linewidth = 3 , annot = True, fmt='' , xticklabels=['FAKE', 'TRUE'], yticklabels=['FAKE', 'TRUE'])\n",
    "plt.xlabel('Predicted Label')\n",
    "plt.ylabel('True Label')\n",
    "#plt.title('Confusion Matrix for tensorflow')\n",
    "plt.savefig('confusion matrix for tensorflow 5',dpi=300)"
   ]
  },
  {
   "cell_type": "markdown",
   "id": "9f783630-69e6-47aa-b779-eea8935afcfb",
   "metadata": {},
   "source": [
    "## Pytorch"
   ]
  },
  {
   "cell_type": "code",
   "execution_count": 24,
   "id": "e33499c9-be15-4b58-9464-d9837352f379",
   "metadata": {},
   "outputs": [],
   "source": [
    "import torch\n",
    "import torch.nn as nn"
   ]
  },
  {
   "cell_type": "code",
   "execution_count": 25,
   "id": "23c9ace1-7a55-4b35-8391-fce85afbd1dd",
   "metadata": {},
   "outputs": [
    {
     "name": "stdout",
     "output_type": "stream",
     "text": [
      "Finished\n"
     ]
    }
   ],
   "source": [
    "vectorizer_text = CountVectorizer(stop_words=\"english\",max_features=8000)\n",
    "text_matrix = vectorizer_text.fit_transform(X).toarray()\n",
    "print(\"Finished\")"
   ]
  },
  {
   "cell_type": "code",
   "execution_count": 26,
   "id": "39df63fc-efb2-4757-bd18-a5f32e6b876e",
   "metadata": {},
   "outputs": [
    {
     "name": "stdout",
     "output_type": "stream",
     "text": [
      "(44898, 2)\n",
      "(44898, 8000)\n"
     ]
    }
   ],
   "source": [
    "print(news_dataset.shape)\n",
    "\n",
    "print(text_matrix.shape)\n",
    "\n",
    "# Creating Y\n",
    "y = news_dataset.Label\n",
    "\n",
    "# Creating X\n",
    "x=text_matrix"
   ]
  },
  {
   "cell_type": "code",
   "execution_count": 27,
   "id": "9664cdca-ad7f-4f6e-bf54-0e05227de138",
   "metadata": {},
   "outputs": [
    {
     "name": "stdout",
     "output_type": "stream",
     "text": [
      "(35918, 8000)\n",
      "(8980, 8000)\n",
      "(35918,)\n",
      "(8980,)\n"
     ]
    }
   ],
   "source": [
    "\n",
    "from sklearn.model_selection import train_test_split\n",
    "\n",
    "# Train Test Split\n",
    "X_train,X_test,Y_train,Y_test = train_test_split(x,np.array(y),test_size=0.2,random_state=2)\n",
    "print(X_train.shape)\n",
    "print(X_test.shape)\n",
    "print(Y_train.shape)\n",
    "print(Y_test.shape)"
   ]
  },
  {
   "cell_type": "code",
   "execution_count": 28,
   "id": "a5d3dce7-3636-4449-a7ae-c572bbf4134f",
   "metadata": {},
   "outputs": [],
   "source": [
    "import torch.nn as nn\n",
    "\n",
    "class ANN(nn.Module):\n",
    "    def __init__(self):\n",
    "        super(ANN,self).__init__() # Inhertiting\n",
    "        \n",
    "        self.linear1 = nn.Linear(8000,6000) # IN 8000 OUT 6000\n",
    "        self.relu1 = nn.ReLU() # activation function 1\n",
    "        \n",
    "        self.linear2 = nn.Linear(6000,3000) # IN 6000 OUT 3000\n",
    "        self.relu2 = nn.ReLU() # activation function 2\n",
    "        \n",
    "        self.linear3 = nn.Linear(3000,1000) # IN 3000 OUT 1000\n",
    "        self.relu3 = nn.ReLU() # activation function 3\n",
    "        \n",
    "        self.linear4 = nn.Linear(1000,100) # IN 1000 OUT 100\n",
    "        self.relu4 = nn.ReLU() # activation function 4\n",
    "        \n",
    "        self.linear5 = nn.Linear(100,20) # IN 100 OUT 20\n",
    "        self.relu5 = nn.ReLU() # activation function 5\n",
    "        \n",
    "        self.linear6 = nn.Linear(20,2) # IN 20 OUT 2 | OUTPUT  \n",
    "    \n",
    "    def forward(self,x):\n",
    "        out = self.linear1(x) # Input Layer \n",
    "        out = self.relu1(out)\n",
    "        \n",
    "        out = self.linear2(out) # Hidden Layer 1 \n",
    "        out = self.relu2(out)\n",
    "        \n",
    "        out = self.linear3(out) # Hidden Layer 2 \n",
    "        out = self.relu3(out)\n",
    "        \n",
    "        out = self.linear4(out) # Hidden Layer 3 \n",
    "        out = self.relu4(out)\n",
    "        \n",
    "        out = self.linear5(out) # Hidden Layer 4\n",
    "        out = self.relu5(out)\n",
    "        \n",
    "        out = self.linear6(out) # Output Layer\n",
    "        \n",
    "        return out\n",
    "\n",
    "model = ANN()\n",
    "optimizer = torch.optim.Adam(model.parameters(),lr=0.01)\n",
    "error = nn.CrossEntropyLoss() #binary_crossentropy\n"
   ]
  },
  {
   "cell_type": "code",
   "execution_count": 29,
   "id": "533614b1-24c6-4b95-aeaa-572f12f65b0c",
   "metadata": {},
   "outputs": [
    {
     "name": "stdout",
     "output_type": "stream",
     "text": [
      "Loss after iteration 0 is 0.692341685295105\n",
      "Loss after iteration 1 is 51.847320556640625\n",
      "Loss after iteration 2 is 24.231130599975586\n",
      "Loss after iteration 3 is 1.1654441356658936\n",
      "Loss after iteration 4 is 3.002622365951538\n",
      "Loss after iteration 5 is 0.4913569390773773\n",
      "Loss after iteration 6 is 0.3809521198272705\n",
      "Loss after iteration 7 is 0.3361324369907379\n",
      "Loss after iteration 8 is 0.20756351947784424\n",
      "Loss after iteration 9 is 0.28264811635017395\n",
      "Loss after iteration 10 is 0.14120054244995117\n",
      "Loss after iteration 11 is 0.16041211783885956\n",
      "Loss after iteration 12 is 0.14502209424972534\n",
      "Loss after iteration 13 is 0.10261676460504532\n",
      "Loss after iteration 14 is 0.09262830764055252\n",
      "Loss after iteration 15 is 0.08172986656427383\n",
      "Loss after iteration 16 is 0.054974425584077835\n",
      "Loss after iteration 17 is 0.0437433160841465\n",
      "Loss after iteration 18 is 0.04041017219424248\n",
      "Loss after iteration 19 is 0.03506314754486084\n",
      "Loss after iteration 20 is 0.027664797380566597\n",
      "Loss after iteration 21 is 0.02483021654188633\n",
      "Loss after iteration 22 is 0.017683478072285652\n",
      "Loss after iteration 23 is 0.012999018654227257\n",
      "Loss after iteration 24 is 0.009978952817618847\n",
      "Loss after iteration 25 is 0.007591679692268372\n",
      "Loss after iteration 26 is 0.005919373128563166\n",
      "Loss after iteration 27 is 0.004286210052669048\n",
      "Loss after iteration 28 is 0.0030270058196038008\n",
      "Loss after iteration 29 is 0.002132411114871502\n",
      "Loss after iteration 30 is 0.001492185052484274\n",
      "Loss after iteration 31 is 0.0010939511703327298\n",
      "Loss after iteration 32 is 0.0008442072430625558\n",
      "Loss after iteration 33 is 0.0006734789931215346\n",
      "Loss after iteration 34 is 0.0005750023992732167\n",
      "Loss after iteration 35 is 0.0005045838770456612\n",
      "Loss after iteration 36 is 0.0004790226521436125\n",
      "Loss after iteration 37 is 0.001998340245336294\n",
      "Loss after iteration 38 is 0.0008712688577361405\n",
      "Loss after iteration 39 is 0.0013271841453388333\n",
      "Loss after iteration 40 is 0.0014229953521862626\n",
      "Loss after iteration 41 is 0.0013149392325431108\n",
      "Loss after iteration 42 is 0.000660597812384367\n",
      "Loss after iteration 43 is 0.0003351484483573586\n",
      "Loss after iteration 44 is 0.0020057763904333115\n",
      "Loss after iteration 45 is 0.0013515083119273186\n",
      "Loss after iteration 46 is 0.0003137246530968696\n",
      "Loss after iteration 47 is 0.00065790576627478\n",
      "Loss after iteration 48 is 0.0010010843398049474\n",
      "Loss after iteration 49 is 0.0008402804378420115\n",
      "Loss after iteration 50 is 0.0003168918483424932\n",
      "Loss after iteration 51 is 0.0002943594299722463\n",
      "Loss after iteration 52 is 0.0003162724315188825\n",
      "Loss after iteration 53 is 0.0006787052843719721\n",
      "Loss after iteration 54 is 0.0004398054152261466\n",
      "Loss after iteration 55 is 0.0002787572448141873\n",
      "Loss after iteration 56 is 0.000275543105090037\n",
      "Loss after iteration 57 is 0.00030172933475114405\n",
      "Loss after iteration 58 is 0.00048224287456832826\n",
      "Loss after iteration 59 is 0.0004000872722826898\n",
      "Loss after iteration 60 is 0.00027443887665867805\n",
      "Loss after iteration 61 is 0.00026919535594061017\n",
      "Loss after iteration 62 is 0.00026582859572954476\n",
      "Loss after iteration 63 is 0.00026492500910535455\n",
      "Loss after iteration 64 is 0.00026305275969207287\n",
      "Loss after iteration 65 is 0.00026053638430312276\n",
      "Loss after iteration 66 is 0.000256531493505463\n",
      "Loss after iteration 67 is 0.0002523059374652803\n",
      "Loss after iteration 68 is 0.000248556345468387\n",
      "Loss after iteration 69 is 0.0002452522167004645\n",
      "Loss after iteration 70 is 0.00024235647288151085\n",
      "Loss after iteration 71 is 0.0002398197539150715\n",
      "Loss after iteration 72 is 0.00027393829077482224\n",
      "Loss after iteration 73 is 0.00023574288934469223\n",
      "Loss after iteration 74 is 0.00023609820345882326\n",
      "Loss after iteration 75 is 0.00024082977324724197\n",
      "Loss after iteration 76 is 0.0002670212124940008\n",
      "Loss after iteration 77 is 0.00026534858625382185\n",
      "Loss after iteration 78 is 0.00023579277331009507\n",
      "Loss after iteration 79 is 0.00023224399774335325\n",
      "Loss after iteration 80 is 0.0002305204834556207\n",
      "Loss after iteration 81 is 0.0002296066959388554\n",
      "Loss after iteration 82 is 0.00022868979431223124\n",
      "Loss after iteration 83 is 0.00022792455274611712\n",
      "Loss after iteration 84 is 0.00022724959126207978\n",
      "Loss after iteration 85 is 0.00022666752920486033\n",
      "Loss after iteration 86 is 0.00022618866933044046\n",
      "Loss after iteration 87 is 0.00022582558449357748\n",
      "Loss after iteration 88 is 0.00022557647025678307\n",
      "Loss after iteration 89 is 0.00022541855287272483\n",
      "Loss after iteration 90 is 0.00022532150615006685\n",
      "Loss after iteration 91 is 0.00022523313236888498\n",
      "Loss after iteration 92 is 0.00022511344286613166\n",
      "Loss after iteration 93 is 0.0002249516692245379\n",
      "Loss after iteration 94 is 0.00024238821060862392\n",
      "Loss after iteration 95 is 0.0002249276585644111\n",
      "Loss after iteration 96 is 0.00022636707581114024\n",
      "Loss after iteration 97 is 0.0002271951816510409\n",
      "Loss after iteration 98 is 0.0002465826692059636\n",
      "Loss after iteration 99 is 0.0002461735566612333\n",
      "Loss after iteration 100 is 0.0002272939746035263\n",
      "Loss after iteration 101 is 0.00022738367260899395\n",
      "Loss after iteration 102 is 0.00022768712369725108\n",
      "Loss after iteration 103 is 0.00022778919083066285\n",
      "Loss after iteration 104 is 0.00022746549802832305\n",
      "Loss after iteration 105 is 0.00022696286032442003\n",
      "Loss after iteration 106 is 0.00022651636390946805\n",
      "Loss after iteration 107 is 0.00022614886984229088\n",
      "Loss after iteration 108 is 0.00022584589896723628\n",
      "Loss after iteration 109 is 0.00022558825730811805\n",
      "Loss after iteration 110 is 0.00022537208860740066\n",
      "Loss after iteration 111 is 0.0002251930709462613\n",
      "Loss after iteration 112 is 0.00024794452474452555\n",
      "Loss after iteration 113 is 0.00022464655921794474\n",
      "Loss after iteration 114 is 0.0002433320478303358\n",
      "Loss after iteration 115 is 0.000244512950303033\n",
      "Loss after iteration 116 is 0.0004465266829356551\n",
      "Loss after iteration 117 is 0.0002446103608235717\n",
      "Loss after iteration 118 is 0.00023690458328928798\n",
      "Loss after iteration 119 is 0.0002229805977549404\n",
      "Loss after iteration 120 is 0.0006212203297764063\n",
      "Loss after iteration 121 is 0.00022319627169054002\n",
      "Loss after iteration 122 is 0.00024065590696409345\n",
      "Loss after iteration 123 is 0.0002569770731497556\n",
      "Loss after iteration 124 is 0.0002485383884049952\n",
      "Loss after iteration 125 is 0.0002332347066840157\n",
      "Loss after iteration 126 is 0.00023145583691075444\n",
      "Loss after iteration 127 is 0.00022931276180315763\n",
      "Loss after iteration 128 is 0.00022739266569260508\n",
      "Loss after iteration 129 is 0.0002260859910165891\n",
      "Loss after iteration 130 is 0.0005896205548197031\n",
      "Loss after iteration 131 is 0.00022431077377405018\n",
      "Loss after iteration 132 is 0.00024342841061297804\n",
      "Loss after iteration 133 is 0.00026296236319467425\n",
      "Loss after iteration 134 is 0.00024967544595710933\n",
      "Loss after iteration 135 is 0.00030813776538707316\n",
      "Loss after iteration 136 is 0.0002689492248464376\n",
      "Loss after iteration 137 is 0.00023095791402738541\n",
      "Loss after iteration 138 is 0.00029146583983674645\n",
      "Loss after iteration 139 is 0.00022267605527304113\n",
      "Loss after iteration 140 is 0.00024476274847984314\n",
      "Loss after iteration 141 is 0.0002678275341168046\n",
      "Loss after iteration 142 is 0.00025221722899004817\n",
      "Loss after iteration 143 is 0.00027253825101070106\n",
      "Loss after iteration 144 is 0.00026845798129215837\n",
      "Loss after iteration 145 is 0.0002660584868863225\n",
      "Loss after iteration 146 is 0.0002655245189089328\n",
      "Loss after iteration 147 is 0.0002650618553161621\n",
      "Loss after iteration 148 is 0.0002646222128532827\n",
      "Loss after iteration 149 is 0.00026426982367411256\n"
     ]
    }
   ],
   "source": [
    "# Converting numpy arrays into pytorch tensors\n",
    "X_train = torch.Tensor(X_train)\n",
    "\n",
    "# You must convert it into LongTensor. I did it once\n",
    "Y_train = torch.Tensor(Y_train).type(torch.LongTensor)\n",
    "\n",
    "X_test = torch.Tensor(X_test)\n",
    "Y_test = torch.Tensor(Y_test)\n",
    "\n",
    "EPOCHS = 150\n",
    "\n",
    "for epoch in range(EPOCHS):\n",
    "    \n",
    "    # Clearing gradients\n",
    "    optimizer.zero_grad()\n",
    "    \n",
    "    # Forward Propagation\n",
    "    outs = model(X_train)\n",
    "    \n",
    "    # Computing Loss\n",
    "    loss = error(outs,Y_train)\n",
    "    \n",
    "    # Backward propagation\n",
    "    loss.backward()\n",
    "    \n",
    "    # Updating parameters\n",
    "    optimizer.step()\n",
    "    \n",
    "    # Printing loss\n",
    "    print(f\"Loss after iteration {epoch} is {loss}\")"
   ]
  },
  {
   "cell_type": "code",
   "execution_count": 30,
   "id": "22e8b38c-6093-4b80-bd73-064e7e7c40e6",
   "metadata": {},
   "outputs": [
    {
     "name": "stdout",
     "output_type": "stream",
     "text": [
      "tensor([106.7690,  28.8046], grad_fn=<SelectBackward0>)\n",
      "tensor(0)\n",
      " accuracy =  98.88641425389754\n",
      " precision =  99.39694163256515\n",
      " recall =  98.46383614252187\n",
      " f1_score =  98.92818863879957\n"
     ]
    }
   ],
   "source": [
    "from sklearn.metrics import confusion_matrix,accuracy_score,precision_score,recall_score,f1_score\n",
    "\n",
    "# Prediction\n",
    "y_head = model(X_test)\n",
    "print(y_head[0])\n",
    "\n",
    "# Converting Prediction into labels\n",
    "y_pred = torch.max(y_head,1)[1]\n",
    "print(y_pred[0])\n",
    "\n",
    "# Accuracy score\n",
    "print(\" accuracy = \",accuracy_score(y_pred,Y_test)*100)\n",
    "print(\" precision = \",precision_score(y_pred,Y_test)*100)\n",
    "print(\" recall = \",recall_score(y_pred,Y_test)*100)\n",
    "print(\" f1_score = \",f1_score(y_pred,Y_test)*100)"
   ]
  },
  {
   "cell_type": "code",
   "execution_count": 34,
   "id": "f758e30c-e99a-43f3-a6fe-fb6337fee546",
   "metadata": {},
   "outputs": [
    {
     "data": {
      "image/png": "[encoded data removed]",
      "text/plain": [
       "<Figure size 576x432 with 2 Axes>"
      ]
     },
     "metadata": {
      "needs_background": "light"
     },
     "output_type": "display_data"
    }
   ],
   "source": [
    "confusion_matrix = confusion_matrix(y_pred=y_pred,y_true=Y_test) #y_true=y_test\n",
    "fig,ax = plt.subplots(figsize=(8,6))\n",
    "sns.heatmap(confusion_matrix,cmap= \"Purples\", linecolor = 'black' ,annot=True,fmt=\" \",linewidths=2,xticklabels=['FAKE', 'TRUE'], yticklabels=['FAKE', 'TRUE'])\n",
    "plt.show()"
   ]
  }
 ],
 "metadata": {
  "kernelspec": {
   "display_name": "Python 3",
   "language": "python",
   "name": "python3"
  },
  "language_info": {
   "codemirror_mode": {
    "name": "ipython",
    "version": 3
   },
   "file_extension": ".py",
   "mimetype": "text/x-python",
   "name": "python",
   "nbconvert_exporter": "python",
   "pygments_lexer": "ipython3",
   "version": "3.8.8"
  }
 },
 "nbformat": 4,
 "nbformat_minor": 5
}
