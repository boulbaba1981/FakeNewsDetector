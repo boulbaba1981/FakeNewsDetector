{
 "cells": [
  {
   "cell_type": "code",
   "execution_count": 1,
   "id": "64423b11-2a90-4419-9acd-0d0502cea6d5",
   "metadata": {},
   "outputs": [],
   "source": [
    "import pandas as pd\n",
    "import numpy as np"
   ]
  },
  {
   "cell_type": "markdown",
   "id": "728b1a89-40f7-438f-88ba-e2fddf729e23",
   "metadata": {},
   "source": [
    "# Reading and adding label\n"
   ]
  },
  {
   "cell_type": "code",
   "execution_count": 2,
   "id": "3edcd76c-0d25-4607-8ecb-5cad9e390999",
   "metadata": {},
   "outputs": [
    {
     "data": {
      "text/html": [
       "<div>\n",
       "<style scoped>\n",
       "    .dataframe tbody tr th:only-of-type {\n",
       "        vertical-align: middle;\n",
       "    }\n",
       "\n",
       "    .dataframe tbody tr th {\n",
       "        vertical-align: top;\n",
       "    }\n",
       "\n",
       "    .dataframe thead th {\n",
       "        text-align: right;\n",
       "    }\n",
       "</style>\n",
       "<table border=\"1\" class=\"dataframe\">\n",
       "  <thead>\n",
       "    <tr style=\"text-align: right;\">\n",
       "      <th></th>\n",
       "      <th>title</th>\n",
       "      <th>text</th>\n",
       "      <th>subject</th>\n",
       "      <th>date</th>\n",
       "      <th>Label</th>\n",
       "    </tr>\n",
       "  </thead>\n",
       "  <tbody>\n",
       "    <tr>\n",
       "      <th>0</th>\n",
       "      <td>Donald Trump Sends Out Embarrassing New Year’...</td>\n",
       "      <td>Donald Trump just couldn t wish all Americans ...</td>\n",
       "      <td>News</td>\n",
       "      <td>December 31, 2017</td>\n",
       "      <td>1</td>\n",
       "    </tr>\n",
       "    <tr>\n",
       "      <th>1</th>\n",
       "      <td>Drunk Bragging Trump Staffer Started Russian ...</td>\n",
       "      <td>House Intelligence Committee Chairman Devin Nu...</td>\n",
       "      <td>News</td>\n",
       "      <td>December 31, 2017</td>\n",
       "      <td>1</td>\n",
       "    </tr>\n",
       "    <tr>\n",
       "      <th>2</th>\n",
       "      <td>Sheriff David Clarke Becomes An Internet Joke...</td>\n",
       "      <td>On Friday, it was revealed that former Milwauk...</td>\n",
       "      <td>News</td>\n",
       "      <td>December 30, 2017</td>\n",
       "      <td>1</td>\n",
       "    </tr>\n",
       "    <tr>\n",
       "      <th>3</th>\n",
       "      <td>Trump Is So Obsessed He Even Has Obama’s Name...</td>\n",
       "      <td>On Christmas day, Donald Trump announced that ...</td>\n",
       "      <td>News</td>\n",
       "      <td>December 29, 2017</td>\n",
       "      <td>1</td>\n",
       "    </tr>\n",
       "    <tr>\n",
       "      <th>4</th>\n",
       "      <td>Pope Francis Just Called Out Donald Trump Dur...</td>\n",
       "      <td>Pope Francis used his annual Christmas Day mes...</td>\n",
       "      <td>News</td>\n",
       "      <td>December 25, 2017</td>\n",
       "      <td>1</td>\n",
       "    </tr>\n",
       "    <tr>\n",
       "      <th>...</th>\n",
       "      <td>...</td>\n",
       "      <td>...</td>\n",
       "      <td>...</td>\n",
       "      <td>...</td>\n",
       "      <td>...</td>\n",
       "    </tr>\n",
       "    <tr>\n",
       "      <th>23476</th>\n",
       "      <td>McPain: John McCain Furious That Iran Treated ...</td>\n",
       "      <td>21st Century Wire says As 21WIRE reported earl...</td>\n",
       "      <td>Middle-east</td>\n",
       "      <td>January 16, 2016</td>\n",
       "      <td>1</td>\n",
       "    </tr>\n",
       "    <tr>\n",
       "      <th>23477</th>\n",
       "      <td>JUSTICE? Yahoo Settles E-mail Privacy Class-ac...</td>\n",
       "      <td>21st Century Wire says It s a familiar theme. ...</td>\n",
       "      <td>Middle-east</td>\n",
       "      <td>January 16, 2016</td>\n",
       "      <td>1</td>\n",
       "    </tr>\n",
       "    <tr>\n",
       "      <th>23478</th>\n",
       "      <td>Sunnistan: US and Allied ‘Safe Zone’ Plan to T...</td>\n",
       "      <td>Patrick Henningsen  21st Century WireRemember ...</td>\n",
       "      <td>Middle-east</td>\n",
       "      <td>January 15, 2016</td>\n",
       "      <td>1</td>\n",
       "    </tr>\n",
       "    <tr>\n",
       "      <th>23479</th>\n",
       "      <td>How to Blow $700 Million: Al Jazeera America F...</td>\n",
       "      <td>21st Century Wire says Al Jazeera America will...</td>\n",
       "      <td>Middle-east</td>\n",
       "      <td>January 14, 2016</td>\n",
       "      <td>1</td>\n",
       "    </tr>\n",
       "    <tr>\n",
       "      <th>23480</th>\n",
       "      <td>10 U.S. Navy Sailors Held by Iranian Military ...</td>\n",
       "      <td>21st Century Wire says As 21WIRE predicted in ...</td>\n",
       "      <td>Middle-east</td>\n",
       "      <td>January 12, 2016</td>\n",
       "      <td>1</td>\n",
       "    </tr>\n",
       "  </tbody>\n",
       "</table>\n",
       "<p>23481 rows × 5 columns</p>\n",
       "</div>"
      ],
      "text/plain": [
       "                                                   title  \\\n",
       "0       Donald Trump Sends Out Embarrassing New Year’...   \n",
       "1       Drunk Bragging Trump Staffer Started Russian ...   \n",
       "2       Sheriff David Clarke Becomes An Internet Joke...   \n",
       "3       Trump Is So Obsessed He Even Has Obama’s Name...   \n",
       "4       Pope Francis Just Called Out Donald Trump Dur...   \n",
       "...                                                  ...   \n",
       "23476  McPain: John McCain Furious That Iran Treated ...   \n",
       "23477  JUSTICE? Yahoo Settles E-mail Privacy Class-ac...   \n",
       "23478  Sunnistan: US and Allied ‘Safe Zone’ Plan to T...   \n",
       "23479  How to Blow $700 Million: Al Jazeera America F...   \n",
       "23480  10 U.S. Navy Sailors Held by Iranian Military ...   \n",
       "\n",
       "                                                    text      subject  \\\n",
       "0      Donald Trump just couldn t wish all Americans ...         News   \n",
       "1      House Intelligence Committee Chairman Devin Nu...         News   \n",
       "2      On Friday, it was revealed that former Milwauk...         News   \n",
       "3      On Christmas day, Donald Trump announced that ...         News   \n",
       "4      Pope Francis used his annual Christmas Day mes...         News   \n",
       "...                                                  ...          ...   \n",
       "23476  21st Century Wire says As 21WIRE reported earl...  Middle-east   \n",
       "23477  21st Century Wire says It s a familiar theme. ...  Middle-east   \n",
       "23478  Patrick Henningsen  21st Century WireRemember ...  Middle-east   \n",
       "23479  21st Century Wire says Al Jazeera America will...  Middle-east   \n",
       "23480  21st Century Wire says As 21WIRE predicted in ...  Middle-east   \n",
       "\n",
       "                    date  Label  \n",
       "0      December 31, 2017      1  \n",
       "1      December 31, 2017      1  \n",
       "2      December 30, 2017      1  \n",
       "3      December 29, 2017      1  \n",
       "4      December 25, 2017      1  \n",
       "...                  ...    ...  \n",
       "23476   January 16, 2016      1  \n",
       "23477   January 16, 2016      1  \n",
       "23478   January 15, 2016      1  \n",
       "23479   January 14, 2016      1  \n",
       "23480   January 12, 2016      1  \n",
       "\n",
       "[23481 rows x 5 columns]"
      ]
     },
     "execution_count": 2,
     "metadata": {},
     "output_type": "execute_result"
    }
   ],
   "source": [
    "fake = pd.read_csv(\"Fake.csv\")\n",
    "true = pd.read_csv(\"True.csv\")\n",
    "\n",
    "fake[\"Label\"] = 1\n",
    "true[\"Label\"] = 0\n",
    "fake"
   ]
  },
  {
   "cell_type": "markdown",
   "id": "de201d8e-113b-4eab-852d-2637ab2cdceb",
   "metadata": {},
   "source": [
    "# Combining "
   ]
  },
  {
   "cell_type": "code",
   "execution_count": 3,
   "id": "debe53ed-0444-4096-adb8-3c82ec1cd407",
   "metadata": {},
   "outputs": [
    {
     "data": {
      "text/html": [
       "<div>\n",
       "<style scoped>\n",
       "    .dataframe tbody tr th:only-of-type {\n",
       "        vertical-align: middle;\n",
       "    }\n",
       "\n",
       "    .dataframe tbody tr th {\n",
       "        vertical-align: top;\n",
       "    }\n",
       "\n",
       "    .dataframe thead th {\n",
       "        text-align: right;\n",
       "    }\n",
       "</style>\n",
       "<table border=\"1\" class=\"dataframe\">\n",
       "  <thead>\n",
       "    <tr style=\"text-align: right;\">\n",
       "      <th></th>\n",
       "      <th>title</th>\n",
       "      <th>text</th>\n",
       "      <th>subject</th>\n",
       "      <th>date</th>\n",
       "      <th>Label</th>\n",
       "    </tr>\n",
       "  </thead>\n",
       "  <tbody>\n",
       "    <tr>\n",
       "      <th>0</th>\n",
       "      <td>Donald Trump Sends Out Embarrassing New Year’...</td>\n",
       "      <td>Donald Trump just couldn t wish all Americans ...</td>\n",
       "      <td>News</td>\n",
       "      <td>December 31, 2017</td>\n",
       "      <td>1</td>\n",
       "    </tr>\n",
       "    <tr>\n",
       "      <th>1</th>\n",
       "      <td>Drunk Bragging Trump Staffer Started Russian ...</td>\n",
       "      <td>House Intelligence Committee Chairman Devin Nu...</td>\n",
       "      <td>News</td>\n",
       "      <td>December 31, 2017</td>\n",
       "      <td>1</td>\n",
       "    </tr>\n",
       "    <tr>\n",
       "      <th>2</th>\n",
       "      <td>Sheriff David Clarke Becomes An Internet Joke...</td>\n",
       "      <td>On Friday, it was revealed that former Milwauk...</td>\n",
       "      <td>News</td>\n",
       "      <td>December 30, 2017</td>\n",
       "      <td>1</td>\n",
       "    </tr>\n",
       "    <tr>\n",
       "      <th>3</th>\n",
       "      <td>Trump Is So Obsessed He Even Has Obama’s Name...</td>\n",
       "      <td>On Christmas day, Donald Trump announced that ...</td>\n",
       "      <td>News</td>\n",
       "      <td>December 29, 2017</td>\n",
       "      <td>1</td>\n",
       "    </tr>\n",
       "    <tr>\n",
       "      <th>4</th>\n",
       "      <td>Pope Francis Just Called Out Donald Trump Dur...</td>\n",
       "      <td>Pope Francis used his annual Christmas Day mes...</td>\n",
       "      <td>News</td>\n",
       "      <td>December 25, 2017</td>\n",
       "      <td>1</td>\n",
       "    </tr>\n",
       "    <tr>\n",
       "      <th>...</th>\n",
       "      <td>...</td>\n",
       "      <td>...</td>\n",
       "      <td>...</td>\n",
       "      <td>...</td>\n",
       "      <td>...</td>\n",
       "    </tr>\n",
       "    <tr>\n",
       "      <th>21412</th>\n",
       "      <td>'Fully committed' NATO backs new U.S. approach...</td>\n",
       "      <td>BRUSSELS (Reuters) - NATO allies on Tuesday we...</td>\n",
       "      <td>worldnews</td>\n",
       "      <td>August 22, 2017</td>\n",
       "      <td>0</td>\n",
       "    </tr>\n",
       "    <tr>\n",
       "      <th>21413</th>\n",
       "      <td>LexisNexis withdrew two products from Chinese ...</td>\n",
       "      <td>LONDON (Reuters) - LexisNexis, a provider of l...</td>\n",
       "      <td>worldnews</td>\n",
       "      <td>August 22, 2017</td>\n",
       "      <td>0</td>\n",
       "    </tr>\n",
       "    <tr>\n",
       "      <th>21414</th>\n",
       "      <td>Minsk cultural hub becomes haven from authorities</td>\n",
       "      <td>MINSK (Reuters) - In the shadow of disused Sov...</td>\n",
       "      <td>worldnews</td>\n",
       "      <td>August 22, 2017</td>\n",
       "      <td>0</td>\n",
       "    </tr>\n",
       "    <tr>\n",
       "      <th>21415</th>\n",
       "      <td>Vatican upbeat on possibility of Pope Francis ...</td>\n",
       "      <td>MOSCOW (Reuters) - Vatican Secretary of State ...</td>\n",
       "      <td>worldnews</td>\n",
       "      <td>August 22, 2017</td>\n",
       "      <td>0</td>\n",
       "    </tr>\n",
       "    <tr>\n",
       "      <th>21416</th>\n",
       "      <td>Indonesia to buy $1.14 billion worth of Russia...</td>\n",
       "      <td>JAKARTA (Reuters) - Indonesia will buy 11 Sukh...</td>\n",
       "      <td>worldnews</td>\n",
       "      <td>August 22, 2017</td>\n",
       "      <td>0</td>\n",
       "    </tr>\n",
       "  </tbody>\n",
       "</table>\n",
       "<p>44898 rows × 5 columns</p>\n",
       "</div>"
      ],
      "text/plain": [
       "                                                   title  \\\n",
       "0       Donald Trump Sends Out Embarrassing New Year’...   \n",
       "1       Drunk Bragging Trump Staffer Started Russian ...   \n",
       "2       Sheriff David Clarke Becomes An Internet Joke...   \n",
       "3       Trump Is So Obsessed He Even Has Obama’s Name...   \n",
       "4       Pope Francis Just Called Out Donald Trump Dur...   \n",
       "...                                                  ...   \n",
       "21412  'Fully committed' NATO backs new U.S. approach...   \n",
       "21413  LexisNexis withdrew two products from Chinese ...   \n",
       "21414  Minsk cultural hub becomes haven from authorities   \n",
       "21415  Vatican upbeat on possibility of Pope Francis ...   \n",
       "21416  Indonesia to buy $1.14 billion worth of Russia...   \n",
       "\n",
       "                                                    text    subject  \\\n",
       "0      Donald Trump just couldn t wish all Americans ...       News   \n",
       "1      House Intelligence Committee Chairman Devin Nu...       News   \n",
       "2      On Friday, it was revealed that former Milwauk...       News   \n",
       "3      On Christmas day, Donald Trump announced that ...       News   \n",
       "4      Pope Francis used his annual Christmas Day mes...       News   \n",
       "...                                                  ...        ...   \n",
       "21412  BRUSSELS (Reuters) - NATO allies on Tuesday we...  worldnews   \n",
       "21413  LONDON (Reuters) - LexisNexis, a provider of l...  worldnews   \n",
       "21414  MINSK (Reuters) - In the shadow of disused Sov...  worldnews   \n",
       "21415  MOSCOW (Reuters) - Vatican Secretary of State ...  worldnews   \n",
       "21416  JAKARTA (Reuters) - Indonesia will buy 11 Sukh...  worldnews   \n",
       "\n",
       "                    date  Label  \n",
       "0      December 31, 2017      1  \n",
       "1      December 31, 2017      1  \n",
       "2      December 30, 2017      1  \n",
       "3      December 29, 2017      1  \n",
       "4      December 25, 2017      1  \n",
       "...                  ...    ...  \n",
       "21412   August 22, 2017       0  \n",
       "21413   August 22, 2017       0  \n",
       "21414   August 22, 2017       0  \n",
       "21415   August 22, 2017       0  \n",
       "21416   August 22, 2017       0  \n",
       "\n",
       "[44898 rows x 5 columns]"
      ]
     },
     "execution_count": 3,
     "metadata": {},
     "output_type": "execute_result"
    }
   ],
   "source": [
    "frames = [fake, true]\n",
    "news_dataset= pd.concat(frames)\n",
    "news_dataset"
   ]
  },
  {
   "cell_type": "markdown",
   "id": "ad941c5f-5fe3-4973-a36a-a8b13b2ac50e",
   "metadata": {},
   "source": [
    "# Shuffling data"
   ]
  },
  {
   "cell_type": "code",
   "execution_count": 4,
   "id": "0caf3088-639a-469e-87d0-5039e0f7e716",
   "metadata": {},
   "outputs": [
    {
     "data": {
      "text/html": [
       "<div>\n",
       "<style scoped>\n",
       "    .dataframe tbody tr th:only-of-type {\n",
       "        vertical-align: middle;\n",
       "    }\n",
       "\n",
       "    .dataframe tbody tr th {\n",
       "        vertical-align: top;\n",
       "    }\n",
       "\n",
       "    .dataframe thead th {\n",
       "        text-align: right;\n",
       "    }\n",
       "</style>\n",
       "<table border=\"1\" class=\"dataframe\">\n",
       "  <thead>\n",
       "    <tr style=\"text-align: right;\">\n",
       "      <th></th>\n",
       "      <th>title</th>\n",
       "      <th>text</th>\n",
       "      <th>subject</th>\n",
       "      <th>date</th>\n",
       "      <th>Label</th>\n",
       "    </tr>\n",
       "  </thead>\n",
       "  <tbody>\n",
       "    <tr>\n",
       "      <th>13660</th>\n",
       "      <td>Czech election winner Babis says his cabinet t...</td>\n",
       "      <td>PRAGUE (Reuters) - Czech ANO party leader Andr...</td>\n",
       "      <td>worldnews</td>\n",
       "      <td>November 28, 2017</td>\n",
       "      <td>0</td>\n",
       "    </tr>\n",
       "    <tr>\n",
       "      <th>8920</th>\n",
       "      <td>Micheal Moore Demands MI Republican Gov. Be A...</td>\n",
       "      <td>Michael Moore has joined others in calling for...</td>\n",
       "      <td>News</td>\n",
       "      <td>January 6, 2016</td>\n",
       "      <td>1</td>\n",
       "    </tr>\n",
       "    <tr>\n",
       "      <th>17168</th>\n",
       "      <td>Britain says chances of resolving Northern Ire...</td>\n",
       "      <td>LONDON (Reuters) - The chances of Northern Ire...</td>\n",
       "      <td>worldnews</td>\n",
       "      <td>October 18, 2017</td>\n",
       "      <td>0</td>\n",
       "    </tr>\n",
       "    <tr>\n",
       "      <th>14090</th>\n",
       "      <td>“RACIST” President Jackson To Be Replaced With...</td>\n",
       "      <td>Obama has filled his cabinet with radical  yes...</td>\n",
       "      <td>politics</td>\n",
       "      <td>Apr 18, 2016</td>\n",
       "      <td>1</td>\n",
       "    </tr>\n",
       "    <tr>\n",
       "      <th>20537</th>\n",
       "      <td>U.S.-backed forces, Syrian army advance separa...</td>\n",
       "      <td>BEIRUT/AL SHADADI, Syria (Reuters) - U.S.-back...</td>\n",
       "      <td>worldnews</td>\n",
       "      <td>September 8, 2017</td>\n",
       "      <td>0</td>\n",
       "    </tr>\n",
       "  </tbody>\n",
       "</table>\n",
       "</div>"
      ],
      "text/plain": [
       "                                                   title  \\\n",
       "13660  Czech election winner Babis says his cabinet t...   \n",
       "8920    Micheal Moore Demands MI Republican Gov. Be A...   \n",
       "17168  Britain says chances of resolving Northern Ire...   \n",
       "14090  “RACIST” President Jackson To Be Replaced With...   \n",
       "20537  U.S.-backed forces, Syrian army advance separa...   \n",
       "\n",
       "                                                    text    subject  \\\n",
       "13660  PRAGUE (Reuters) - Czech ANO party leader Andr...  worldnews   \n",
       "8920   Michael Moore has joined others in calling for...       News   \n",
       "17168  LONDON (Reuters) - The chances of Northern Ire...  worldnews   \n",
       "14090  Obama has filled his cabinet with radical  yes...   politics   \n",
       "20537  BEIRUT/AL SHADADI, Syria (Reuters) - U.S.-back...  worldnews   \n",
       "\n",
       "                     date  Label  \n",
       "13660  November 28, 2017       0  \n",
       "8920      January 6, 2016      1  \n",
       "17168   October 18, 2017       0  \n",
       "14090        Apr 18, 2016      1  \n",
       "20537  September 8, 2017       0  "
      ]
     },
     "execution_count": 4,
     "metadata": {},
     "output_type": "execute_result"
    }
   ],
   "source": [
    "news_dataset = news_dataset .sample(frac = 1)\n",
    "news_dataset.head()"
   ]
  },
  {
   "cell_type": "markdown",
   "id": "ae3517ce-915f-46df-a0d8-5c3bb506c056",
   "metadata": {},
   "source": [
    "# Pre-Processing"
   ]
  },
  {
   "cell_type": "code",
   "execution_count": 5,
   "id": "61de81f0-8ce8-4996-a27a-bec16d0dbfd1",
   "metadata": {},
   "outputs": [],
   "source": [
    "import re \n",
    "from nltk.corpus import stopwords\n",
    "from nltk.stem.porter import PorterStemmer\n",
    "from sklearn.feature_extraction.text import TfidfVectorizer\n",
    "from sklearn.model_selection import train_test_split\n",
    "from sklearn.linear_model import LogisticRegression \n",
    "from sklearn.metrics import accuracy_score "
   ]
  },
  {
   "cell_type": "code",
   "execution_count": 6,
   "id": "a01b741e-8ea4-4674-9619-e89851b2bd75",
   "metadata": {},
   "outputs": [
    {
     "name": "stderr",
     "output_type": "stream",
     "text": [
      "[nltk_data] Downloading package stopwords to\n",
      "[nltk_data]     C:\\Users\\ASUS1\\AppData\\Roaming\\nltk_data...\n",
      "[nltk_data]   Package stopwords is already up-to-date!\n"
     ]
    },
    {
     "data": {
      "text/plain": [
       "True"
      ]
     },
     "execution_count": 6,
     "metadata": {},
     "output_type": "execute_result"
    }
   ],
   "source": [
    "import nltk \n",
    "nltk.download('stopwords')"
   ]
  },
  {
   "cell_type": "code",
   "execution_count": 7,
   "id": "c74428b3-7779-4b18-ab44-abd4de0bf73b",
   "metadata": {},
   "outputs": [
    {
     "name": "stdout",
     "output_type": "stream",
     "text": [
      "['i', 'me', 'my', 'myself', 'we', 'our', 'ours', 'ourselves', 'you', \"you're\", \"you've\", \"you'll\", \"you'd\", 'your', 'yours', 'yourself', 'yourselves', 'he', 'him', 'his', 'himself', 'she', \"she's\", 'her', 'hers', 'herself', 'it', \"it's\", 'its', 'itself', 'they', 'them', 'their', 'theirs', 'themselves', 'what', 'which', 'who', 'whom', 'this', 'that', \"that'll\", 'these', 'those', 'am', 'is', 'are', 'was', 'were', 'be', 'been', 'being', 'have', 'has', 'had', 'having', 'do', 'does', 'did', 'doing', 'a', 'an', 'the', 'and', 'but', 'if', 'or', 'because', 'as', 'until', 'while', 'of', 'at', 'by', 'for', 'with', 'about', 'against', 'between', 'into', 'through', 'during', 'before', 'after', 'above', 'below', 'to', 'from', 'up', 'down', 'in', 'out', 'on', 'off', 'over', 'under', 'again', 'further', 'then', 'once', 'here', 'there', 'when', 'where', 'why', 'how', 'all', 'any', 'both', 'each', 'few', 'more', 'most', 'other', 'some', 'such', 'no', 'nor', 'not', 'only', 'own', 'same', 'so', 'than', 'too', 'very', 's', 't', 'can', 'will', 'just', 'don', \"don't\", 'should', \"should've\", 'now', 'd', 'll', 'm', 'o', 're', 've', 'y', 'ain', 'aren', \"aren't\", 'couldn', \"couldn't\", 'didn', \"didn't\", 'doesn', \"doesn't\", 'hadn', \"hadn't\", 'hasn', \"hasn't\", 'haven', \"haven't\", 'isn', \"isn't\", 'ma', 'mightn', \"mightn't\", 'mustn', \"mustn't\", 'needn', \"needn't\", 'shan', \"shan't\", 'shouldn', \"shouldn't\", 'wasn', \"wasn't\", 'weren', \"weren't\", 'won', \"won't\", 'wouldn', \"wouldn't\"]\n"
     ]
    }
   ],
   "source": [
    "print(stopwords.words('english'))"
   ]
  },
  {
   "cell_type": "code",
   "execution_count": 8,
   "id": "996db414-3ee4-4634-9152-593519267799",
   "metadata": {},
   "outputs": [],
   "source": [
    "news_dataset= news_dataset.drop(['title','subject','date'],axis=1)\n"
   ]
  },
  {
   "cell_type": "markdown",
   "id": "03ae12ba-8487-4264-9404-e8ea987507d7",
   "metadata": {},
   "source": [
    "# Stemming text"
   ]
  },
  {
   "cell_type": "code",
   "execution_count": 9,
   "id": "58e733d5-0553-4225-ac76-1907c34e8412",
   "metadata": {},
   "outputs": [],
   "source": [
    "port_stem = PorterStemmer()"
   ]
  },
  {
   "cell_type": "code",
   "execution_count": 10,
   "id": "88f3f3ca-51b6-42f2-b5a8-2d10e4fc7323",
   "metadata": {},
   "outputs": [],
   "source": [
    "def stemming(content):\n",
    "    strmmed_content = re.sub('[^a-zA-Z]',' ',content)\n",
    "    strmmed_content = strmmed_content.lower()\n",
    "    strmmed_content = strmmed_content.split()\n",
    "    strmmed_content = [port_stem.stem(word) for word in  strmmed_content   if not word in stopwords.words('english')]\n",
    "    strmmed_content  = ' '.join( strmmed_content )\n",
    "    return  strmmed_content"
   ]
  },
  {
   "cell_type": "code",
   "execution_count": 11,
   "id": "b2d0da78-2abf-47b3-b320-3f33a6820e58",
   "metadata": {},
   "outputs": [],
   "source": [
    "news_dataset['text'] = news_dataset['text'].apply(stemming)"
   ]
  },
  {
   "cell_type": "code",
   "execution_count": 12,
   "id": "e00cd1d7-e0dd-48a5-85ae-cba95e39b9cc",
   "metadata": {},
   "outputs": [
    {
     "name": "stdout",
     "output_type": "stream",
     "text": [
      "13660    pragu reuter czech ano parti leader andrej bab...\n",
      "8920     michael moor join other call u attorney gener ...\n",
      "17168    london reuter chanc northern ireland polit par...\n",
      "14090    obama fill cabinet radic ye men women hold sim...\n",
      "20537    beirut al shadadi syria reuter u back militia ...\n",
      "                               ...                        \n",
      "11855    unit nation reuter u ambassador unit nation ni...\n",
      "15383    sorri tiger hillari lot influenc unlik anyth g...\n",
      "16617    london reuter britain believ quickli agre fram...\n",
      "15846    media coverag black thug shot white polic offi...\n",
      "3933     washington reuter u senat vote narrowli wednes...\n",
      "Name: text, Length: 44898, dtype: object\n"
     ]
    }
   ],
   "source": [
    "print(news_dataset['text'])"
   ]
  },
  {
   "cell_type": "code",
   "execution_count": 13,
   "id": "91f68733-806e-4a00-b999-c775938a3dce",
   "metadata": {},
   "outputs": [],
   "source": [
    "X = news_dataset['text'].values\n",
    "y = news_dataset['Label'].values"
   ]
  },
  {
   "cell_type": "code",
   "execution_count": 14,
   "id": "df01194b-9eb5-4ace-95bd-ed58fbd73900",
   "metadata": {},
   "outputs": [
    {
     "name": "stdout",
     "output_type": "stream",
     "text": [
      "['pragu reuter czech ano parti leader andrej babi said tuesday expect minor cabinet take power dec would enabl attend european union summit prime minist meet presid milo zeman babi said yet secur back cabinet lower hous parliament ano seat parti far reject join back babi administr lack direct left right ideolog babi octob elect pledg cut corrupt among mainstream parti fight immigr make govern effici pro busi convinc mr presid earlier date appoint cabinet dec dec european council take place obvious import babi told report progress negoti great britain departur eu main topic summit babi said zeman would appoint dec prime minist full cabinet dec date new team take power regardless whether parliamentari major main stick point babi businessman rank forb second richest czech worth billion polic want parliament lift immun charg illeg tap eu subsidi decad ago deni wrongdo case made toxic eight parliamentari faction parliamentari vote immun expect come week lack mainstream partner rais prospect babi may negoti support anti nato pro russian communist parti far right freedom direct democraci parti spd want quit eu nato fight call eu forc islamis babi repeatedli said readi clash eu partner migrat also prais eu role guarantor peac europ said pro european politician govern lose confid vote prescrib within month appoint must resign stay offic anoth solut found take month'\n",
      " 'michael moor join other call u attorney gener loretta lynch investig michigan republican governor rick snyder prevent lead contamin citi flint water system moor born rais flint mi first documentari film roger chronicl downfal flint explain demis orchestr big busi conserv polici moor post photo social media show hold pair handcuff hand moor hold sign read arrestgovsnyd activist use hash tag call attent flint water crisi snyder culpabl matter http www facebook com mmflint photo type theateraccompani photo letter written moor condemn snyder crisi moor write dear governor snyder thank sir premedit action administr effect poison appar children hometown flint michigan go jail poison children histor american citi small feat even intern terrorist organ figur yet someth magnitud like take away citi clean drink water order cut cost switch citi water suppli flint river water allow massiv unsaf level pollut lead water travel everyon home everi flint resid trap environment nightmar governor creat moor argu snyder crimin arrest switch citi water sourc flint river caus contamin moor argu like real crimin confront truth epa lead water expert across america deni even wors decid mock accus find said know like believ lot scienc use run gateway comput realli anyon need know time scienc caught time hope go convict celebr quick fire snyder hashtag surfac cher actual call snyder execut twitter gov michigan murder made decis gave ppl poison water must sign disast bill children never recov jailforrick cher cher januari wtf go w power mad greed driven killer incompet politician r crimnal gov rick snyder mich firingsquadworksform cher cher januari snyder declar state emerg flint water crisi tuesday u environment protect agenc work investig matter revel investig crimin civil matter read moor full letter sign petit creat call u attorney gener loretta lynch launch investig snyder featur imag credit screenshot via facebook'\n",
      " 'london reuter chanc northern ireland polit parti restor power share agreement northern ireland posit talk last day stall britain minist region said wednesday given evid committe last week might indic momentum progress progress stall end last week jame brokenshir told parliamentari committe unless renew spirit compromis outlook immin resolut posit time run stori refil remov extran word headlin'\n",
      " ...\n",
      " 'london reuter britain believ quickli agre framework transit agreement exit european union prime minist theresa may spokesman said tuesday even stark differ brexit timelin persist britain seek call implement period around two year follow departur eu march access eu singl market would stay larg unchang new arrang put place busi keen see detail deal soon possibl end uncertainti trade rule face britain leav bloc term broad outlin implement period believ agre quickli may spokesman said provid detail britain hope reach agreement clear want achiev implement period believ prioriti provid certainti busi said may left busi confus monday say implement period would agre deal struck britain futur trade relationship bloc counter expect transit deal would come well deal trade also highlight clear differ britain eu trade deal would agre britain seek ambiti deal trade eu replac exist arrang end implement period believ current close tie bloc mean deal agre octob eu chief negoti michel barnier said would take three year negoti trade deal mean talk start decemb would readi time end transit period run decemb respons ask britain posit could still achiev trade deal end next year two year exit process may spokesman said ye comment timelin set britain eu offici said bloc want defin framework futur relationship time next year withdraw treati could take account futur term articl legal exit process howev offici said eu negoti detail free trade deal britain actual left march eu law allow negoti trade agreement member articl say withdraw agreement take account futur relationship know term partnership eu exit spokeswoman may said ask posit set eu offici detail subject negoti pre empt'\n",
      " 'media coverag black thug shot white polic offic face clearli fit narr explain horrif incid took place march video releas today massachusett offici friday releas video footag show near fatal shoot boston polic offic last month man subsequ shot dead offic decis releas footag come amid protest sever major u citi seri kill civilian recent month latest occur last saturday white offic south carolina videotap shoot unarm black man fled traffic stop everyon best interest share inform soon possibl order tamp specul rumor meant inflam inform suffolk district attorney daniel f conley said news confer video show six year boston polic depart veteran john moynihan two colleagu approach car stop p march boston roxburi neighborhood moynihan stand near driver door man identifi polic year old angelo west jump vehicl shoot moynihan face run camera frame moynihan fall ground author say west crimin record includ prior gun charg shoot polic ran moynihan fellow offic return fire kill moynihan recov surgeri remov bullet lodg neck local leader news confer said anger toward polic incid minim need awar work polic offic inde danger said rev mark scott azusa christian commun boston dorchest neighborhood call west death tragic ad someon pull gun polic offic leav polic option respond suffolk district attorney offic investig shoot said releas full report incid later via reuter'\n",
      " 'washington reuter u senat vote narrowli wednesday repeal exempt strict feder protect former presid barack obama labor depart given state sponsor retir save plan lower incom worker exempt champion state california oppos mutual fund industri freed state run plan strict complianc requir employe retir incom secur act erisa privat sector worker whose employ offer k retir benefit often low incom automat enrol plan launch state illinoi state say exempt would let employ pass worker money plan without foot erisa complianc cost stoke fight washington howev reach feder regul state right incom inequ republican led senat pass resolut repeal exempt vote hous repres also control republican previous approv measur presid donald trump expect sign law th obama era rule kill congress obscur congression review act allow lawmak repeal newli mint regul forbid agenc enact similar rule futur mid april trump sign nearli ident resolut affect citi run retir plan design stage resolut state run plan stuck limbo week republican struggl gather vote major lobbi group repres retire busi interest turn heat lawmak senat dick durbin illinoi democrat miss wednesday vote minor heart surgeri help senat avoid tie republican senat todd young indiana broke parti rank oppos resolut say american real ongo crisi save enough money retir state base retir plan first choic implement care could help close retir save gap said statement reuter california plan primari champion democrat state senat kevin de leon express outrag vote say taxpay would ultim foot bill peopl retir without adequ save wall street invest firm fear profit take hit even though invest industri histor ignor middl lower incom worker medium small size busi said statement mutual fund insur secur industri said exempt would deni worker protect guarante other deni erisa protect worker automat enrol would limit legal remedi fight high fee mismanag plan said paul schott steven presid invest compani institut trade group repres fund hold trillion asset often use save retir']\n"
     ]
    }
   ],
   "source": [
    "print(X)"
   ]
  },
  {
   "cell_type": "code",
   "execution_count": 15,
   "id": "b42fe023-f5e8-46d4-9f5f-b5a4f8d35821",
   "metadata": {},
   "outputs": [
    {
     "name": "stdout",
     "output_type": "stream",
     "text": [
      "[0 1 0 ... 0 1 0]\n"
     ]
    }
   ],
   "source": [
    "print(y)"
   ]
  },
  {
   "cell_type": "markdown",
   "id": "515e3630-affb-41c7-b7f4-9f36e9e1fc14",
   "metadata": {},
   "source": [
    "# Data Transformation "
   ]
  },
  {
   "cell_type": "markdown",
   "id": "3b93c104-d3f7-4c20-905d-58e18a3baa7f",
   "metadata": {},
   "source": [
    "###          -   converting the textuel data to numerical data"
   ]
  },
  {
   "cell_type": "code",
   "execution_count": 16,
   "id": "48edb9ec-7e2a-4806-8d1e-f9afc7111cdd",
   "metadata": {},
   "outputs": [],
   "source": [
    "vectorizer = TfidfVectorizer()\n",
    "vectorizer.fit(X)\n",
    "x = vectorizer.transform(X)"
   ]
  },
  {
   "cell_type": "code",
   "execution_count": 17,
   "id": "31bc587f-22a9-49e1-88c2-539d406373ae",
   "metadata": {},
   "outputs": [
    {
     "name": "stdout",
     "output_type": "stream",
     "text": [
      "  (0, 88905)\t0.18305624906605655\n",
      "  (0, 87825)\t0.03434568991447226\n",
      "  (0, 86563)\t0.057095536118664345\n",
      "  (0, 86404)\t0.03594423466775569\n",
      "  (0, 86395)\t0.04811959585504187\n",
      "  (0, 85949)\t0.03842435108117153\n",
      "  (0, 85307)\t0.03161343766354528\n",
      "  (0, 84840)\t0.025024241929546807\n",
      "  (0, 84337)\t0.04940755344626934\n",
      "  (0, 83779)\t0.05655777541309288\n",
      "  (0, 81385)\t0.03802719960043479\n",
      "  (0, 79731)\t0.029692437348613165\n",
      "  (0, 78647)\t0.06469298272076827\n",
      "  (0, 78454)\t0.053920406126657\n",
      "  (0, 78266)\t0.02241005621874602\n",
      "  (0, 76300)\t0.03837389539414783\n",
      "  (0, 75939)\t0.05793898107905529\n",
      "  (0, 75693)\t0.0953334154226888\n",
      "  (0, 74869)\t0.02367318664712243\n",
      "  (0, 74683)\t0.10265067232585338\n",
      "  (0, 74461)\t0.059878785176255264\n",
      "  (0, 73820)\t0.05390700828957149\n",
      "  (0, 73549)\t0.04102259427757613\n",
      "  (0, 72744)\t0.06974107952107364\n",
      "  (0, 72320)\t0.04790323471253147\n",
      "  :\t:\n",
      "  (44897, 14843)\t0.029724237430030855\n",
      "  (44897, 14119)\t0.02748553846533636\n",
      "  (44897, 13699)\t0.027733884665922276\n",
      "  (44897, 13247)\t0.03735245761116668\n",
      "  (44897, 12546)\t0.0955357954089519\n",
      "  (44897, 11451)\t0.03036314066889108\n",
      "  (44897, 10976)\t0.0759038841931235\n",
      "  (44897, 10505)\t0.0550293541804086\n",
      "  (44897, 9830)\t0.04140897137203494\n",
      "  (44897, 7651)\t0.027649307218974337\n",
      "  (44897, 6984)\t0.03638591125196312\n",
      "  (44897, 6152)\t0.02713118147004698\n",
      "  (44897, 5897)\t0.028503560664950786\n",
      "  (44897, 4977)\t0.03662959087915147\n",
      "  (44897, 4865)\t0.10443925025810788\n",
      "  (44897, 4395)\t0.044670090077556436\n",
      "  (44897, 3600)\t0.03612480179041786\n",
      "  (44897, 3589)\t0.03317772536751843\n",
      "  (44897, 2573)\t0.020552785582542372\n",
      "  (44897, 2300)\t0.0170673051648157\n",
      "  (44897, 2170)\t0.026286602472022413\n",
      "  (44897, 1195)\t0.028029754910946496\n",
      "  (44897, 1042)\t0.038429009422756885\n",
      "  (44897, 758)\t0.0559294009484127\n",
      "  (44897, 610)\t0.05431250137740755\n"
     ]
    }
   ],
   "source": [
    "print(x)"
   ]
  },
  {
   "cell_type": "code",
   "execution_count": 18,
   "id": "d123bdf1-9e40-4b35-b6bd-f8bb3cf5a794",
   "metadata": {},
   "outputs": [
    {
     "name": "stdout",
     "output_type": "stream",
     "text": [
      "(44898, 89633)\n"
     ]
    }
   ],
   "source": [
    "print(x.shape)"
   ]
  },
  {
   "cell_type": "markdown",
   "id": "15f93fa0-4c12-4235-80ab-2f463b59bb1f",
   "metadata": {},
   "source": [
    "# Data Splitting"
   ]
  },
  {
   "cell_type": "code",
   "execution_count": 19,
   "id": "3e5d27f9-342e-41b9-97b8-97d23b1858c4",
   "metadata": {},
   "outputs": [],
   "source": [
    "X_train, X_test, Y_train, Y_test = train_test_split(x, y, test_size = 0.2, stratify=y, random_state=2)"
   ]
  },
  {
   "cell_type": "markdown",
   "id": "711f39d5-3b25-496e-8c70-697b3737ec2d",
   "metadata": {},
   "source": [
    "# ML XGBOOST"
   ]
  },
  {
   "cell_type": "code",
   "execution_count": 20,
   "id": "f1e75549-ed47-4233-94eb-0229471f1816",
   "metadata": {},
   "outputs": [],
   "source": [
    "from xgboost import XGBClassifier"
   ]
  },
  {
   "cell_type": "code",
   "execution_count": 21,
   "id": "1b5c5301-1df2-44c0-8741-68c0ee3f7b87",
   "metadata": {},
   "outputs": [
    {
     "name": "stderr",
     "output_type": "stream",
     "text": [
      "C:\\Users\\ASUS1\\anaconda3\\lib\\site-packages\\xgboost\\sklearn.py:1224: UserWarning: The use of label encoder in XGBClassifier is deprecated and will be removed in a future release. To remove this warning, do the following: 1) Pass option use_label_encoder=False when constructing XGBClassifier object; and 2) Encode your labels (y) as integers starting with 0, i.e. 0, 1, 2, ..., [num_class - 1].\n",
      "  warnings.warn(label_encoder_deprecation_msg, UserWarning)\n"
     ]
    },
    {
     "name": "stdout",
     "output_type": "stream",
     "text": [
      "[04:39:57] WARNING: C:/Users/Administrator/workspace/xgboost-win64_release_1.5.1/src/learner.cc:1115: Starting in XGBoost 1.3.0, the default evaluation metric used with the objective 'binary:logistic' was changed from 'error' to 'logloss'. Explicitly set eval_metric if you'd like to restore the old behavior.\n"
     ]
    }
   ],
   "source": [
    "xgb = XGBClassifier()\n",
    "tfidf = xgb.fit(X_train,Y_train)"
   ]
  },
  {
   "cell_type": "code",
   "execution_count": 22,
   "id": "fff40204-2635-4c01-9ced-309d9a204a44",
   "metadata": {},
   "outputs": [
    {
     "name": "stdout",
     "output_type": "stream",
     "text": [
      "Tfidf Vectorizer score : 0.9977728285077951\n"
     ]
    }
   ],
   "source": [
    "tfidf_val_predict = tfidf.predict( X_test)\n",
    "print('Tfidf Vectorizer score :',accuracy_score(Y_test, tfidf_val_predict))"
   ]
  },
  {
   "cell_type": "code",
   "execution_count": 23,
   "id": "160bb9e9-4df9-48ee-9b23-c3866a77cbb6",
   "metadata": {},
   "outputs": [
    {
     "name": "stdout",
     "output_type": "stream",
     "text": [
      "Precision =  0.9976575809199318\n",
      "Recall =  0.998082658713251\n",
      "f1_score =  0.997870074547391\n"
     ]
    }
   ],
   "source": [
    "from sklearn.metrics import precision_score\n",
    "from sklearn.metrics import recall_score\n",
    "from sklearn.metrics import f1_score\n",
    "print('Precision = ', precision_score(tfidf_val_predict, Y_test))\n",
    "print('Recall = ', recall_score(tfidf_val_predict, Y_test))\n",
    "print('f1_score = ', f1_score(tfidf_val_predict, Y_test))"
   ]
  },
  {
   "cell_type": "code",
   "execution_count": 24,
   "id": "34b37864-f03a-4f00-a54d-99b77cd013e5",
   "metadata": {},
   "outputs": [
    {
     "data": {
      "image/png": "[encoded data removed]",
      "text/plain": [
       "<Figure size 576x432 with 2 Axes>"
      ]
     },
     "metadata": {
      "needs_background": "light"
     },
     "output_type": "display_data"
    }
   ],
   "source": [
    "from sklearn.metrics import confusion_matrix  \n",
    "import matplotlib.pyplot as plt\n",
    "import seaborn as sns\n",
    "\n",
    "cm = confusion_matrix(Y_test, tfidf_val_predict)\n",
    "cm = pd.DataFrame(cm , index = [i for i in range(2)] , columns = [i for i in range(2)])\n",
    "plt.figure(figsize = (8,6))\n",
    "sns.heatmap(cm,cmap= \"BuPu\", linecolor = 'black' , linewidth = 1 , annot = True, fmt='' , xticklabels=['FAKE', 'TRUE'], yticklabels=['FAKE', 'TRUE'])\n",
    "plt.xlabel('Predicted Label')\n",
    "plt.ylabel('True Label')\n",
    "plt.title('Confusion Matrix for Xgboost')\n",
    "plt.savefig('confision matrix for XGBoost',dpi=300)"
   ]
  },
  {
   "cell_type": "code",
   "execution_count": 29,
   "id": "04ebda0a-cd20-4ce6-8962-3d569c3361d7",
   "metadata": {},
   "outputs": [],
   "source": [
    "from sklearn.metrics import roc_curve, roc_auc_score\n",
    "\n",
    "random_probs = [0 for i in range(len(Y_test))]\n",
    "p_fpr, p_tpr, _ = roc_curve(Y_test, random_probs, pos_label=1)\n",
    "pred_prob= xgb.predict_proba(X_test)"
   ]
  },
  {
   "cell_type": "code",
   "execution_count": 30,
   "id": "ce5c2656-66ed-4656-a860-16ce3b89d88e",
   "metadata": {},
   "outputs": [
    {
     "name": "stdout",
     "output_type": "stream",
     "text": [
      "0.9998800556565614\n"
     ]
    }
   ],
   "source": [
    "fpr, tpr, thresh = roc_curve(Y_test, pred_prob[:,1], pos_label=1)\n",
    "# auc scores\n",
    "auc_score = roc_auc_score(Y_test, pred_prob[:,1])\n",
    "print(auc_score)"
   ]
  },
  {
   "cell_type": "code",
   "execution_count": 31,
   "id": "c759cf6d-7bb5-46df-b255-5587ccda66c9",
   "metadata": {},
   "outputs": [
    {
     "data": {
      "image/png": "[encoded data removed]",
      "text/plain": [
       "<Figure size 576x396 with 1 Axes>"
      ]
     },
     "metadata": {},
     "output_type": "display_data"
    }
   ],
   "source": [
    "import matplotlib.pyplot as plt\n",
    "plt.style.use('seaborn')\n",
    "\n",
    "# plot roc curves\n",
    "plt.plot(fpr, tpr, linestyle='--',color='orange', label='XGBOOST')\n",
    "\n",
    "plt.plot(p_fpr, p_tpr, linestyle='--', color='blue')\n",
    "# title\n",
    "plt.title('ROC curve')\n",
    "# x label\n",
    "plt.xlabel('False Positive Rate')\n",
    "# y label\n",
    "plt.ylabel('True Positive rate')\n",
    "\n",
    "plt.legend(loc='best')\n",
    "plt.savefig('roc of XGBOOST ',dpi=300)\n",
    "plt.show();"
   ]
  },
  {
   "cell_type": "code",
   "execution_count": null,
   "id": "b63bfcae-dda5-4fd2-b863-fd44201f59bd",
   "metadata": {},
   "outputs": [],
   "source": []
  },
  {
   "cell_type": "code",
   "execution_count": null,
   "id": "b4403f64-7cad-4383-88e4-af924d64d8c0",
   "metadata": {},
   "outputs": [],
   "source": []
  },
  {
   "cell_type": "code",
   "execution_count": null,
   "id": "f8ceebf2-9dce-4b22-b0dc-850fddddf167",
   "metadata": {},
   "outputs": [],
   "source": []
  },
  {
   "cell_type": "markdown",
   "id": "3bdcf5c0-f9c8-42de-b3fa-1b4dff66731e",
   "metadata": {},
   "source": [
    "# MLP"
   ]
  },
  {
   "cell_type": "code",
   "execution_count": 92,
   "id": "a472b8f0-e53d-4044-b3d1-2eb82d1a5119",
   "metadata": {},
   "outputs": [
    {
     "data": {
      "text/plain": [
       "MLPClassifier(activation='tanh', hidden_layer_sizes=(500, 450, 300),\n",
       "              max_iter=800, solver='sgd')"
      ]
     },
     "execution_count": 92,
     "metadata": {},
     "output_type": "execute_result"
    }
   ],
   "source": [
    "from sklearn.neural_network import MLPClassifier\n",
    "\n",
    "mlp_clf = MLPClassifier(hidden_layer_sizes=(500,450,300),\n",
    "                        max_iter = 800,activation = 'tanh',\n",
    "                        solver = 'sgd')\n",
    "\n",
    "mlp_clf.fit(X_train, Y_train)"
   ]
  },
  {
   "cell_type": "code",
   "execution_count": 93,
   "id": "48638a18-2c48-4c5b-aaec-b7b82c9510f6",
   "metadata": {},
   "outputs": [
    {
     "name": "stdout",
     "output_type": "stream",
     "text": [
      "Accuracy: 0.9898664\n"
     ]
    }
   ],
   "source": [
    "y_pred= mlp_clf.predict(X_test)\n",
    "\n",
    "print('Accuracy: {:.7f}'.format(accuracy_score(Y_test, y_pred)))"
   ]
  },
  {
   "cell_type": "code",
   "execution_count": 95,
   "id": "efa25a9e-384c-498c-ab83-60254278d197",
   "metadata": {},
   "outputs": [
    {
     "name": "stdout",
     "output_type": "stream",
     "text": [
      "Precision =  0.9926393270241851\n",
      "Recall =  0.9882747068676717\n",
      "f1_score =  0.9904522085825203\n"
     ]
    }
   ],
   "source": [
    "print('Precision = ', precision_score(y_pred, Y_test))\n",
    "print('Recall = ', recall_score(y_pred, Y_test))\n",
    "print('f1_score = ', f1_score(y_pred, Y_test))"
   ]
  },
  {
   "cell_type": "code",
   "execution_count": 96,
   "id": "e4b4c8bb-c38b-43bb-a159-bb69e244eab2",
   "metadata": {},
   "outputs": [
    {
     "data": {
      "image/png": "[encoded data removed]",
      "text/plain": [
       "<Figure size 576x432 with 2 Axes>"
      ]
     },
     "metadata": {
      "needs_background": "light"
     },
     "output_type": "display_data"
    }
   ],
   "source": [
    "from sklearn.metrics import confusion_matrix  \n",
    "import matplotlib.pyplot as plt\n",
    "import seaborn as sns\n",
    "\n",
    "cm = confusion_matrix(Y_test, y_pred)\n",
    "cm = pd.DataFrame(cm , index = [i for i in range(2)] , columns = [i for i in range(2)])\n",
    "plt.figure(figsize = (8,6))\n",
    "sns.heatmap(cm,cmap= \"Purples\", linecolor = 'black' , linewidth = 1 , annot = True, fmt='' , xticklabels=['FAKE', 'TRUE'], yticklabels=['FAKE', 'TRUE'])\n",
    "plt.xlabel('Predicted Label')\n",
    "plt.ylabel('True Label')\n",
    "\n",
    "plt.savefig('confusion matrix for MLP',dpi=300)"
   ]
  },
  {
   "cell_type": "code",
   "execution_count": 97,
   "id": "234516b9-87ae-4b2b-81c5-883fd5a04bb9",
   "metadata": {},
   "outputs": [
    {
     "data": {
      "image/png": "[encoded data removed]",
      "text/plain": [
       "<Figure size 432x288 with 1 Axes>"
      ]
     },
     "metadata": {
      "needs_background": "light"
     },
     "output_type": "display_data"
    }
   ],
   "source": [
    "plt.plot(mlp_clf.loss_curve_)\n",
    "plt.title(\"Loss Curve\", fontsize=14)\n",
    "plt.xlabel('Iterations')\n",
    "plt.ylabel('Cost')\n",
    "plt.show()"
   ]
  },
  {
   "cell_type": "code",
   "execution_count": 127,
   "id": "9dc44094-3c0b-4c60-ac8b-9ede2df48a0c",
   "metadata": {},
   "outputs": [
    {
     "data": {
      "text/plain": [
       "MLPClassifier(activation='tanh', hidden_layer_sizes=(500, 450, 100))"
      ]
     },
     "execution_count": 127,
     "metadata": {},
     "output_type": "execute_result"
    }
   ],
   "source": [
    "from sklearn.neural_network import MLPClassifier\n",
    "\n",
    "mlp_clf = MLPClassifier(hidden_layer_sizes=(500,450,100),\n",
    "                        max_iter = 200,activation = 'tanh',\n",
    "                        solver = 'adam')\n",
    "\n",
    "mlp_clf.fit(X_train, Y_train)"
   ]
  },
  {
   "cell_type": "code",
   "execution_count": 128,
   "id": "1efe23cf-3000-411e-a145-114e7eccdf75",
   "metadata": {},
   "outputs": [
    {
     "name": "stdout",
     "output_type": "stream",
     "text": [
      "Accuracy: 0.9867483\n"
     ]
    }
   ],
   "source": [
    "y_pred= mlp_clf.predict(X_test)\n",
    "\n",
    "print('Accuracy: {:.7f}'.format(accuracy_score(Y_test, y_pred)))"
   ]
  },
  {
   "cell_type": "markdown",
   "id": "e76a362d-76db-4a2c-ab63-b02ce5869adf",
   "metadata": {},
   "source": [
    "# Tensorflow"
   ]
  },
  {
   "cell_type": "code",
   "execution_count": 79,
   "id": "62420318-3100-462f-97d0-c84d452c4c9c",
   "metadata": {},
   "outputs": [],
   "source": [
    "from sklearn.feature_extraction.text import TfidfVectorizer\n",
    "tfidf_vect = TfidfVectorizer(max_features=600)\n",
    "x = tfidf_vect.fit_transform(X).toarray()"
   ]
  },
  {
   "cell_type": "code",
   "execution_count": 80,
   "id": "e607024e-f143-40b8-b71e-973d1817ffb7",
   "metadata": {},
   "outputs": [],
   "source": [
    "X_train, X_test, Y_train, Y_test = train_test_split(x, y, test_size = 0.2, random_state=2)"
   ]
  },
  {
   "cell_type": "code",
   "execution_count": 81,
   "id": "9a88e209-88cb-4faf-b972-1f5155aff154",
   "metadata": {},
   "outputs": [],
   "source": [
    "from tensorflow.keras import Sequential\n",
    "from tensorflow.keras.layers import Dense"
   ]
  },
  {
   "cell_type": "code",
   "execution_count": 82,
   "id": "4861d6e3-a2b4-4740-87a9-289b7909165f",
   "metadata": {},
   "outputs": [
    {
     "data": {
      "text/plain": [
       "(35918, 600)"
      ]
     },
     "execution_count": 82,
     "metadata": {},
     "output_type": "execute_result"
    }
   ],
   "source": [
    "max_features = X_train.shape[1]\n",
    "max_features\n",
    "X_train.shape"
   ]
  },
  {
   "cell_type": "code",
   "execution_count": 83,
   "id": "b83138c6-dc61-4956-82cf-b80d2a21a030",
   "metadata": {},
   "outputs": [],
   "source": [
    "model1 = Sequential()\n",
    "model1.add(Dense(150, activation='tanh', kernel_initializer='he_normal', input_shape=(max_features,)))\n",
    "model1.add(Dense(100, activation='tanh', kernel_initializer='he_normal'))\n",
    "model1.add(Dense(50, activation='tanh', kernel_initializer='he_normal'))\n",
    "model1.add(Dense(10, activation='tanh', kernel_initializer='he_normal'))\n",
    "model1.add(Dense(1, activation='sigmoid'))"
   ]
  },
  {
   "cell_type": "code",
   "execution_count": 84,
   "id": "21437a8a-8c19-423e-a04e-531d8088e298",
   "metadata": {},
   "outputs": [],
   "source": [
    "model1.compile(optimizer='adam', loss='binary_crossentropy', metrics=['accuracy'])\n"
   ]
  },
  {
   "cell_type": "code",
   "execution_count": 85,
   "id": "bdd55e97-6b42-49f6-88ef-14c2eb6e8d28",
   "metadata": {},
   "outputs": [
    {
     "name": "stdout",
     "output_type": "stream",
     "text": [
      "Epoch 1/90\n",
      "1123/1123 [==============================] - 3s 2ms/step - loss: 0.0818 - accuracy: 0.9730\n",
      "Epoch 2/90\n",
      "1123/1123 [==============================] - 3s 2ms/step - loss: 0.0386 - accuracy: 0.9879\n",
      "Epoch 3/90\n",
      "1123/1123 [==============================] - 3s 2ms/step - loss: 0.0287 - accuracy: 0.9914\n",
      "Epoch 4/90\n",
      "1123/1123 [==============================] - 3s 2ms/step - loss: 0.0262 - accuracy: 0.9920\n",
      "Epoch 5/90\n",
      "1123/1123 [==============================] - 3s 3ms/step - loss: 0.0213 - accuracy: 0.9936\n",
      "Epoch 6/90\n",
      "1123/1123 [==============================] - 3s 3ms/step - loss: 0.0196 - accuracy: 0.9941\n",
      "Epoch 7/90\n",
      "1123/1123 [==============================] - 3s 3ms/step - loss: 0.0156 - accuracy: 0.9954\n",
      "Epoch 8/90\n",
      "1123/1123 [==============================] - 3s 3ms/step - loss: 0.0152 - accuracy: 0.9954\n",
      "Epoch 9/90\n",
      "1123/1123 [==============================] - 3s 3ms/step - loss: 0.0139 - accuracy: 0.9951\n",
      "Epoch 10/90\n",
      "1123/1123 [==============================] - 3s 3ms/step - loss: 0.0111 - accuracy: 0.9966\n",
      "Epoch 11/90\n",
      "1123/1123 [==============================] - 3s 3ms/step - loss: 0.0101 - accuracy: 0.9967\n",
      "Epoch 12/90\n",
      "1123/1123 [==============================] - 3s 3ms/step - loss: 0.0079 - accuracy: 0.9977\n",
      "Epoch 13/90\n",
      "1123/1123 [==============================] - 3s 3ms/step - loss: 0.0091 - accuracy: 0.9969\n",
      "Epoch 14/90\n",
      "1123/1123 [==============================] - 3s 3ms/step - loss: 0.0061 - accuracy: 0.9980\n",
      "Epoch 15/90\n",
      "1123/1123 [==============================] - 3s 3ms/step - loss: 0.0061 - accuracy: 0.9980\n",
      "Epoch 16/90\n",
      "1123/1123 [==============================] - 3s 3ms/step - loss: 0.0055 - accuracy: 0.9984\n",
      "Epoch 17/90\n",
      "1123/1123 [==============================] - 3s 3ms/step - loss: 0.0062 - accuracy: 0.9981\n",
      "Epoch 18/90\n",
      "1123/1123 [==============================] - 3s 3ms/step - loss: 0.0051 - accuracy: 0.9983\n",
      "Epoch 19/90\n",
      "1123/1123 [==============================] - 3s 3ms/step - loss: 0.0050 - accuracy: 0.9985\n",
      "Epoch 20/90\n",
      "1123/1123 [==============================] - 3s 2ms/step - loss: 0.0042 - accuracy: 0.9989\n",
      "Epoch 21/90\n",
      "1123/1123 [==============================] - 3s 3ms/step - loss: 0.0042 - accuracy: 0.9987\n",
      "Epoch 22/90\n",
      "1123/1123 [==============================] - 3s 3ms/step - loss: 0.0033 - accuracy: 0.9991\n",
      "Epoch 23/90\n",
      "1123/1123 [==============================] - 3s 3ms/step - loss: 0.0049 - accuracy: 0.9983\n",
      "Epoch 24/90\n",
      "1123/1123 [==============================] - 3s 3ms/step - loss: 0.0029 - accuracy: 0.9993\n",
      "Epoch 25/90\n",
      "1123/1123 [==============================] - 3s 3ms/step - loss: 0.0037 - accuracy: 0.9989\n",
      "Epoch 26/90\n",
      "1123/1123 [==============================] - 3s 3ms/step - loss: 0.0041 - accuracy: 0.9987\n",
      "Epoch 27/90\n",
      "1123/1123 [==============================] - 3s 3ms/step - loss: 0.0029 - accuracy: 0.9992\n",
      "Epoch 28/90\n",
      "1123/1123 [==============================] - 3s 3ms/step - loss: 0.0016 - accuracy: 0.9996\n",
      "Epoch 29/90\n",
      "1123/1123 [==============================] - 3s 3ms/step - loss: 0.0035 - accuracy: 0.9991\n",
      "Epoch 30/90\n",
      "1123/1123 [==============================] - 3s 3ms/step - loss: 0.0046 - accuracy: 0.9986\n",
      "Epoch 31/90\n",
      "1123/1123 [==============================] - 3s 3ms/step - loss: 0.0027 - accuracy: 0.9991\n",
      "Epoch 32/90\n",
      "1123/1123 [==============================] - 4s 3ms/step - loss: 0.0017 - accuracy: 0.9997\n",
      "Epoch 33/90\n",
      "1123/1123 [==============================] - 3s 3ms/step - loss: 0.0023 - accuracy: 0.9994\n",
      "Epoch 34/90\n",
      "1123/1123 [==============================] - 3s 3ms/step - loss: 0.0038 - accuracy: 0.9989\n",
      "Epoch 35/90\n",
      "1123/1123 [==============================] - 3s 3ms/step - loss: 0.0021 - accuracy: 0.9994\n",
      "Epoch 36/90\n",
      "1123/1123 [==============================] - 3s 3ms/step - loss: 0.0027 - accuracy: 0.9992\n",
      "Epoch 37/90\n",
      "1123/1123 [==============================] - 4s 4ms/step - loss: 0.0016 - accuracy: 0.9997\n",
      "Epoch 38/90\n",
      "1123/1123 [==============================] - 4s 3ms/step - loss: 0.0015 - accuracy: 0.9996\n",
      "Epoch 39/90\n",
      "1123/1123 [==============================] - 3s 3ms/step - loss: 0.0039 - accuracy: 0.9987\n",
      "Epoch 40/90\n",
      "1123/1123 [==============================] - 3s 3ms/step - loss: 0.0027 - accuracy: 0.9993\n",
      "Epoch 41/90\n",
      "1123/1123 [==============================] - 4s 3ms/step - loss: 0.0024 - accuracy: 0.9993\n",
      "Epoch 42/90\n",
      "1123/1123 [==============================] - 3s 3ms/step - loss: 0.0021 - accuracy: 0.9994\n",
      "Epoch 43/90\n",
      "1123/1123 [==============================] - 3s 3ms/step - loss: 0.0016 - accuracy: 0.9996\n",
      "Epoch 44/90\n",
      "1123/1123 [==============================] - 3s 3ms/step - loss: 0.0015 - accuracy: 0.9995\n",
      "Epoch 45/90\n",
      "1123/1123 [==============================] - 3s 3ms/step - loss: 0.0036 - accuracy: 0.9991\n",
      "Epoch 46/90\n",
      "1123/1123 [==============================] - 4s 3ms/step - loss: 9.2372e-04 - accuracy: 0.9998\n",
      "Epoch 47/90\n",
      "1123/1123 [==============================] - 3s 3ms/step - loss: 8.8731e-04 - accuracy: 0.9998\n",
      "Epoch 48/90\n",
      "1123/1123 [==============================] - 3s 3ms/step - loss: 0.0040 - accuracy: 0.9988\n",
      "Epoch 49/90\n",
      "1123/1123 [==============================] - 3s 3ms/step - loss: 0.0011 - accuracy: 0.9997\n",
      "Epoch 50/90\n",
      "1123/1123 [==============================] - 3s 3ms/step - loss: 6.5987e-04 - accuracy: 0.9999\n",
      "Epoch 51/90\n",
      "1123/1123 [==============================] - 4s 3ms/step - loss: 0.0012 - accuracy: 0.9997\n",
      "Epoch 52/90\n",
      "1123/1123 [==============================] - 3s 3ms/step - loss: 0.0020 - accuracy: 0.9995\n",
      "Epoch 53/90\n",
      "1123/1123 [==============================] - 3s 3ms/step - loss: 0.0030 - accuracy: 0.9992\n",
      "Epoch 54/90\n",
      "1123/1123 [==============================] - 4s 3ms/step - loss: 0.0014 - accuracy: 0.9997\n",
      "Epoch 55/90\n",
      "1123/1123 [==============================] - 4s 4ms/step - loss: 0.0014 - accuracy: 0.9997\n",
      "Epoch 56/90\n",
      "1123/1123 [==============================] - 4s 3ms/step - loss: 0.0020 - accuracy: 0.9994\n",
      "Epoch 57/90\n",
      "1123/1123 [==============================] - 3s 3ms/step - loss: 0.0022 - accuracy: 0.9995\n",
      "Epoch 58/90\n",
      "1123/1123 [==============================] - 3s 3ms/step - loss: 0.0010 - accuracy: 0.9999\n",
      "Epoch 59/90\n",
      "1123/1123 [==============================] - 3s 3ms/step - loss: 9.6809e-04 - accuracy: 0.9998\n",
      "Epoch 60/90\n",
      "1123/1123 [==============================] - 4s 3ms/step - loss: 6.2857e-04 - accuracy: 0.9999\n",
      "Epoch 61/90\n",
      "1123/1123 [==============================] - 3s 3ms/step - loss: 5.1195e-04 - accuracy: 0.9999\n",
      "Epoch 62/90\n",
      "1123/1123 [==============================] - 3s 3ms/step - loss: 4.9290e-04 - accuracy: 0.9999\n",
      "Epoch 63/90\n",
      "1123/1123 [==============================] - 3s 3ms/step - loss: 4.7682e-04 - accuracy: 0.9999\n",
      "Epoch 64/90\n",
      "1123/1123 [==============================] - 3s 3ms/step - loss: 4.6513e-04 - accuracy: 0.9999\n",
      "Epoch 65/90\n",
      "1123/1123 [==============================] - 4s 3ms/step - loss: 4.5469e-04 - accuracy: 0.9999\n",
      "Epoch 66/90\n",
      "1123/1123 [==============================] - 3s 3ms/step - loss: 4.4031e-04 - accuracy: 0.9999\n",
      "Epoch 67/90\n",
      "1123/1123 [==============================] - 3s 3ms/step - loss: 4.2912e-04 - accuracy: 0.9999\n",
      "Epoch 68/90\n",
      "1123/1123 [==============================] - 3s 3ms/step - loss: 0.0051 - accuracy: 0.9990\n",
      "Epoch 69/90\n",
      "1123/1123 [==============================] - 4s 4ms/step - loss: 0.0032 - accuracy: 0.9990\n",
      "Epoch 70/90\n",
      "1123/1123 [==============================] - 4s 4ms/step - loss: 8.7003e-04 - accuracy: 0.9997\n",
      "Epoch 71/90\n",
      "1123/1123 [==============================] - 4s 3ms/step - loss: 5.2433e-04 - accuracy: 0.9999\n",
      "Epoch 72/90\n",
      "1123/1123 [==============================] - 3s 3ms/step - loss: 0.0021 - accuracy: 0.9995\n",
      "Epoch 73/90\n",
      "1123/1123 [==============================] - 3s 3ms/step - loss: 0.0018 - accuracy: 0.9996\n",
      "Epoch 74/90\n",
      "1123/1123 [==============================] - 4s 3ms/step - loss: 7.0346e-04 - accuracy: 0.9999\n",
      "Epoch 75/90\n",
      "1123/1123 [==============================] - 3s 3ms/step - loss: 6.6377e-04 - accuracy: 0.9999\n",
      "Epoch 76/90\n",
      "1123/1123 [==============================] - 3s 3ms/step - loss: 6.1621e-04 - accuracy: 0.9999\n",
      "Epoch 77/90\n",
      "1123/1123 [==============================] - 3s 3ms/step - loss: 5.9608e-04 - accuracy: 0.9999\n",
      "Epoch 78/90\n",
      "1123/1123 [==============================] - 4s 3ms/step - loss: 5.5310e-04 - accuracy: 0.9999\n",
      "Epoch 79/90\n",
      "1123/1123 [==============================] - 4s 3ms/step - loss: 5.2865e-04 - accuracy: 0.9999\n",
      "Epoch 80/90\n",
      "1123/1123 [==============================] - 4s 3ms/step - loss: 8.8969e-04 - accuracy: 0.9997\n",
      "Epoch 81/90\n",
      "1123/1123 [==============================] - 3s 3ms/step - loss: 0.0043 - accuracy: 0.9990\n",
      "Epoch 82/90\n",
      "1123/1123 [==============================] - 3s 3ms/step - loss: 0.0010 - accuracy: 0.9997\n",
      "Epoch 83/90\n",
      "1123/1123 [==============================] - 4s 4ms/step - loss: 4.7592e-04 - accuracy: 0.9999\n",
      "Epoch 84/90\n",
      "1123/1123 [==============================] - 4s 3ms/step - loss: 4.5001e-04 - accuracy: 0.9999\n",
      "Epoch 85/90\n",
      "1123/1123 [==============================] - 4s 3ms/step - loss: 3.9108e-04 - accuracy: 0.9999\n",
      "Epoch 86/90\n",
      "1123/1123 [==============================] - 4s 3ms/step - loss: 3.7045e-04 - accuracy: 0.9999\n",
      "Epoch 87/90\n",
      "1123/1123 [==============================] - 4s 4ms/step - loss: 0.0014 - accuracy: 0.9997\n",
      "Epoch 88/90\n",
      "1123/1123 [==============================] - 4s 3ms/step - loss: 0.0031 - accuracy: 0.9993\n",
      "Epoch 89/90\n",
      "1123/1123 [==============================] - 3s 3ms/step - loss: 0.0011 - accuracy: 0.9997\n",
      "Epoch 90/90\n",
      "1123/1123 [==============================] - 3s 3ms/step - loss: 4.3710e-04 - accuracy: 0.9999\n"
     ]
    },
    {
     "data": {
      "text/plain": [
       "<keras.callbacks.History at 0x272831e6eb0>"
      ]
     },
     "execution_count": 85,
     "metadata": {},
     "output_type": "execute_result"
    }
   ],
   "source": [
    "model1.fit(X_train, Y_train, epochs=90, batch_size=32,verbose=1)"
   ]
  },
  {
   "cell_type": "code",
   "execution_count": 86,
   "id": "e4fcb224-8151-4295-ba3e-c4742075e4af",
   "metadata": {},
   "outputs": [
    {
     "name": "stdout",
     "output_type": "stream",
     "text": [
      "Test Accuracy: 0.9939867\n"
     ]
    }
   ],
   "source": [
    "loss, acc = model1.evaluate(X_test, Y_test, verbose=0)\n",
    "print('Test Accuracy: %.7f' % acc)"
   ]
  },
  {
   "cell_type": "code",
   "execution_count": 88,
   "id": "774c8940-be5e-404b-9c83-a72e64e6187f",
   "metadata": {},
   "outputs": [],
   "source": [
    "y_pred=model1.predict(X_test)\n",
    "\n",
    "binary_predictions =[]\n",
    "\n",
    "for i in y_pred:\n",
    "    if i >=0.5:\n",
    "        binary_predictions.append(1)\n",
    "    else:\n",
    "        binary_predictions.append(0)"
   ]
  },
  {
   "cell_type": "code",
   "execution_count": 89,
   "id": "77d773c7-4466-4ef1-ba5c-6e42a3983c73",
   "metadata": {},
   "outputs": [
    {
     "name": "stdout",
     "output_type": "stream",
     "text": [
      "Model accuracy is  99.39866369710467\n",
      "Model precision is  99.39011566771819\n",
      "Model recall is  99.4737949905283\n",
      "Model f1_score is  99.43193772354302\n"
     ]
    }
   ],
   "source": [
    "# Importing metrics\n",
    "from sklearn.metrics import confusion_matrix, accuracy_score, precision_score, recall_score, f1_score\n",
    "\n",
    "print(\"Model accuracy is \",accuracy_score(binary_predictions,Y_test)*100)\n",
    "print(\"Model precision is \",precision_score(binary_predictions,Y_test)*100)\n",
    "print(\"Model recall is \",recall_score(binary_predictions,Y_test)*100)\n",
    "print(\"Model f1_score is \",f1_score(binary_predictions,Y_test)*100)"
   ]
  },
  {
   "cell_type": "code",
   "execution_count": 90,
   "id": "f8a233b8-8c3e-498a-b1ee-c8924c64f91e",
   "metadata": {},
   "outputs": [
    {
     "data": {
      "image/png": "[encoded data removed]",
      "text/plain": [
       "<Figure size 576x432 with 2 Axes>"
      ]
     },
     "metadata": {
      "needs_background": "light"
     },
     "output_type": "display_data"
    }
   ],
   "source": [
    "from sklearn.metrics import confusion_matrix  \n",
    "import matplotlib.pyplot as plt\n",
    "import seaborn as sns\n",
    "\n",
    "cm = confusion_matrix(Y_test, binary_predictions)\n",
    "cm = pd.DataFrame(cm , index = [i for i in range(2)] , columns = [i for i in range(2)])\n",
    "plt.figure(figsize = (8,6))\n",
    "sns.heatmap(cm,cmap= \"Purples\", linecolor = 'black' , linewidth = 3 , annot = True, fmt='' , xticklabels=['FAKE', 'TRUE'], yticklabels=['FAKE', 'TRUE'])\n",
    "plt.xlabel('Predicted Label')\n",
    "plt.ylabel('True Label')\n",
    "#plt.title('Confusion Matrix for tensorflow')\n",
    "plt.savefig('confusion matrix for tensorflow 5',dpi=300)"
   ]
  },
  {
   "cell_type": "code",
   "execution_count": null,
   "id": "0ad9aac0-07c8-41f9-9c99-fe785c5c162d",
   "metadata": {},
   "outputs": [],
   "source": []
  },
  {
   "cell_type": "code",
   "execution_count": null,
   "id": "03f503b1-1deb-48a2-a4f8-cdf7bbda94fd",
   "metadata": {},
   "outputs": [],
   "source": []
  },
  {
   "cell_type": "code",
   "execution_count": null,
   "id": "ab44f9e2-9438-4581-a729-b6381e80308b",
   "metadata": {},
   "outputs": [],
   "source": []
  },
  {
   "cell_type": "markdown",
   "id": "c0b92cc5-b560-46d6-b112-042aa5dd663b",
   "metadata": {},
   "source": [
    "# pytorch"
   ]
  },
  {
   "cell_type": "code",
   "execution_count": 106,
   "id": "1e31b6fb-fb6b-4339-a08b-899e503977ac",
   "metadata": {},
   "outputs": [],
   "source": [
    "import torch\n",
    "import torch.nn as nn"
   ]
  },
  {
   "cell_type": "code",
   "execution_count": 107,
   "id": "406c82c2-ab7d-40f1-9898-dfe3b6e7201e",
   "metadata": {},
   "outputs": [
    {
     "name": "stdout",
     "output_type": "stream",
     "text": [
      "Finished\n"
     ]
    }
   ],
   "source": [
    "vectorizer_text = TfidfVectorizer(stop_words=\"english\",max_features=8000)\n",
    "text_matrix = vectorizer_text.fit_transform(X).toarray()\n",
    "\n",
    "print(\"Finished\")"
   ]
  },
  {
   "cell_type": "code",
   "execution_count": 108,
   "id": "c3fda38c-eddc-4322-9272-11aef888fc62",
   "metadata": {},
   "outputs": [
    {
     "name": "stdout",
     "output_type": "stream",
     "text": [
      "(44898, 2)\n",
      "(44898, 8000)\n"
     ]
    }
   ],
   "source": [
    "print(news_dataset.shape)\n",
    "\n",
    "print(text_matrix.shape)\n",
    "\n",
    "# Creating Y\n",
    "y = news_dataset.Label\n",
    "\n",
    "# Creating X\n",
    "x=text_matrix"
   ]
  },
  {
   "cell_type": "code",
   "execution_count": 109,
   "id": "60162337-b2f3-40c5-a71e-e6eabcaf53b5",
   "metadata": {},
   "outputs": [
    {
     "name": "stdout",
     "output_type": "stream",
     "text": [
      "(35918, 8000)\n",
      "(8980, 8000)\n",
      "(35918,)\n",
      "(8980,)\n"
     ]
    }
   ],
   "source": [
    "\n",
    "from sklearn.model_selection import train_test_split\n",
    "\n",
    "# Train Test Split\n",
    "X_train,X_test,Y_train,Y_test = train_test_split(x,np.array(y),test_size=0.2,random_state=2)\n",
    "print(X_train.shape)\n",
    "print(X_test.shape)\n",
    "print(Y_train.shape)\n",
    "print(Y_test.shape)"
   ]
  },
  {
   "cell_type": "code",
   "execution_count": 110,
   "id": "ceac3244-f333-44a9-853f-31ba03e51017",
   "metadata": {},
   "outputs": [],
   "source": [
    "import torch.nn as nn\n",
    "class ANN(nn.Module):\n",
    "    \n",
    "    def __init__(self):\n",
    "        \n",
    "        super(ANN,self).__init__() # Inhertiting\n",
    "        \n",
    "        self.linear1 = nn.Linear(8000,6000) # IN 4000 OUT 2000\n",
    "        self.relu1 = nn.ReLU() # Actfunc 1\n",
    "        \n",
    "        self.linear2 = nn.Linear(6000,3000) # IN 2000 OUT 1000\n",
    "        self.relu2 = nn.ReLU()\n",
    "        \n",
    "        self.linear3 = nn.Linear(3000,1000) # IN 1000 OUT 500\n",
    "        self.relu3 = nn.ReLU()\n",
    "        \n",
    "        self.linear4 = nn.Linear(1000,100) # IN 500 OUT 100\n",
    "        self.relu4 = nn.ReLU()\n",
    "        \n",
    "        self.linear5 = nn.Linear(100,20) # IN 500 OUT 100\n",
    "        self.relu5 = nn.ReLU()\n",
    "        \n",
    "        self.linear6 = nn.Linear(20,2) # IN 20 OUT 2 | OUTPUT \n",
    "        \n",
    "    \n",
    "    def forward(self,x):\n",
    "        \n",
    "        out = self.linear1(x) # Input Layer \n",
    "        out = self.relu1(out)\n",
    "        \n",
    "        out = self.linear2(out) # Hidden Layer 1 \n",
    "        out = self.relu2(out)\n",
    "        \n",
    "        out = self.linear3(out) # Hidden Layer 2 \n",
    "        out = self.relu3(out)\n",
    "        \n",
    "        out = self.linear4(out) # Hidden Layer 3 \n",
    "        out = self.relu4(out)\n",
    "        \n",
    "        out = self.linear5(out) # Hidden Layer 3 \n",
    "        out = self.relu5(out)\n",
    "        \n",
    "        out = self.linear6(out) # Output Layer\n",
    "        \n",
    "        return out\n",
    "    \n",
    "\n",
    "model = ANN()\n",
    "optimizer = torch.optim.Adam(model.parameters(),lr=0.01)\n",
    "error = nn.CrossEntropyLoss() #binary_crossentropy\n"
   ]
  },
  {
   "cell_type": "code",
   "execution_count": 111,
   "id": "51745211-3aa9-479d-ac5d-9bdd7c374066",
   "metadata": {},
   "outputs": [
    {
     "name": "stdout",
     "output_type": "stream",
     "text": [
      "Loss after iteration 0 is 0.697046160697937\n",
      "Loss after iteration 1 is 1.2117911577224731\n",
      "Loss after iteration 2 is 0.8583230972290039\n",
      "Loss after iteration 3 is 0.7209729552268982\n",
      "Loss after iteration 4 is 0.6626813411712646\n",
      "Loss after iteration 5 is 0.5789198279380798\n",
      "Loss after iteration 6 is 0.42437660694122314\n",
      "Loss after iteration 7 is 0.25888457894325256\n",
      "Loss after iteration 8 is 0.5198290944099426\n",
      "Loss after iteration 9 is 0.176313579082489\n",
      "Loss after iteration 10 is 0.2459963858127594\n",
      "Loss after iteration 11 is 0.1079857349395752\n",
      "Loss after iteration 12 is 0.154530331492424\n",
      "Loss after iteration 13 is 0.1406022310256958\n",
      "Loss after iteration 14 is 0.09772063791751862\n",
      "Loss after iteration 15 is 0.07625406235456467\n",
      "Loss after iteration 16 is 0.08136831223964691\n",
      "Loss after iteration 17 is 0.0753089189529419\n",
      "Loss after iteration 18 is 0.05092330649495125\n",
      "Loss after iteration 19 is 0.035624515265226364\n",
      "Loss after iteration 20 is 0.03485839441418648\n",
      "Loss after iteration 21 is 0.03549778833985329\n",
      "Loss after iteration 22 is 0.029871810227632523\n",
      "Loss after iteration 23 is 0.022921262308955193\n",
      "Loss after iteration 24 is 0.01876034028828144\n",
      "Loss after iteration 25 is 0.017176629975438118\n",
      "Loss after iteration 26 is 0.013935822993516922\n",
      "Loss after iteration 27 is 0.00973901804536581\n",
      "Loss after iteration 28 is 0.007202200125902891\n",
      "Loss after iteration 29 is 0.006109538022428751\n",
      "Loss after iteration 30 is 0.005570037290453911\n",
      "Loss after iteration 31 is 0.004678826779127121\n",
      "Loss after iteration 32 is 0.003526401938870549\n",
      "Loss after iteration 33 is 0.002625029534101486\n",
      "Loss after iteration 34 is 0.0019786935299634933\n",
      "Loss after iteration 35 is 0.0014524024445563555\n",
      "Loss after iteration 36 is 0.0010016865562647581\n",
      "Loss after iteration 37 is 0.0007272359216585755\n",
      "Loss after iteration 38 is 0.0005565141909755766\n",
      "Loss after iteration 39 is 0.00046700058737769723\n",
      "Loss after iteration 40 is 0.0004457294417079538\n",
      "Loss after iteration 41 is 0.0004159784293733537\n",
      "Loss after iteration 42 is 0.00040366052417084575\n",
      "Loss after iteration 43 is 0.0004018433392047882\n",
      "Loss after iteration 44 is 0.00040167837869375944\n",
      "Loss after iteration 45 is 0.0003992439596913755\n",
      "Loss after iteration 46 is 0.000397758383769542\n",
      "Loss after iteration 47 is 0.0003962625050917268\n",
      "Loss after iteration 48 is 0.000394002883695066\n",
      "Loss after iteration 49 is 0.00039085844764485955\n",
      "Loss after iteration 50 is 0.00038726761704310775\n",
      "Loss after iteration 51 is 0.00038314666016958654\n",
      "Loss after iteration 52 is 0.0003784986038226634\n",
      "Loss after iteration 53 is 0.0003733475459739566\n",
      "Loss after iteration 54 is 0.0003677031781990081\n",
      "Loss after iteration 55 is 0.0003618714108597487\n",
      "Loss after iteration 56 is 0.00035588143509812653\n",
      "Loss after iteration 57 is 0.0003496009740047157\n",
      "Loss after iteration 58 is 0.0003430918441154063\n",
      "Loss after iteration 59 is 0.00033638771856203675\n",
      "Loss after iteration 60 is 0.0003295197675470263\n",
      "Loss after iteration 61 is 0.0003225167456548661\n",
      "Loss after iteration 62 is 0.00031540344934910536\n",
      "Loss after iteration 63 is 0.0003082033072132617\n",
      "Loss after iteration 64 is 0.0003009384963661432\n",
      "Loss after iteration 65 is 0.00029363203793764114\n",
      "Loss after iteration 66 is 0.0002863161207642406\n",
      "Loss after iteration 67 is 0.00027899499400518835\n",
      "Loss after iteration 68 is 0.0002716910094022751\n",
      "Loss after iteration 69 is 0.0002644262567628175\n",
      "Loss after iteration 70 is 0.0002572306839283556\n",
      "Loss after iteration 71 is 0.0002501484705135226\n",
      "Loss after iteration 72 is 0.00024323129036929458\n",
      "Loss after iteration 73 is 0.0002365434920648113\n",
      "Loss after iteration 74 is 0.00022989932040218264\n",
      "Loss after iteration 75 is 0.00022348761558532715\n",
      "Loss after iteration 76 is 0.00021770046441815794\n",
      "Loss after iteration 77 is 0.00021277843916323036\n",
      "Loss after iteration 78 is 0.0002090022899210453\n",
      "Loss after iteration 79 is 0.00020666034833993763\n",
      "Loss after iteration 80 is 0.0002059118851320818\n",
      "Loss after iteration 81 is 0.00020662210590671748\n",
      "Loss after iteration 82 is 0.00020806860993616283\n",
      "Loss after iteration 83 is 0.00020920662791468203\n",
      "Loss after iteration 84 is 0.00020932663755957037\n",
      "Loss after iteration 85 is 0.00020801318169105798\n",
      "Loss after iteration 86 is 0.00020578007388394326\n",
      "Loss after iteration 87 is 0.00020368292462080717\n",
      "Loss after iteration 88 is 0.0002022853441303596\n",
      "Loss after iteration 89 is 0.00020179938292130828\n",
      "Loss after iteration 90 is 0.00020208267960697412\n",
      "Loss after iteration 91 is 0.00020270342065487057\n",
      "Loss after iteration 92 is 0.00020321260672062635\n",
      "Loss after iteration 93 is 0.00020338331523817033\n",
      "Loss after iteration 94 is 0.00020322419004514813\n",
      "Loss after iteration 95 is 0.0002028091694228351\n",
      "Loss after iteration 96 is 0.00020224033505655825\n",
      "Loss after iteration 97 is 0.00020172199583612382\n",
      "Loss after iteration 98 is 0.00020135068916715682\n",
      "Loss after iteration 99 is 0.00020118296379223466\n",
      "Loss after iteration 100 is 0.00020121670968364924\n",
      "Loss after iteration 101 is 0.00020137861429248005\n",
      "Loss after iteration 102 is 0.00020156189566478133\n",
      "Loss after iteration 103 is 0.00020167110778857023\n",
      "Loss after iteration 104 is 0.00020166888134554029\n",
      "Loss after iteration 105 is 0.00020156745449639857\n",
      "Loss after iteration 106 is 0.00020140304695814848\n",
      "Loss after iteration 107 is 0.00020122830756008625\n",
      "Loss after iteration 108 is 0.00020108709577471018\n",
      "Loss after iteration 109 is 0.0002010068710660562\n",
      "Loss after iteration 110 is 0.00020098844834137708\n",
      "Loss after iteration 111 is 0.00020101827976759523\n",
      "Loss after iteration 112 is 0.000201068221940659\n",
      "Loss after iteration 113 is 0.00020111406047362834\n",
      "Loss after iteration 114 is 0.00020113422942813486\n",
      "Loss after iteration 115 is 0.0002011250180657953\n",
      "Loss after iteration 116 is 0.00020108550961595029\n",
      "Loss after iteration 117 is 0.000201029863092117\n",
      "Loss after iteration 118 is 0.00020097421656828374\n",
      "Loss after iteration 119 is 0.00020093111379537731\n",
      "Loss after iteration 120 is 0.00020090708858333528\n",
      "Loss after iteration 121 is 0.00020090342150069773\n",
      "Loss after iteration 122 is 0.00020091306942049414\n",
      "Loss after iteration 123 is 0.00020092815975658596\n",
      "Loss after iteration 124 is 0.00020093919010832906\n",
      "Loss after iteration 125 is 0.00020094109640922397\n",
      "Loss after iteration 126 is 0.00020092938211746514\n",
      "Loss after iteration 127 is 0.0002009106829063967\n",
      "Loss after iteration 128 is 0.00020088773453608155\n",
      "Loss after iteration 129 is 0.00020086858421564102\n",
      "Loss after iteration 130 is 0.0002008558512898162\n",
      "Loss after iteration 131 is 0.00020085039432160556\n",
      "Loss after iteration 132 is 0.00020085155847482383\n",
      "Loss after iteration 133 is 0.0002008550363825634\n",
      "Loss after iteration 134 is 0.00020085742289666086\n",
      "Loss after iteration 135 is 0.0002008563606068492\n",
      "Loss after iteration 136 is 0.00020085264986846596\n",
      "Loss after iteration 137 is 0.00020084489369764924\n",
      "Loss after iteration 138 is 0.00020083515846636146\n",
      "Loss after iteration 139 is 0.00020082748960703611\n",
      "Loss after iteration 140 is 0.00020082146511413157\n",
      "Loss after iteration 141 is 0.0002008168085012585\n",
      "Loss after iteration 142 is 0.0002008153242059052\n",
      "Loss after iteration 143 is 0.00020081557158846408\n",
      "Loss after iteration 144 is 0.0002008164010476321\n",
      "Loss after iteration 145 is 0.00020081554248463362\n",
      "Loss after iteration 146 is 0.00020081231195945293\n",
      "Loss after iteration 147 is 0.00020080908143427223\n",
      "Loss after iteration 148 is 0.00020080376998521388\n",
      "Loss after iteration 149 is 0.00020079899695701897\n"
     ]
    }
   ],
   "source": [
    "# Converting numpy arrays into pytorch tensors\n",
    "X_train = torch.Tensor(X_train)\n",
    "\n",
    "# You must convert it into LongTensor. I did it once\n",
    "Y_train = torch.Tensor(Y_train).type(torch.LongTensor)\n",
    "\n",
    "X_test = torch.Tensor(X_test)\n",
    "Y_test = torch.Tensor(Y_test)\n",
    "\n",
    "EPOCHS = 150\n",
    "\n",
    "for epoch in range(EPOCHS):\n",
    "    \n",
    "    # Clearing gradients\n",
    "    optimizer.zero_grad()\n",
    "    \n",
    "    # Forward Propagation\n",
    "    outs = model(X_train)\n",
    "    \n",
    "    # Computing Loss\n",
    "    loss = error(outs,Y_train)\n",
    "    \n",
    "    # Backward propagation\n",
    "    loss.backward()\n",
    "    \n",
    "    # Updating parameters\n",
    "    optimizer.step()\n",
    "    \n",
    "    # Printing loss\n",
    "    print(f\"Loss after iteration {epoch} is {loss}\")"
   ]
  },
  {
   "cell_type": "code",
   "execution_count": 112,
   "id": "85c3aea4-3bf8-4730-b4ee-03cd09be4051",
   "metadata": {},
   "outputs": [
    {
     "name": "stdout",
     "output_type": "stream",
     "text": [
      "tensor([-100.0362,  -68.2395], grad_fn=<SelectBackward0>)\n",
      "tensor(1)\n",
      " accuracy =  98.35189309576838\n",
      " precision =  98.38065194532072\n",
      " recall =  98.50494841019162\n",
      " f1_score =  98.44276094276094\n"
     ]
    }
   ],
   "source": [
    "from sklearn.metrics import confusion_matrix,accuracy_score,precision_score,recall_score,f1_score\n",
    "\n",
    "# Prediction\n",
    "y_head = model(X_test)\n",
    "print(y_head[0])\n",
    "\n",
    "# Converting Prediction into labels\n",
    "y_pred = torch.max(y_head,1)[1]\n",
    "print(y_pred[0])\n",
    "\n",
    "# Accuracy score\n",
    "print(\" accuracy = \",accuracy_score(y_pred,Y_test)*100)\n",
    "print(\" precision = \",precision_score(y_pred,Y_test)*100)\n",
    "print(\" recall = \",recall_score(y_pred,Y_test)*100)\n",
    "print(\" f1_score = \",f1_score(y_pred,Y_test)*100)"
   ]
  },
  {
   "cell_type": "code",
   "execution_count": 113,
   "id": "25a6b16a-a251-4cbb-8fd5-4aa462c74f69",
   "metadata": {},
   "outputs": [
    {
     "data": {
      "image/png": "[encoded data removed]",
      "text/plain": [
       "<Figure size 576x432 with 2 Axes>"
      ]
     },
     "metadata": {
      "needs_background": "light"
     },
     "output_type": "display_data"
    }
   ],
   "source": [
    "confusion_matrix = confusion_matrix(y_pred=y_pred,y_true=Y_test) #y_true=y_test\n",
    "\n",
    "fig,ax = plt.subplots(figsize=(8,6))\n",
    "sns.heatmap(confusion_matrix,cmap= \"OrRd\", linecolor = 'black' ,annot=True,fmt=\" \",linewidths=2,xticklabels=['FAKE', 'TRUE'], yticklabels=['FAKE', 'TRUE'])\n",
    "plt.show()"
   ]
  },
  {
   "cell_type": "code",
   "execution_count": null,
   "id": "57b966ce-2325-4c89-9fbe-5913e4ac04f5",
   "metadata": {},
   "outputs": [],
   "source": []
  },
  {
   "cell_type": "code",
   "execution_count": null,
   "id": "4e2a8fd7-b2fd-427d-a59c-cdcddb886368",
   "metadata": {},
   "outputs": [],
   "source": []
  },
  {
   "cell_type": "code",
   "execution_count": null,
   "id": "6cd15d14-a227-47d5-9e3e-6ce8bdd1160a",
   "metadata": {},
   "outputs": [],
   "source": []
  },
  {
   "cell_type": "code",
   "execution_count": null,
   "id": "7b728505-9f87-4fdf-b69d-311921c507b3",
   "metadata": {},
   "outputs": [],
   "source": []
  },
  {
   "cell_type": "code",
   "execution_count": null,
   "id": "27dc130f-8c7b-4014-bb4e-8da07e39721a",
   "metadata": {},
   "outputs": [],
   "source": []
  },
  {
   "cell_type": "code",
   "execution_count": null,
   "id": "b7c165dc-0cc7-4479-8fb5-7bc7fe1a7d94",
   "metadata": {},
   "outputs": [],
   "source": []
  }
 ],
 "metadata": {
  "kernelspec": {
   "display_name": "Python 3",
   "language": "python",
   "name": "python3"
  },
  "language_info": {
   "codemirror_mode": {
    "name": "ipython",
    "version": 3
   },
   "file_extension": ".py",
   "mimetype": "text/x-python",
   "name": "python",
   "nbconvert_exporter": "python",
   "pygments_lexer": "ipython3",
   "version": "3.8.8"
  }
 },
 "nbformat": 4,
 "nbformat_minor": 5
}
