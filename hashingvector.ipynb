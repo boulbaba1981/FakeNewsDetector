{
 "cells": [
  {
   "cell_type": "markdown",
   "id": "f342981a-478b-41e8-9c8d-feb9da04d45f",
   "metadata": {},
   "source": [
    "# Libraries"
   ]
  },
  {
   "cell_type": "code",
   "execution_count": 1,
   "id": "64423b11-2a90-4419-9acd-0d0502cea6d5",
   "metadata": {},
   "outputs": [],
   "source": [
    "# Load librarie\n",
    "import pandas as pd\n",
    "import numpy as np"
   ]
  },
  {
   "cell_type": "markdown",
   "id": "728b1a89-40f7-438f-88ba-e2fddf729e23",
   "metadata": {},
   "source": [
    "# Reading and adding label\n"
   ]
  },
  {
   "cell_type": "code",
   "execution_count": 2,
   "id": "3edcd76c-0d25-4607-8ecb-5cad9e390999",
   "metadata": {},
   "outputs": [
    {
     "data": {
      "text/html": [
       "<div>\n",
       "<style scoped>\n",
       "    .dataframe tbody tr th:only-of-type {\n",
       "        vertical-align: middle;\n",
       "    }\n",
       "\n",
       "    .dataframe tbody tr th {\n",
       "        vertical-align: top;\n",
       "    }\n",
       "\n",
       "    .dataframe thead th {\n",
       "        text-align: right;\n",
       "    }\n",
       "</style>\n",
       "<table border=\"1\" class=\"dataframe\">\n",
       "  <thead>\n",
       "    <tr style=\"text-align: right;\">\n",
       "      <th></th>\n",
       "      <th>title</th>\n",
       "      <th>text</th>\n",
       "      <th>subject</th>\n",
       "      <th>date</th>\n",
       "      <th>Label</th>\n",
       "    </tr>\n",
       "  </thead>\n",
       "  <tbody>\n",
       "    <tr>\n",
       "      <th>0</th>\n",
       "      <td>Donald Trump Sends Out Embarrassing New Year’...</td>\n",
       "      <td>Donald Trump just couldn t wish all Americans ...</td>\n",
       "      <td>News</td>\n",
       "      <td>December 31, 2017</td>\n",
       "      <td>1</td>\n",
       "    </tr>\n",
       "    <tr>\n",
       "      <th>1</th>\n",
       "      <td>Drunk Bragging Trump Staffer Started Russian ...</td>\n",
       "      <td>House Intelligence Committee Chairman Devin Nu...</td>\n",
       "      <td>News</td>\n",
       "      <td>December 31, 2017</td>\n",
       "      <td>1</td>\n",
       "    </tr>\n",
       "    <tr>\n",
       "      <th>2</th>\n",
       "      <td>Sheriff David Clarke Becomes An Internet Joke...</td>\n",
       "      <td>On Friday, it was revealed that former Milwauk...</td>\n",
       "      <td>News</td>\n",
       "      <td>December 30, 2017</td>\n",
       "      <td>1</td>\n",
       "    </tr>\n",
       "    <tr>\n",
       "      <th>3</th>\n",
       "      <td>Trump Is So Obsessed He Even Has Obama’s Name...</td>\n",
       "      <td>On Christmas day, Donald Trump announced that ...</td>\n",
       "      <td>News</td>\n",
       "      <td>December 29, 2017</td>\n",
       "      <td>1</td>\n",
       "    </tr>\n",
       "    <tr>\n",
       "      <th>4</th>\n",
       "      <td>Pope Francis Just Called Out Donald Trump Dur...</td>\n",
       "      <td>Pope Francis used his annual Christmas Day mes...</td>\n",
       "      <td>News</td>\n",
       "      <td>December 25, 2017</td>\n",
       "      <td>1</td>\n",
       "    </tr>\n",
       "    <tr>\n",
       "      <th>...</th>\n",
       "      <td>...</td>\n",
       "      <td>...</td>\n",
       "      <td>...</td>\n",
       "      <td>...</td>\n",
       "      <td>...</td>\n",
       "    </tr>\n",
       "    <tr>\n",
       "      <th>23476</th>\n",
       "      <td>McPain: John McCain Furious That Iran Treated ...</td>\n",
       "      <td>21st Century Wire says As 21WIRE reported earl...</td>\n",
       "      <td>Middle-east</td>\n",
       "      <td>January 16, 2016</td>\n",
       "      <td>1</td>\n",
       "    </tr>\n",
       "    <tr>\n",
       "      <th>23477</th>\n",
       "      <td>JUSTICE? Yahoo Settles E-mail Privacy Class-ac...</td>\n",
       "      <td>21st Century Wire says It s a familiar theme. ...</td>\n",
       "      <td>Middle-east</td>\n",
       "      <td>January 16, 2016</td>\n",
       "      <td>1</td>\n",
       "    </tr>\n",
       "    <tr>\n",
       "      <th>23478</th>\n",
       "      <td>Sunnistan: US and Allied ‘Safe Zone’ Plan to T...</td>\n",
       "      <td>Patrick Henningsen  21st Century WireRemember ...</td>\n",
       "      <td>Middle-east</td>\n",
       "      <td>January 15, 2016</td>\n",
       "      <td>1</td>\n",
       "    </tr>\n",
       "    <tr>\n",
       "      <th>23479</th>\n",
       "      <td>How to Blow $700 Million: Al Jazeera America F...</td>\n",
       "      <td>21st Century Wire says Al Jazeera America will...</td>\n",
       "      <td>Middle-east</td>\n",
       "      <td>January 14, 2016</td>\n",
       "      <td>1</td>\n",
       "    </tr>\n",
       "    <tr>\n",
       "      <th>23480</th>\n",
       "      <td>10 U.S. Navy Sailors Held by Iranian Military ...</td>\n",
       "      <td>21st Century Wire says As 21WIRE predicted in ...</td>\n",
       "      <td>Middle-east</td>\n",
       "      <td>January 12, 2016</td>\n",
       "      <td>1</td>\n",
       "    </tr>\n",
       "  </tbody>\n",
       "</table>\n",
       "<p>23481 rows × 5 columns</p>\n",
       "</div>"
      ],
      "text/plain": [
       "                                                   title  \\\n",
       "0       Donald Trump Sends Out Embarrassing New Year’...   \n",
       "1       Drunk Bragging Trump Staffer Started Russian ...   \n",
       "2       Sheriff David Clarke Becomes An Internet Joke...   \n",
       "3       Trump Is So Obsessed He Even Has Obama’s Name...   \n",
       "4       Pope Francis Just Called Out Donald Trump Dur...   \n",
       "...                                                  ...   \n",
       "23476  McPain: John McCain Furious That Iran Treated ...   \n",
       "23477  JUSTICE? Yahoo Settles E-mail Privacy Class-ac...   \n",
       "23478  Sunnistan: US and Allied ‘Safe Zone’ Plan to T...   \n",
       "23479  How to Blow $700 Million: Al Jazeera America F...   \n",
       "23480  10 U.S. Navy Sailors Held by Iranian Military ...   \n",
       "\n",
       "                                                    text      subject  \\\n",
       "0      Donald Trump just couldn t wish all Americans ...         News   \n",
       "1      House Intelligence Committee Chairman Devin Nu...         News   \n",
       "2      On Friday, it was revealed that former Milwauk...         News   \n",
       "3      On Christmas day, Donald Trump announced that ...         News   \n",
       "4      Pope Francis used his annual Christmas Day mes...         News   \n",
       "...                                                  ...          ...   \n",
       "23476  21st Century Wire says As 21WIRE reported earl...  Middle-east   \n",
       "23477  21st Century Wire says It s a familiar theme. ...  Middle-east   \n",
       "23478  Patrick Henningsen  21st Century WireRemember ...  Middle-east   \n",
       "23479  21st Century Wire says Al Jazeera America will...  Middle-east   \n",
       "23480  21st Century Wire says As 21WIRE predicted in ...  Middle-east   \n",
       "\n",
       "                    date  Label  \n",
       "0      December 31, 2017      1  \n",
       "1      December 31, 2017      1  \n",
       "2      December 30, 2017      1  \n",
       "3      December 29, 2017      1  \n",
       "4      December 25, 2017      1  \n",
       "...                  ...    ...  \n",
       "23476   January 16, 2016      1  \n",
       "23477   January 16, 2016      1  \n",
       "23478   January 15, 2016      1  \n",
       "23479   January 14, 2016      1  \n",
       "23480   January 12, 2016      1  \n",
       "\n",
       "[23481 rows x 5 columns]"
      ]
     },
     "execution_count": 2,
     "metadata": {},
     "output_type": "execute_result"
    }
   ],
   "source": [
    "# Load fake news dataset\n",
    "fake = pd.read_csv(\"Fake.csv\")\n",
    "# Load true news dataset\n",
    "true = pd.read_csv(\"True.csv\")\n",
    "# Add label\n",
    "fake[\"Label\"] = 1\n",
    "true[\"Label\"] = 0\n",
    "fake"
   ]
  },
  {
   "cell_type": "markdown",
   "id": "de201d8e-113b-4eab-852d-2637ab2cdceb",
   "metadata": {},
   "source": [
    "# Combining "
   ]
  },
  {
   "cell_type": "code",
   "execution_count": 3,
   "id": "debe53ed-0444-4096-adb8-3c82ec1cd407",
   "metadata": {},
   "outputs": [
    {
     "data": {
      "text/html": [
       "<div>\n",
       "<style scoped>\n",
       "    .dataframe tbody tr th:only-of-type {\n",
       "        vertical-align: middle;\n",
       "    }\n",
       "\n",
       "    .dataframe tbody tr th {\n",
       "        vertical-align: top;\n",
       "    }\n",
       "\n",
       "    .dataframe thead th {\n",
       "        text-align: right;\n",
       "    }\n",
       "</style>\n",
       "<table border=\"1\" class=\"dataframe\">\n",
       "  <thead>\n",
       "    <tr style=\"text-align: right;\">\n",
       "      <th></th>\n",
       "      <th>title</th>\n",
       "      <th>text</th>\n",
       "      <th>subject</th>\n",
       "      <th>date</th>\n",
       "      <th>Label</th>\n",
       "    </tr>\n",
       "  </thead>\n",
       "  <tbody>\n",
       "    <tr>\n",
       "      <th>0</th>\n",
       "      <td>Donald Trump Sends Out Embarrassing New Year’...</td>\n",
       "      <td>Donald Trump just couldn t wish all Americans ...</td>\n",
       "      <td>News</td>\n",
       "      <td>December 31, 2017</td>\n",
       "      <td>1</td>\n",
       "    </tr>\n",
       "    <tr>\n",
       "      <th>1</th>\n",
       "      <td>Drunk Bragging Trump Staffer Started Russian ...</td>\n",
       "      <td>House Intelligence Committee Chairman Devin Nu...</td>\n",
       "      <td>News</td>\n",
       "      <td>December 31, 2017</td>\n",
       "      <td>1</td>\n",
       "    </tr>\n",
       "    <tr>\n",
       "      <th>2</th>\n",
       "      <td>Sheriff David Clarke Becomes An Internet Joke...</td>\n",
       "      <td>On Friday, it was revealed that former Milwauk...</td>\n",
       "      <td>News</td>\n",
       "      <td>December 30, 2017</td>\n",
       "      <td>1</td>\n",
       "    </tr>\n",
       "    <tr>\n",
       "      <th>3</th>\n",
       "      <td>Trump Is So Obsessed He Even Has Obama’s Name...</td>\n",
       "      <td>On Christmas day, Donald Trump announced that ...</td>\n",
       "      <td>News</td>\n",
       "      <td>December 29, 2017</td>\n",
       "      <td>1</td>\n",
       "    </tr>\n",
       "    <tr>\n",
       "      <th>4</th>\n",
       "      <td>Pope Francis Just Called Out Donald Trump Dur...</td>\n",
       "      <td>Pope Francis used his annual Christmas Day mes...</td>\n",
       "      <td>News</td>\n",
       "      <td>December 25, 2017</td>\n",
       "      <td>1</td>\n",
       "    </tr>\n",
       "    <tr>\n",
       "      <th>...</th>\n",
       "      <td>...</td>\n",
       "      <td>...</td>\n",
       "      <td>...</td>\n",
       "      <td>...</td>\n",
       "      <td>...</td>\n",
       "    </tr>\n",
       "    <tr>\n",
       "      <th>21412</th>\n",
       "      <td>'Fully committed' NATO backs new U.S. approach...</td>\n",
       "      <td>BRUSSELS (Reuters) - NATO allies on Tuesday we...</td>\n",
       "      <td>worldnews</td>\n",
       "      <td>August 22, 2017</td>\n",
       "      <td>0</td>\n",
       "    </tr>\n",
       "    <tr>\n",
       "      <th>21413</th>\n",
       "      <td>LexisNexis withdrew two products from Chinese ...</td>\n",
       "      <td>LONDON (Reuters) - LexisNexis, a provider of l...</td>\n",
       "      <td>worldnews</td>\n",
       "      <td>August 22, 2017</td>\n",
       "      <td>0</td>\n",
       "    </tr>\n",
       "    <tr>\n",
       "      <th>21414</th>\n",
       "      <td>Minsk cultural hub becomes haven from authorities</td>\n",
       "      <td>MINSK (Reuters) - In the shadow of disused Sov...</td>\n",
       "      <td>worldnews</td>\n",
       "      <td>August 22, 2017</td>\n",
       "      <td>0</td>\n",
       "    </tr>\n",
       "    <tr>\n",
       "      <th>21415</th>\n",
       "      <td>Vatican upbeat on possibility of Pope Francis ...</td>\n",
       "      <td>MOSCOW (Reuters) - Vatican Secretary of State ...</td>\n",
       "      <td>worldnews</td>\n",
       "      <td>August 22, 2017</td>\n",
       "      <td>0</td>\n",
       "    </tr>\n",
       "    <tr>\n",
       "      <th>21416</th>\n",
       "      <td>Indonesia to buy $1.14 billion worth of Russia...</td>\n",
       "      <td>JAKARTA (Reuters) - Indonesia will buy 11 Sukh...</td>\n",
       "      <td>worldnews</td>\n",
       "      <td>August 22, 2017</td>\n",
       "      <td>0</td>\n",
       "    </tr>\n",
       "  </tbody>\n",
       "</table>\n",
       "<p>44898 rows × 5 columns</p>\n",
       "</div>"
      ],
      "text/plain": [
       "                                                   title  \\\n",
       "0       Donald Trump Sends Out Embarrassing New Year’...   \n",
       "1       Drunk Bragging Trump Staffer Started Russian ...   \n",
       "2       Sheriff David Clarke Becomes An Internet Joke...   \n",
       "3       Trump Is So Obsessed He Even Has Obama’s Name...   \n",
       "4       Pope Francis Just Called Out Donald Trump Dur...   \n",
       "...                                                  ...   \n",
       "21412  'Fully committed' NATO backs new U.S. approach...   \n",
       "21413  LexisNexis withdrew two products from Chinese ...   \n",
       "21414  Minsk cultural hub becomes haven from authorities   \n",
       "21415  Vatican upbeat on possibility of Pope Francis ...   \n",
       "21416  Indonesia to buy $1.14 billion worth of Russia...   \n",
       "\n",
       "                                                    text    subject  \\\n",
       "0      Donald Trump just couldn t wish all Americans ...       News   \n",
       "1      House Intelligence Committee Chairman Devin Nu...       News   \n",
       "2      On Friday, it was revealed that former Milwauk...       News   \n",
       "3      On Christmas day, Donald Trump announced that ...       News   \n",
       "4      Pope Francis used his annual Christmas Day mes...       News   \n",
       "...                                                  ...        ...   \n",
       "21412  BRUSSELS (Reuters) - NATO allies on Tuesday we...  worldnews   \n",
       "21413  LONDON (Reuters) - LexisNexis, a provider of l...  worldnews   \n",
       "21414  MINSK (Reuters) - In the shadow of disused Sov...  worldnews   \n",
       "21415  MOSCOW (Reuters) - Vatican Secretary of State ...  worldnews   \n",
       "21416  JAKARTA (Reuters) - Indonesia will buy 11 Sukh...  worldnews   \n",
       "\n",
       "                    date  Label  \n",
       "0      December 31, 2017      1  \n",
       "1      December 31, 2017      1  \n",
       "2      December 30, 2017      1  \n",
       "3      December 29, 2017      1  \n",
       "4      December 25, 2017      1  \n",
       "...                  ...    ...  \n",
       "21412   August 22, 2017       0  \n",
       "21413   August 22, 2017       0  \n",
       "21414   August 22, 2017       0  \n",
       "21415   August 22, 2017       0  \n",
       "21416   August 22, 2017       0  \n",
       "\n",
       "[44898 rows x 5 columns]"
      ]
     },
     "execution_count": 3,
     "metadata": {},
     "output_type": "execute_result"
    }
   ],
   "source": [
    "# Combining both into new dataframe \"news_dataset\"\n",
    "frames = [fake, true]\n",
    "news_dataset= pd.concat(frames)\n",
    "news_dataset"
   ]
  },
  {
   "cell_type": "markdown",
   "id": "ad941c5f-5fe3-4973-a36a-a8b13b2ac50e",
   "metadata": {},
   "source": [
    "# Shuffling data"
   ]
  },
  {
   "cell_type": "code",
   "execution_count": 4,
   "id": "0caf3088-639a-469e-87d0-5039e0f7e716",
   "metadata": {},
   "outputs": [
    {
     "data": {
      "text/html": [
       "<div>\n",
       "<style scoped>\n",
       "    .dataframe tbody tr th:only-of-type {\n",
       "        vertical-align: middle;\n",
       "    }\n",
       "\n",
       "    .dataframe tbody tr th {\n",
       "        vertical-align: top;\n",
       "    }\n",
       "\n",
       "    .dataframe thead th {\n",
       "        text-align: right;\n",
       "    }\n",
       "</style>\n",
       "<table border=\"1\" class=\"dataframe\">\n",
       "  <thead>\n",
       "    <tr style=\"text-align: right;\">\n",
       "      <th></th>\n",
       "      <th>title</th>\n",
       "      <th>text</th>\n",
       "      <th>subject</th>\n",
       "      <th>date</th>\n",
       "      <th>Label</th>\n",
       "    </tr>\n",
       "  </thead>\n",
       "  <tbody>\n",
       "    <tr>\n",
       "      <th>726</th>\n",
       "      <td>GOP Senator Has Had ENOUGH: Firing Mueller Co...</td>\n",
       "      <td>Senator Lindsey Graham (R-SC) has never been a...</td>\n",
       "      <td>News</td>\n",
       "      <td>July 27, 2017</td>\n",
       "      <td>1</td>\n",
       "    </tr>\n",
       "    <tr>\n",
       "      <th>12606</th>\n",
       "      <td>VERY POWERFUL! Black Trump Supporters Give MSN...</td>\n",
       "      <td>MUST WATCH: MSNBC interviews black women voter...</td>\n",
       "      <td>politics</td>\n",
       "      <td>Oct 27, 2016</td>\n",
       "      <td>1</td>\n",
       "    </tr>\n",
       "    <tr>\n",
       "      <th>18273</th>\n",
       "      <td>British PM May is not considering resigning af...</td>\n",
       "      <td>LONDON (Reuters) - British Prime Minister Ther...</td>\n",
       "      <td>worldnews</td>\n",
       "      <td>October 5, 2017</td>\n",
       "      <td>0</td>\n",
       "    </tr>\n",
       "    <tr>\n",
       "      <th>6760</th>\n",
       "      <td>McCain says 'no information' Russia sought to ...</td>\n",
       "      <td>WASHINGTON (Reuters) - There is “no informatio...</td>\n",
       "      <td>politicsNews</td>\n",
       "      <td>December 12, 2016</td>\n",
       "      <td>0</td>\n",
       "    </tr>\n",
       "    <tr>\n",
       "      <th>6791</th>\n",
       "      <td>Romney niece McDaniel is favorite to head Repu...</td>\n",
       "      <td>GRAND RAPIDS, Mich. (Reuters) - Michigan Repub...</td>\n",
       "      <td>politicsNews</td>\n",
       "      <td>December 9, 2016</td>\n",
       "      <td>0</td>\n",
       "    </tr>\n",
       "  </tbody>\n",
       "</table>\n",
       "</div>"
      ],
      "text/plain": [
       "                                                   title  \\\n",
       "726     GOP Senator Has Had ENOUGH: Firing Mueller Co...   \n",
       "12606  VERY POWERFUL! Black Trump Supporters Give MSN...   \n",
       "18273  British PM May is not considering resigning af...   \n",
       "6760   McCain says 'no information' Russia sought to ...   \n",
       "6791   Romney niece McDaniel is favorite to head Repu...   \n",
       "\n",
       "                                                    text       subject  \\\n",
       "726    Senator Lindsey Graham (R-SC) has never been a...          News   \n",
       "12606  MUST WATCH: MSNBC interviews black women voter...      politics   \n",
       "18273  LONDON (Reuters) - British Prime Minister Ther...     worldnews   \n",
       "6760   WASHINGTON (Reuters) - There is “no informatio...  politicsNews   \n",
       "6791   GRAND RAPIDS, Mich. (Reuters) - Michigan Repub...  politicsNews   \n",
       "\n",
       "                     date  Label  \n",
       "726         July 27, 2017      1  \n",
       "12606        Oct 27, 2016      1  \n",
       "18273    October 5, 2017       0  \n",
       "6760   December 12, 2016       0  \n",
       "6791    December 9, 2016       0  "
      ]
     },
     "execution_count": 4,
     "metadata": {},
     "output_type": "execute_result"
    }
   ],
   "source": [
    "news_dataset = news_dataset .sample(frac = 1)\n",
    "news_dataset.head()"
   ]
  },
  {
   "cell_type": "markdown",
   "id": "ae3517ce-915f-46df-a0d8-5c3bb506c056",
   "metadata": {},
   "source": [
    "# Pre-Processing"
   ]
  },
  {
   "cell_type": "code",
   "execution_count": 5,
   "id": "61de81f0-8ce8-4996-a27a-bec16d0dbfd1",
   "metadata": {},
   "outputs": [],
   "source": [
    "import re \n",
    "from nltk.corpus import stopwords\n",
    "from nltk.stem.porter import PorterStemmer"
   ]
  },
  {
   "cell_type": "code",
   "execution_count": 6,
   "id": "a01b741e-8ea4-4674-9619-e89851b2bd75",
   "metadata": {},
   "outputs": [
    {
     "name": "stderr",
     "output_type": "stream",
     "text": [
      "[nltk_data] Downloading package stopwords to\n",
      "[nltk_data]     C:\\Users\\ASUS1\\AppData\\Roaming\\nltk_data...\n",
      "[nltk_data]   Package stopwords is already up-to-date!\n"
     ]
    },
    {
     "data": {
      "text/plain": [
       "True"
      ]
     },
     "execution_count": 6,
     "metadata": {},
     "output_type": "execute_result"
    }
   ],
   "source": [
    "import nltk \n",
    "nltk.download('stopwords')"
   ]
  },
  {
   "cell_type": "code",
   "execution_count": 7,
   "id": "c74428b3-7779-4b18-ab44-abd4de0bf73b",
   "metadata": {},
   "outputs": [
    {
     "name": "stdout",
     "output_type": "stream",
     "text": [
      "['i', 'me', 'my', 'myself', 'we', 'our', 'ours', 'ourselves', 'you', \"you're\", \"you've\", \"you'll\", \"you'd\", 'your', 'yours', 'yourself', 'yourselves', 'he', 'him', 'his', 'himself', 'she', \"she's\", 'her', 'hers', 'herself', 'it', \"it's\", 'its', 'itself', 'they', 'them', 'their', 'theirs', 'themselves', 'what', 'which', 'who', 'whom', 'this', 'that', \"that'll\", 'these', 'those', 'am', 'is', 'are', 'was', 'were', 'be', 'been', 'being', 'have', 'has', 'had', 'having', 'do', 'does', 'did', 'doing', 'a', 'an', 'the', 'and', 'but', 'if', 'or', 'because', 'as', 'until', 'while', 'of', 'at', 'by', 'for', 'with', 'about', 'against', 'between', 'into', 'through', 'during', 'before', 'after', 'above', 'below', 'to', 'from', 'up', 'down', 'in', 'out', 'on', 'off', 'over', 'under', 'again', 'further', 'then', 'once', 'here', 'there', 'when', 'where', 'why', 'how', 'all', 'any', 'both', 'each', 'few', 'more', 'most', 'other', 'some', 'such', 'no', 'nor', 'not', 'only', 'own', 'same', 'so', 'than', 'too', 'very', 's', 't', 'can', 'will', 'just', 'don', \"don't\", 'should', \"should've\", 'now', 'd', 'll', 'm', 'o', 're', 've', 'y', 'ain', 'aren', \"aren't\", 'couldn', \"couldn't\", 'didn', \"didn't\", 'doesn', \"doesn't\", 'hadn', \"hadn't\", 'hasn', \"hasn't\", 'haven', \"haven't\", 'isn', \"isn't\", 'ma', 'mightn', \"mightn't\", 'mustn', \"mustn't\", 'needn', \"needn't\", 'shan', \"shan't\", 'shouldn', \"shouldn't\", 'wasn', \"wasn't\", 'weren', \"weren't\", 'won', \"won't\", 'wouldn', \"wouldn't\"]\n"
     ]
    }
   ],
   "source": [
    "print(stopwords.words('english'))"
   ]
  },
  {
   "cell_type": "code",
   "execution_count": 7,
   "id": "996db414-3ee4-4634-9152-593519267799",
   "metadata": {},
   "outputs": [],
   "source": [
    "news_dataset= news_dataset.drop(['title','subject','date'],axis=1)\n"
   ]
  },
  {
   "cell_type": "markdown",
   "id": "03ae12ba-8487-4264-9404-e8ea987507d7",
   "metadata": {},
   "source": [
    "# Stemming text"
   ]
  },
  {
   "cell_type": "markdown",
   "id": "3ed6bf50-48fe-4a1f-8d74-9ba066d7c7da",
   "metadata": {},
   "source": [
    "#### Stemming is the process of reducing a word to its Root word \n",
    "#### example :\n",
    "##### programmation : programme\n",
    "##### eating : eat \n",
    "##### books : book"
   ]
  },
  {
   "cell_type": "code",
   "execution_count": 8,
   "id": "58e733d5-0553-4225-ac76-1907c34e8412",
   "metadata": {},
   "outputs": [],
   "source": [
    "port_stem = PorterStemmer()"
   ]
  },
  {
   "cell_type": "code",
   "execution_count": 9,
   "id": "88f3f3ca-51b6-42f2-b5a8-2d10e4fc7323",
   "metadata": {},
   "outputs": [],
   "source": [
    "def stemming(content):\n",
    "    strmmed_content = re.sub('[^a-zA-Z]',' ',content)\n",
    "    strmmed_content = strmmed_content.lower() # Characters are lowercase\n",
    "    strmmed_content = strmmed_content.split() # Splits a string into an ordered list of substrings\n",
    "    strmmed_content = [port_stem.stem(word) for word in  strmmed_content   if not word in stopwords.words('english')]\n",
    "    strmmed_content  = ' '.join( strmmed_content )\n",
    "    return  strmmed_content"
   ]
  },
  {
   "cell_type": "code",
   "execution_count": 10,
   "id": "b2d0da78-2abf-47b3-b320-3f33a6820e58",
   "metadata": {},
   "outputs": [],
   "source": [
    "news_dataset['text'] = news_dataset['text'].apply(stemming)"
   ]
  },
  {
   "cell_type": "code",
   "execution_count": 11,
   "id": "e00cd1d7-e0dd-48a5-85ae-cba95e39b9cc",
   "metadata": {},
   "outputs": [
    {
     "name": "stdout",
     "output_type": "stream",
     "text": [
      "726      senat lindsey graham r sc never fan donald tru...\n",
      "12606    must watch msnbc interview black women voter d...\n",
      "18273    london reuter british prime minist theresa may...\n",
      "6760     washington reuter inform russian hack american...\n",
      "6791     grand rapid mich reuter michigan republican pa...\n",
      "                               ...                        \n",
      "5293     washington reuter presid donald trump said thu...\n",
      "11609    toler trust human bomb islam terror allahu akb...\n",
      "10383    low blow polit hack angela rye refus say presi...\n",
      "18114    kati couric career pretti much free fall sinc ...\n",
      "19429    brussel reuter spain eu partner fear mount cri...\n",
      "Name: text, Length: 44898, dtype: object\n"
     ]
    }
   ],
   "source": [
    "print(news_dataset['text'])"
   ]
  },
  {
   "cell_type": "markdown",
   "id": "371fe0da-4022-441d-b1f9-c93cbf6762d4",
   "metadata": {},
   "source": [
    "# Defining dependent and independent variables\n"
   ]
  },
  {
   "cell_type": "code",
   "execution_count": 12,
   "id": "91f68733-806e-4a00-b999-c775938a3dce",
   "metadata": {},
   "outputs": [],
   "source": [
    "X = news_dataset['text'].values\n",
    "y = news_dataset['Label'].values"
   ]
  },
  {
   "cell_type": "code",
   "execution_count": 13,
   "id": "b42fe023-f5e8-46d4-9f5f-b5a4f8d35821",
   "metadata": {},
   "outputs": [
    {
     "name": "stdout",
     "output_type": "stream",
     "text": [
      "[1 1 0 ... 1 1 0]\n"
     ]
    }
   ],
   "source": [
    "print(y)"
   ]
  },
  {
   "cell_type": "markdown",
   "id": "515e3630-affb-41c7-b7f4-9f36e9e1fc14",
   "metadata": {},
   "source": [
    "# Data Transformation  with HashingVectorizer()"
   ]
  },
  {
   "cell_type": "markdown",
   "id": "3b93c104-d3f7-4c20-905d-58e18a3baa7f",
   "metadata": {},
   "source": [
    "###          -   converting the textuel data to numerical data"
   ]
  },
  {
   "cell_type": "code",
   "execution_count": 14,
   "id": "48edb9ec-7e2a-4806-8d1e-f9afc7111cdd",
   "metadata": {},
   "outputs": [
    {
     "name": "stdout",
     "output_type": "stream",
     "text": [
      "(44898, 1500)\n",
      "[[ 0.          0.          0.         ...  0.          0.\n",
      "   0.        ]\n",
      " [ 0.          0.          0.         ...  0.          0.\n",
      "   0.        ]\n",
      " [ 0.          0.          0.         ...  0.          0.\n",
      "   0.        ]\n",
      " ...\n",
      " [-0.05292561  0.          0.         ...  0.          0.\n",
      "   0.        ]\n",
      " [ 0.          0.          0.         ...  0.          0.\n",
      "   0.        ]\n",
      " [ 0.          0.          0.         ...  0.          0.\n",
      "   0.        ]]\n"
     ]
    }
   ],
   "source": [
    "from sklearn.feature_extraction.text import HashingVectorizer\n",
    "import numpy as np\n",
    "X2 = np.array(X)\n",
    "vectorizer = HashingVectorizer(n_features=1500)\n",
    "vector2 = vectorizer.transform(X2)\n",
    "print(vector2.shape)\n",
    "print(vector2.toarray())\n",
    "#to dataframe\n",
    "dft=pd.DataFrame.sparse.from_spmatrix(vector2)"
   ]
  },
  {
   "cell_type": "markdown",
   "id": "15f93fa0-4c12-4235-80ab-2f463b59bb1f",
   "metadata": {},
   "source": [
    "# Splitting Training and Testing\n"
   ]
  },
  {
   "cell_type": "code",
   "execution_count": 20,
   "id": "3e5d27f9-342e-41b9-97b8-97d23b1858c4",
   "metadata": {},
   "outputs": [],
   "source": [
    "from sklearn.model_selection import train_test_split\n",
    "X_train, X_test, Y_train, Y_test = train_test_split(dft, y, test_size = 0.2, random_state=2)"
   ]
  },
  {
   "cell_type": "markdown",
   "id": "0ba966d3-5a2f-4f14-a24e-e3af83e6adae",
   "metadata": {},
   "source": [
    "# Best Model in Machine Learning "
   ]
  },
  {
   "cell_type": "markdown",
   "id": "b3c4c6be-77c4-47d2-9237-0c3035d45b45",
   "metadata": {},
   "source": [
    "## XGBOOST"
   ]
  },
  {
   "cell_type": "code",
   "execution_count": 15,
   "id": "1e8382a6-e6c5-4bb5-9ca5-862a45ead5b7",
   "metadata": {},
   "outputs": [
    {
     "name": "stdout",
     "output_type": "stream",
     "text": [
      "(44898, 1048576)\n"
     ]
    },
    {
     "ename": "MemoryError",
     "evalue": "Unable to allocate 351. GiB for an array with shape (44898, 1048576) and data type float64",
     "output_type": "error",
     "traceback": [
      "\u001b[1;31m---------------------------------------------------------------------------\u001b[0m",
      "\u001b[1;31mMemoryError\u001b[0m                               Traceback (most recent call last)",
      "\u001b[1;32m<ipython-input-15-aa47f2c040ad>\u001b[0m in \u001b[0;36m<module>\u001b[1;34m\u001b[0m\n\u001b[0;32m      3\u001b[0m \u001b[0mx\u001b[0m \u001b[1;33m=\u001b[0m \u001b[0mvectorizer\u001b[0m\u001b[1;33m.\u001b[0m\u001b[0mtransform\u001b[0m\u001b[1;33m(\u001b[0m\u001b[0mX\u001b[0m\u001b[1;33m)\u001b[0m\u001b[1;33m\u001b[0m\u001b[1;33m\u001b[0m\u001b[0m\n\u001b[0;32m      4\u001b[0m \u001b[0mprint\u001b[0m\u001b[1;33m(\u001b[0m\u001b[0mx\u001b[0m\u001b[1;33m.\u001b[0m\u001b[0mshape\u001b[0m\u001b[1;33m)\u001b[0m\u001b[1;33m\u001b[0m\u001b[1;33m\u001b[0m\u001b[0m\n\u001b[1;32m----> 5\u001b[1;33m \u001b[0mprint\u001b[0m\u001b[1;33m(\u001b[0m\u001b[0mx\u001b[0m\u001b[1;33m.\u001b[0m\u001b[0mtoarray\u001b[0m\u001b[1;33m(\u001b[0m\u001b[1;33m)\u001b[0m\u001b[1;33m)\u001b[0m\u001b[1;33m\u001b[0m\u001b[1;33m\u001b[0m\u001b[0m\n\u001b[0m",
      "\u001b[1;32m~\\anaconda3\\lib\\site-packages\\scipy\\sparse\\compressed.py\u001b[0m in \u001b[0;36mtoarray\u001b[1;34m(self, order, out)\u001b[0m\n\u001b[0;32m   1029\u001b[0m         \u001b[1;32mif\u001b[0m \u001b[0mout\u001b[0m \u001b[1;32mis\u001b[0m \u001b[1;32mNone\u001b[0m \u001b[1;32mand\u001b[0m \u001b[0morder\u001b[0m \u001b[1;32mis\u001b[0m \u001b[1;32mNone\u001b[0m\u001b[1;33m:\u001b[0m\u001b[1;33m\u001b[0m\u001b[1;33m\u001b[0m\u001b[0m\n\u001b[0;32m   1030\u001b[0m             \u001b[0morder\u001b[0m \u001b[1;33m=\u001b[0m \u001b[0mself\u001b[0m\u001b[1;33m.\u001b[0m\u001b[0m_swap\u001b[0m\u001b[1;33m(\u001b[0m\u001b[1;34m'cf'\u001b[0m\u001b[1;33m)\u001b[0m\u001b[1;33m[\u001b[0m\u001b[1;36m0\u001b[0m\u001b[1;33m]\u001b[0m\u001b[1;33m\u001b[0m\u001b[1;33m\u001b[0m\u001b[0m\n\u001b[1;32m-> 1031\u001b[1;33m         \u001b[0mout\u001b[0m \u001b[1;33m=\u001b[0m \u001b[0mself\u001b[0m\u001b[1;33m.\u001b[0m\u001b[0m_process_toarray_args\u001b[0m\u001b[1;33m(\u001b[0m\u001b[0morder\u001b[0m\u001b[1;33m,\u001b[0m \u001b[0mout\u001b[0m\u001b[1;33m)\u001b[0m\u001b[1;33m\u001b[0m\u001b[1;33m\u001b[0m\u001b[0m\n\u001b[0m\u001b[0;32m   1032\u001b[0m         \u001b[1;32mif\u001b[0m \u001b[1;32mnot\u001b[0m \u001b[1;33m(\u001b[0m\u001b[0mout\u001b[0m\u001b[1;33m.\u001b[0m\u001b[0mflags\u001b[0m\u001b[1;33m.\u001b[0m\u001b[0mc_contiguous\u001b[0m \u001b[1;32mor\u001b[0m \u001b[0mout\u001b[0m\u001b[1;33m.\u001b[0m\u001b[0mflags\u001b[0m\u001b[1;33m.\u001b[0m\u001b[0mf_contiguous\u001b[0m\u001b[1;33m)\u001b[0m\u001b[1;33m:\u001b[0m\u001b[1;33m\u001b[0m\u001b[1;33m\u001b[0m\u001b[0m\n\u001b[0;32m   1033\u001b[0m             \u001b[1;32mraise\u001b[0m \u001b[0mValueError\u001b[0m\u001b[1;33m(\u001b[0m\u001b[1;34m'Output array must be C or F contiguous'\u001b[0m\u001b[1;33m)\u001b[0m\u001b[1;33m\u001b[0m\u001b[1;33m\u001b[0m\u001b[0m\n",
      "\u001b[1;32m~\\anaconda3\\lib\\site-packages\\scipy\\sparse\\base.py\u001b[0m in \u001b[0;36m_process_toarray_args\u001b[1;34m(self, order, out)\u001b[0m\n\u001b[0;32m   1200\u001b[0m             \u001b[1;32mreturn\u001b[0m \u001b[0mout\u001b[0m\u001b[1;33m\u001b[0m\u001b[1;33m\u001b[0m\u001b[0m\n\u001b[0;32m   1201\u001b[0m         \u001b[1;32melse\u001b[0m\u001b[1;33m:\u001b[0m\u001b[1;33m\u001b[0m\u001b[1;33m\u001b[0m\u001b[0m\n\u001b[1;32m-> 1202\u001b[1;33m             \u001b[1;32mreturn\u001b[0m \u001b[0mnp\u001b[0m\u001b[1;33m.\u001b[0m\u001b[0mzeros\u001b[0m\u001b[1;33m(\u001b[0m\u001b[0mself\u001b[0m\u001b[1;33m.\u001b[0m\u001b[0mshape\u001b[0m\u001b[1;33m,\u001b[0m \u001b[0mdtype\u001b[0m\u001b[1;33m=\u001b[0m\u001b[0mself\u001b[0m\u001b[1;33m.\u001b[0m\u001b[0mdtype\u001b[0m\u001b[1;33m,\u001b[0m \u001b[0morder\u001b[0m\u001b[1;33m=\u001b[0m\u001b[0morder\u001b[0m\u001b[1;33m)\u001b[0m\u001b[1;33m\u001b[0m\u001b[1;33m\u001b[0m\u001b[0m\n\u001b[0m\u001b[0;32m   1203\u001b[0m \u001b[1;33m\u001b[0m\u001b[0m\n\u001b[0;32m   1204\u001b[0m \u001b[1;33m\u001b[0m\u001b[0m\n",
      "\u001b[1;31mMemoryError\u001b[0m: Unable to allocate 351. GiB for an array with shape (44898, 1048576) and data type float64"
     ]
    }
   ],
   "source": [
    "from sklearn.feature_extraction.text import HashingVectorizer\n",
    "vectorizer = HashingVectorizer()\n",
    "x = vectorizer.transform(X)\n",
    "print(x.shape)\n",
    "print(x.toarray())"
   ]
  },
  {
   "cell_type": "code",
   "execution_count": 18,
   "id": "c6b8c102-e84b-4971-9460-732d7751049a",
   "metadata": {},
   "outputs": [],
   "source": [
    "X_train, X_test, Y_train, Y_test = train_test_split(x, y, test_size = 0.2, stratify=y, random_state=2)"
   ]
  },
  {
   "cell_type": "code",
   "execution_count": 19,
   "id": "45d99794-5235-460d-ae41-52af589a2853",
   "metadata": {},
   "outputs": [],
   "source": [
    "from xgboost import XGBClassifier"
   ]
  },
  {
   "cell_type": "code",
   "execution_count": 20,
   "id": "983235b9-2dd0-4c38-80e4-dba13ec43ad7",
   "metadata": {},
   "outputs": [
    {
     "name": "stderr",
     "output_type": "stream",
     "text": [
      "C:\\Users\\ASUS1\\anaconda3\\lib\\site-packages\\xgboost\\sklearn.py:1224: UserWarning: The use of label encoder in XGBClassifier is deprecated and will be removed in a future release. To remove this warning, do the following: 1) Pass option use_label_encoder=False when constructing XGBClassifier object; and 2) Encode your labels (y) as integers starting with 0, i.e. 0, 1, 2, ..., [num_class - 1].\n",
      "  warnings.warn(label_encoder_deprecation_msg, UserWarning)\n"
     ]
    },
    {
     "name": "stdout",
     "output_type": "stream",
     "text": [
      "[11:34:21] WARNING: C:/Users/Administrator/workspace/xgboost-win64_release_1.5.1/src/learner.cc:1115: Starting in XGBoost 1.3.0, the default evaluation metric used with the objective 'binary:logistic' was changed from 'error' to 'logloss'. Explicitly set eval_metric if you'd like to restore the old behavior.\n"
     ]
    }
   ],
   "source": [
    "xgb = XGBClassifier()\n",
    "tfidf = xgb.fit(X_train,Y_train)"
   ]
  },
  {
   "cell_type": "code",
   "execution_count": 21,
   "id": "9a4bf2ea-e279-4215-8e64-75ade945ee9d",
   "metadata": {},
   "outputs": [
    {
     "name": "stdout",
     "output_type": "stream",
     "text": [
      "accuracy = 0.9983296213808464\n"
     ]
    }
   ],
   "source": [
    "from sklearn.metrics import accuracy_score \n",
    "tfidf_val_predict = tfidf.predict( X_test)\n",
    "print('accuracy =',accuracy_score(Y_test, tfidf_val_predict))"
   ]
  },
  {
   "cell_type": "code",
   "execution_count": 23,
   "id": "c38a923d-295e-42f8-b868-834871d92e57",
   "metadata": {},
   "outputs": [
    {
     "name": "stdout",
     "output_type": "stream",
     "text": [
      "Precision =  0.997870528109029\n",
      "Recall =  0.998934129183543\n",
      "f1_score =  0.9984020453819111\n"
     ]
    }
   ],
   "source": [
    "from sklearn.metrics import precision_score\n",
    "from sklearn.metrics import recall_score\n",
    "from sklearn.metrics import f1_score\n",
    "\n",
    "print('Precision = ', precision_score(tfidf_val_predict, Y_test))\n",
    "print('Recall = ', recall_score(tfidf_val_predict, Y_test))\n",
    "print('f1_score = ', f1_score(tfidf_val_predict, Y_test))"
   ]
  },
  {
   "cell_type": "code",
   "execution_count": 24,
   "id": "f9f17778-6379-4512-982a-eab9117212bb",
   "metadata": {},
   "outputs": [
    {
     "data": {
      "image/png": "[encoded data removed]",
      "text/plain": [
       "<Figure size 576x432 with 2 Axes>"
      ]
     },
     "metadata": {
      "needs_background": "light"
     },
     "output_type": "display_data"
    }
   ],
   "source": [
    "from sklearn.metrics import confusion_matrix  \n",
    "import matplotlib.pyplot as plt\n",
    "import seaborn as sns\n",
    "\n",
    "cm = confusion_matrix(Y_test, tfidf_val_predict)\n",
    "cm = pd.DataFrame(cm , index = [i for i in range(2)] , columns = [i for i in range(2)])\n",
    "plt.figure(figsize = (8,6))\n",
    "sns.heatmap(cm,cmap= \"BuPu\", linecolor = 'black' , linewidth = 1 , annot = True, fmt='' , xticklabels=['FAKE', 'TRUE'], yticklabels=['FAKE', 'TRUE'])\n",
    "plt.xlabel('Predicted Label')\n",
    "plt.ylabel('True Label')\n",
    "plt.title('Confusion Matrix for Xgboost')\n",
    "plt.savefig('confision matrix for XGBoost',dpi=300)"
   ]
  },
  {
   "cell_type": "code",
   "execution_count": 25,
   "id": "117db354-3d2c-4a58-8ea5-731d18c8dcd1",
   "metadata": {},
   "outputs": [],
   "source": [
    "from sklearn.metrics import roc_curve, roc_auc_score\n",
    "\n",
    "random_probs = [0 for i in range(len(Y_test))]\n",
    "p_fpr, p_tpr, _ = roc_curve(Y_test, random_probs, pos_label=1)\n",
    "pred_prob = xgb.predict_proba(X_test)"
   ]
  },
  {
   "cell_type": "code",
   "execution_count": 26,
   "id": "fdac69e8-9578-422f-bb61-3bd12d6073d5",
   "metadata": {},
   "outputs": [
    {
     "name": "stdout",
     "output_type": "stream",
     "text": [
      "0.9999347339730895\n"
     ]
    }
   ],
   "source": [
    "fpr, tpr, thresh = roc_curve(Y_test, pred_prob[:,1], pos_label=1)\n",
    "# auc scores\n",
    "auc_score = roc_auc_score(Y_test, pred_prob[:,1])\n",
    "print(auc_score)"
   ]
  },
  {
   "cell_type": "code",
   "execution_count": 27,
   "id": "fc01fe2b-c7d0-4161-a40a-6e7ebbefaf14",
   "metadata": {},
   "outputs": [
    {
     "data": {
      "image/png": "[encoded data removed]",
      "text/plain": [
       "<Figure size 576x396 with 1 Axes>"
      ]
     },
     "metadata": {},
     "output_type": "display_data"
    }
   ],
   "source": [
    "import matplotlib.pyplot as plt\n",
    "plt.style.use('seaborn')\n",
    "\n",
    "# plot roc curves\n",
    "plt.plot(fpr, tpr, linestyle='--',color='orange', label='XGBOOST')\n",
    "\n",
    "plt.plot(p_fpr, p_tpr, linestyle='--', color='blue')\n",
    "# title\n",
    "plt.title('ROC curve')\n",
    "# x label\n",
    "plt.xlabel('False Positive Rate')\n",
    "# y label\n",
    "plt.ylabel('True Positive rate')\n",
    "\n",
    "plt.legend(loc='best')\n",
    "plt.savefig('roc of XGBOOST ',dpi=300)\n",
    "plt.show();"
   ]
  },
  {
   "cell_type": "markdown",
   "id": "4f4758c6-eafe-444b-816a-fc7e721dd6e9",
   "metadata": {},
   "source": [
    "# Best Deep Learning Models"
   ]
  },
  {
   "cell_type": "markdown",
   "id": "5dfd4080-d443-4a6f-a0b4-f13561360c2c",
   "metadata": {},
   "source": [
    "## MLP"
   ]
  },
  {
   "cell_type": "code",
   "execution_count": 42,
   "id": "c5269692-136c-4ca9-9ba2-9cf797a382d3",
   "metadata": {},
   "outputs": [
    {
     "data": {
      "text/plain": [
       "MLPClassifier(hidden_layer_sizes=(300, 190, 60), max_iter=30)"
      ]
     },
     "execution_count": 42,
     "metadata": {},
     "output_type": "execute_result"
    }
   ],
   "source": [
    "from sklearn.neural_network import MLPClassifier\n",
    "\n",
    "mlp_clf = MLPClassifier(hidden_layer_sizes=(300,190,60),\n",
    "                        max_iter = 30,activation = 'relu',\n",
    "                        solver = 'adam')\n",
    "\n",
    "mlp_clf.fit(X_train, Y_train)"
   ]
  },
  {
   "cell_type": "code",
   "execution_count": 43,
   "id": "0ff71de6-cd76-4f66-acfd-6a7b1d369c29",
   "metadata": {},
   "outputs": [
    {
     "name": "stdout",
     "output_type": "stream",
     "text": [
      "Accuracy: 0.9863029\n"
     ]
    }
   ],
   "source": [
    "y_pred= mlp_clf.predict(X_test)\n",
    "\n",
    "print('Accuracy: {:.7f}'.format(accuracy_score(Y_test, y_pred)))"
   ]
  },
  {
   "cell_type": "code",
   "execution_count": 44,
   "id": "d09d7018-8dd7-4c25-8295-62d63e8e8692",
   "metadata": {},
   "outputs": [
    {
     "name": "stdout",
     "output_type": "stream",
     "text": [
      "Precision =  0.987862010221465\n",
      "Recall =  0.9859723698193411\n",
      "f1_score =  0.9869162855015424\n"
     ]
    }
   ],
   "source": [
    "print('Precision = ', precision_score(y_pred, Y_test))\n",
    "print('Recall = ', recall_score(y_pred, Y_test))\n",
    "print('f1_score = ', f1_score(y_pred, Y_test))"
   ]
  },
  {
   "cell_type": "code",
   "execution_count": 45,
   "id": "0faaea7c-e938-4a67-bea9-bc5af2c64d44",
   "metadata": {},
   "outputs": [
    {
     "data": {
      "image/png": "[encoded data removed]",
      "text/plain": [
       "<Figure size 576x432 with 2 Axes>"
      ]
     },
     "metadata": {
      "needs_background": "light"
     },
     "output_type": "display_data"
    }
   ],
   "source": [
    "cm = confusion_matrix(Y_test, y_pred)\n",
    "cm = pd.DataFrame(cm , index = [i for i in range(2)] , columns = [i for i in range(2)])\n",
    "plt.figure(figsize = (8,6))\n",
    "sns.heatmap(cm,cmap= \"Purples\", linecolor = 'black' , linewidth = 1 , annot = True, fmt='' , xticklabels=['FAKE', 'TRUE'], yticklabels=['FAKE', 'TRUE'])\n",
    "plt.xlabel('Predicted Label')\n",
    "plt.ylabel('True Label')\n",
    "\n",
    "plt.savefig('confusion matrix for MLP',dpi=300)"
   ]
  },
  {
   "cell_type": "code",
   "execution_count": 46,
   "id": "947eb24b-a045-4b33-b59c-dafe98f22399",
   "metadata": {},
   "outputs": [
    {
     "data": {
      "image/png": "[encoded data removed]",
      "text/plain": [
       "<Figure size 432x288 with 1 Axes>"
      ]
     },
     "metadata": {
      "needs_background": "light"
     },
     "output_type": "display_data"
    }
   ],
   "source": [
    "plt.plot(mlp_clf.loss_curve_)\n",
    "plt.title(\"Loss Curve\", fontsize=14)\n",
    "plt.xlabel('Iterations')\n",
    "plt.ylabel('Cost')\n",
    "plt.show()"
   ]
  },
  {
   "cell_type": "markdown",
   "id": "f137392a-32a2-48da-b0e6-4748d9657a6c",
   "metadata": {},
   "source": [
    "## Tensorflow"
   ]
  },
  {
   "cell_type": "code",
   "execution_count": 28,
   "id": "4b930f29-7c89-4265-ada0-697c6c32c0ed",
   "metadata": {},
   "outputs": [],
   "source": [
    "from tensorflow.keras import Sequential\n",
    "from tensorflow.keras.layers import Dense"
   ]
  },
  {
   "cell_type": "code",
   "execution_count": 29,
   "id": "8f474684-8754-468d-b743-4b1c9c7aa375",
   "metadata": {},
   "outputs": [
    {
     "data": {
      "text/plain": [
       "(35918, 1500)"
      ]
     },
     "execution_count": 29,
     "metadata": {},
     "output_type": "execute_result"
    }
   ],
   "source": [
    "n_features = X_train.shape[1]\n",
    "n_features \n",
    "X_train.shape"
   ]
  },
  {
   "cell_type": "code",
   "execution_count": 34,
   "id": "84f2506e-dc88-407f-ace2-512db12627e8",
   "metadata": {},
   "outputs": [],
   "source": [
    "#Building Model\n",
    "model = Sequential()\n",
    "model.add(Dense(150, activation='tanh', kernel_initializer='he_normal', input_shape=(n_features,)))\n",
    "model.add(Dense(100, activation='tanh', kernel_initializer='he_normal'))\n",
    "model.add(Dense(50, activation='tanh', kernel_initializer='he_normal'))\n",
    "model.add(Dense(10, activation='tanh', kernel_initializer='he_normal'))\n",
    "model.add(Dense(1, activation='sigmoid'))"
   ]
  },
  {
   "cell_type": "code",
   "execution_count": 35,
   "id": "3fd41073-dfbd-445a-84ef-3c18daf0d1dd",
   "metadata": {},
   "outputs": [],
   "source": [
    "#Compile The Model\n",
    "model.compile(optimizer='adam', loss='binary_crossentropy', metrics=['accuracy'])"
   ]
  },
  {
   "cell_type": "code",
   "execution_count": 36,
   "id": "69110544-55a8-4b62-9338-59cd2f5245b6",
   "metadata": {},
   "outputs": [
    {
     "name": "stdout",
     "output_type": "stream",
     "text": [
      "Epoch 1/60\n",
      "1123/1123 [==============================] - 4s 3ms/step - loss: 0.0853 - accuracy: 0.9718\n",
      "Epoch 2/60\n",
      "1123/1123 [==============================] - 4s 3ms/step - loss: 0.0464 - accuracy: 0.9859\n",
      "Epoch 3/60\n",
      "1123/1123 [==============================] - 4s 3ms/step - loss: 0.0385 - accuracy: 0.9886\n",
      "Epoch 4/60\n",
      "1123/1123 [==============================] - 4s 3ms/step - loss: 0.0311 - accuracy: 0.9903\n",
      "Epoch 5/60\n",
      "1123/1123 [==============================] - 5s 5ms/step - loss: 0.0236 - accuracy: 0.9927\n",
      "Epoch 6/60\n",
      "1123/1123 [==============================] - 4s 4ms/step - loss: 0.0209 - accuracy: 0.9933\n",
      "Epoch 7/60\n",
      "1123/1123 [==============================] - 4s 3ms/step - loss: 0.0165 - accuracy: 0.9948\n",
      "Epoch 8/60\n",
      "1123/1123 [==============================] - 5s 4ms/step - loss: 0.0114 - accuracy: 0.9969\n",
      "Epoch 9/60\n",
      "1123/1123 [==============================] - 4s 4ms/step - loss: 0.0114 - accuracy: 0.9964\n",
      "Epoch 10/60\n",
      "1123/1123 [==============================] - 4s 4ms/step - loss: 0.0113 - accuracy: 0.9967\n",
      "Epoch 11/60\n",
      "1123/1123 [==============================] - 4s 4ms/step - loss: 0.0075 - accuracy: 0.9980\n",
      "Epoch 12/60\n",
      "1123/1123 [==============================] - 4s 4ms/step - loss: 0.0089 - accuracy: 0.9974\n",
      "Epoch 13/60\n",
      "1123/1123 [==============================] - 4s 4ms/step - loss: 0.0082 - accuracy: 0.9973\n",
      "Epoch 14/60\n",
      "1123/1123 [==============================] - 4s 4ms/step - loss: 0.0065 - accuracy: 0.9981\n",
      "Epoch 15/60\n",
      "1123/1123 [==============================] - 4s 4ms/step - loss: 0.0052 - accuracy: 0.9985\n",
      "Epoch 16/60\n",
      "1123/1123 [==============================] - 4s 4ms/step - loss: 0.0069 - accuracy: 0.9982\n",
      "Epoch 17/60\n",
      "1123/1123 [==============================] - 4s 4ms/step - loss: 0.0044 - accuracy: 0.9987\n",
      "Epoch 18/60\n",
      "1123/1123 [==============================] - 4s 4ms/step - loss: 0.0053 - accuracy: 0.9984\n",
      "Epoch 19/60\n",
      "1123/1123 [==============================] - 4s 4ms/step - loss: 0.0053 - accuracy: 0.9986\n",
      "Epoch 20/60\n",
      "1123/1123 [==============================] - 4s 4ms/step - loss: 0.0047 - accuracy: 0.9987\n",
      "Epoch 21/60\n",
      "1123/1123 [==============================] - 4s 3ms/step - loss: 0.0037 - accuracy: 0.9991\n",
      "Epoch 22/60\n",
      "1123/1123 [==============================] - 4s 4ms/step - loss: 0.0043 - accuracy: 0.9986\n",
      "Epoch 23/60\n",
      "1123/1123 [==============================] - 5s 4ms/step - loss: 0.0044 - accuracy: 0.9987\n",
      "Epoch 24/60\n",
      "1123/1123 [==============================] - 4s 4ms/step - loss: 0.0039 - accuracy: 0.9989\n",
      "Epoch 25/60\n",
      "1123/1123 [==============================] - 4s 4ms/step - loss: 0.0031 - accuracy: 0.9992\n",
      "Epoch 26/60\n",
      "1123/1123 [==============================] - 4s 4ms/step - loss: 0.0042 - accuracy: 0.9989\n",
      "Epoch 27/60\n",
      "1123/1123 [==============================] - 5s 4ms/step - loss: 0.0032 - accuracy: 0.9989\n",
      "Epoch 28/60\n",
      "1123/1123 [==============================] - 4s 4ms/step - loss: 0.0028 - accuracy: 0.9993\n",
      "Epoch 29/60\n",
      "1123/1123 [==============================] - 4s 4ms/step - loss: 0.0029 - accuracy: 0.9992\n",
      "Epoch 30/60\n",
      "1123/1123 [==============================] - 4s 4ms/step - loss: 0.0029 - accuracy: 0.9993\n",
      "Epoch 31/60\n",
      "1123/1123 [==============================] - 5s 4ms/step - loss: 0.0029 - accuracy: 0.9992\n",
      "Epoch 32/60\n",
      "1123/1123 [==============================] - 4s 4ms/step - loss: 0.0029 - accuracy: 0.9993\n",
      "Epoch 33/60\n",
      "1123/1123 [==============================] - 4s 4ms/step - loss: 0.0020 - accuracy: 0.9996\n",
      "Epoch 34/60\n",
      "1123/1123 [==============================] - 4s 4ms/step - loss: 0.0029 - accuracy: 0.9992\n",
      "Epoch 35/60\n",
      "1123/1123 [==============================] - 5s 4ms/step - loss: 0.0019 - accuracy: 0.9995\n",
      "Epoch 36/60\n",
      "1123/1123 [==============================] - 4s 4ms/step - loss: 0.0012 - accuracy: 0.9998\n",
      "Epoch 37/60\n",
      "1123/1123 [==============================] - 4s 4ms/step - loss: 0.0025 - accuracy: 0.9995\n",
      "Epoch 38/60\n",
      "1123/1123 [==============================] - 5s 4ms/step - loss: 0.0040 - accuracy: 0.9989\n",
      "Epoch 39/60\n",
      "1123/1123 [==============================] - 5s 4ms/step - loss: 0.0031 - accuracy: 0.9992\n",
      "Epoch 40/60\n",
      "1123/1123 [==============================] - 4s 4ms/step - loss: 0.0021 - accuracy: 0.9995\n",
      "Epoch 41/60\n",
      "1123/1123 [==============================] - 4s 4ms/step - loss: 0.0013 - accuracy: 0.9997\n",
      "Epoch 42/60\n",
      "1123/1123 [==============================] - 5s 4ms/step - loss: 0.0027 - accuracy: 0.9992\n",
      "Epoch 43/60\n",
      "1123/1123 [==============================] - 4s 4ms/step - loss: 0.0038 - accuracy: 0.9990\n",
      "Epoch 44/60\n",
      "1123/1123 [==============================] - 4s 4ms/step - loss: 0.0016 - accuracy: 0.9997\n",
      "Epoch 45/60\n",
      "1123/1123 [==============================] - 5s 4ms/step - loss: 0.0019 - accuracy: 0.9995\n",
      "Epoch 46/60\n",
      "1123/1123 [==============================] - 5s 4ms/step - loss: 0.0022 - accuracy: 0.9996\n",
      "Epoch 47/60\n",
      "1123/1123 [==============================] - 5s 4ms/step - loss: 0.0030 - accuracy: 0.9993\n",
      "Epoch 48/60\n",
      "1123/1123 [==============================] - 4s 4ms/step - loss: 0.0023 - accuracy: 0.9994\n",
      "Epoch 49/60\n",
      "1123/1123 [==============================] - 5s 5ms/step - loss: 0.0016 - accuracy: 0.9997\n",
      "Epoch 50/60\n",
      "1123/1123 [==============================] - 5s 5ms/step - loss: 0.0022 - accuracy: 0.9994\n",
      "Epoch 51/60\n",
      "1123/1123 [==============================] - 4s 4ms/step - loss: 0.0014 - accuracy: 0.9996\n",
      "Epoch 52/60\n",
      "1123/1123 [==============================] - 5s 4ms/step - loss: 0.0025 - accuracy: 0.9992\n",
      "Epoch 53/60\n",
      "1123/1123 [==============================] - 5s 4ms/step - loss: 0.0023 - accuracy: 0.9994\n",
      "Epoch 54/60\n",
      "1123/1123 [==============================] - 4s 4ms/step - loss: 0.0024 - accuracy: 0.9994\n",
      "Epoch 55/60\n",
      "1123/1123 [==============================] - 4s 4ms/step - loss: 0.0013 - accuracy: 0.9998\n",
      "Epoch 56/60\n",
      "1123/1123 [==============================] - 5s 4ms/step - loss: 0.0011 - accuracy: 0.9997\n",
      "Epoch 57/60\n",
      "1123/1123 [==============================] - 5s 4ms/step - loss: 9.8891e-04 - accuracy: 0.9998\n",
      "Epoch 58/60\n",
      "1123/1123 [==============================] - 4s 3ms/step - loss: 0.0032 - accuracy: 0.9991\n",
      "Epoch 59/60\n",
      "1123/1123 [==============================] - 4s 3ms/step - loss: 0.0017 - accuracy: 0.9996\n",
      "Epoch 60/60\n",
      "1123/1123 [==============================] - 4s 4ms/step - loss: 0.0011 - accuracy: 0.9998\n"
     ]
    },
    {
     "data": {
      "text/plain": [
       "<keras.callbacks.History at 0x29f98e33160>"
      ]
     },
     "execution_count": 36,
     "metadata": {},
     "output_type": "execute_result"
    }
   ],
   "source": [
    "#Fit The Model\n",
    "model.fit(X_train, Y_train, epochs=60, batch_size=32,verbose=1)"
   ]
  },
  {
   "cell_type": "code",
   "execution_count": 37,
   "id": "62ded53b-bbe3-4718-bd9e-f874f1cad027",
   "metadata": {},
   "outputs": [
    {
     "name": "stdout",
     "output_type": "stream",
     "text": [
      "Test Accuracy: 0.9877505\n"
     ]
    }
   ],
   "source": [
    "loss, acc = model.evaluate(X_test, Y_test, verbose=0)\n",
    "print('Test Accuracy: %.7f' % acc)"
   ]
  },
  {
   "cell_type": "code",
   "execution_count": 38,
   "id": "8bb05458-87f7-4453-a015-3196f6929ccd",
   "metadata": {},
   "outputs": [],
   "source": [
    "y_pred=model.predict(X_test)\n",
    "\n",
    "binary_predictions =[]\n",
    "\n",
    "for i in y_pred:\n",
    "    if i >=0.5:\n",
    "        binary_predictions.append(1)\n",
    "    else:\n",
    "        binary_predictions.append(0)"
   ]
  },
  {
   "cell_type": "code",
   "execution_count": 39,
   "id": "2fd13380-e62d-4438-ad92-98bf09c801dd",
   "metadata": {},
   "outputs": [
    {
     "name": "stdout",
     "output_type": "stream",
     "text": [
      "Model accuracy is  98.7750556792873\n",
      "Model precision is  99.21209540034071\n",
      "Model recall is  98.45731191885038\n",
      "Model f1_score is  98.83326262197708\n"
     ]
    }
   ],
   "source": [
    "# Importing metrics\n",
    "from sklearn.metrics import confusion_matrix, accuracy_score, precision_score, recall_score, f1_score\n",
    "\n",
    "print(\"Model accuracy is \",accuracy_score(binary_predictions,Y_test)*100)\n",
    "print(\"Model precision is \",precision_score(binary_predictions,Y_test)*100)\n",
    "print(\"Model recall is \",recall_score(binary_predictions,Y_test)*100)\n",
    "print(\"Model f1_score is \",f1_score(binary_predictions,Y_test)*100)"
   ]
  },
  {
   "cell_type": "code",
   "execution_count": 40,
   "id": "2dc806a0-f18b-470c-97f6-312db3e1626e",
   "metadata": {},
   "outputs": [
    {
     "data": {
      "image/png": "[encoded data removed]",
      "text/plain": [
       "<Figure size 576x432 with 2 Axes>"
      ]
     },
     "metadata": {
      "needs_background": "light"
     },
     "output_type": "display_data"
    }
   ],
   "source": [
    "from sklearn.metrics import confusion_matrix  \n",
    "import matplotlib.pyplot as plt\n",
    "import seaborn as sns\n",
    "\n",
    "cm = confusion_matrix(Y_test, binary_predictions)\n",
    "cm = pd.DataFrame(cm , index = [i for i in range(2)] , columns = [i for i in range(2)])\n",
    "plt.figure(figsize = (8,6))\n",
    "sns.heatmap(cm,cmap= \"Purples\", linecolor = 'black' , linewidth = 3 , annot = True, fmt='' , xticklabels=['FAKE', 'TRUE'], yticklabels=['FAKE', 'TRUE'])\n",
    "plt.xlabel('Predicted Label')\n",
    "plt.ylabel('True Label')\n",
    "#plt.title('Confusion Matrix for tensorflow')\n",
    "plt.savefig('confusion matrix for tensorflow 5',dpi=300)"
   ]
  },
  {
   "cell_type": "markdown",
   "id": "35a1adc2-9c08-4ec9-875a-0e12c76a9e52",
   "metadata": {},
   "source": [
    "## Pytorch"
   ]
  },
  {
   "cell_type": "code",
   "execution_count": 61,
   "id": "c10d363c-e5b5-4e40-9b04-27df93c702e1",
   "metadata": {},
   "outputs": [],
   "source": [
    "import torch\n",
    "import torch.nn as nn"
   ]
  },
  {
   "cell_type": "code",
   "execution_count": 62,
   "id": "4ccfccc3-92b1-41c2-907d-707fbc0469f4",
   "metadata": {},
   "outputs": [
    {
     "name": "stdout",
     "output_type": "stream",
     "text": [
      "Finished\n"
     ]
    }
   ],
   "source": [
    "vectorizer_text = HashingVectorizer(stop_words=\"english\",n_features=8000)\n",
    "text_matrix = vectorizer_text.fit_transform(X).toarray()\n",
    "\n",
    "print(\"Finished\")"
   ]
  },
  {
   "cell_type": "code",
   "execution_count": 63,
   "id": "44535d76-bdae-4f63-85c8-88845097c490",
   "metadata": {},
   "outputs": [
    {
     "name": "stdout",
     "output_type": "stream",
     "text": [
      "(44898, 2)\n",
      "(44898, 8000)\n"
     ]
    }
   ],
   "source": [
    "print(news_dataset.shape)\n",
    "\n",
    "print(text_matrix.shape)\n",
    "\n",
    "# Creating Y\n",
    "y = news_dataset.Label\n",
    "\n",
    "# Creating X\n",
    "x=text_matrix"
   ]
  },
  {
   "cell_type": "code",
   "execution_count": 64,
   "id": "9ddc17c9-0470-4ea2-b3df-42b69cfea116",
   "metadata": {},
   "outputs": [
    {
     "name": "stdout",
     "output_type": "stream",
     "text": [
      "(35918, 8000)\n",
      "(8980, 8000)\n",
      "(35918,)\n",
      "(8980,)\n"
     ]
    }
   ],
   "source": [
    "\n",
    "from sklearn.model_selection import train_test_split\n",
    "\n",
    "# Train Test Split\n",
    "X_train,X_test,Y_train,Y_test = train_test_split(x,np.array(y),test_size=0.2,random_state=2)\n",
    "print(X_train.shape)\n",
    "print(X_test.shape)\n",
    "print(Y_train.shape)\n",
    "print(Y_test.shape)"
   ]
  },
  {
   "cell_type": "code",
   "execution_count": 66,
   "id": "64e0e4b2-bd96-4957-a2db-eb188fd3fc49",
   "metadata": {},
   "outputs": [],
   "source": [
    "import torch.nn as nn\n",
    "class ANN(nn.Module):\n",
    "    \n",
    "    def __init__(self):\n",
    "        \n",
    "        super(ANN,self).__init__() # Inhertiting\n",
    "        \n",
    "        self.linear1 = nn.Linear(8000,6000) # IN 8000 OUT 6000\n",
    "        self.relu1 = nn.ReLU() # Actfunc 1\n",
    "        \n",
    "        self.linear2 = nn.Linear(6000,3000) # IN 6000 OUT 3000\n",
    "        self.relu2 = nn.ReLU()\n",
    "        \n",
    "        self.linear3 = nn.Linear(3000,1000) # IN 3000 OUT 1000\n",
    "        self.relu3 = nn.ReLU()\n",
    "        \n",
    "        self.linear4 = nn.Linear(1000,100) # IN 1000 OUT 100\n",
    "        self.relu4 = nn.ReLU()\n",
    "        \n",
    "        self.linear5 = nn.Linear(100,20) # IN 100 OUT 20\n",
    "        self.relu5 = nn.ReLU()\n",
    "        \n",
    "        self.linear6 = nn.Linear(20,2) # IN 20 OUT 2 | OUTPUT \n",
    "        \n",
    "    \n",
    "    def forward(self,x):\n",
    "        \n",
    "        out = self.linear1(x) # Input Layer \n",
    "        out = self.relu1(out)\n",
    "        \n",
    "        out = self.linear2(out) # Hidden Layer 1 \n",
    "        out = self.relu2(out)\n",
    "        \n",
    "        out = self.linear3(out) # Hidden Layer 2 \n",
    "        out = self.relu3(out)\n",
    "        \n",
    "        out = self.linear4(out) # Hidden Layer 3 \n",
    "        out = self.relu4(out)\n",
    "        \n",
    "        out = self.linear5(out) # Hidden Layer 4 \n",
    "        out = self.relu5(out)\n",
    "        \n",
    "        out = self.linear6(out) # Output Layer\n",
    "        \n",
    "        return out\n",
    "    \n",
    "\n",
    "model = ANN()\n",
    "optimizer = torch.optim.Adam(model.parameters(),lr=0.01)\n",
    "error = nn.CrossEntropyLoss() #binary_crossentropy\n"
   ]
  },
  {
   "cell_type": "code",
   "execution_count": 67,
   "id": "caa433fa-e1ef-4c97-ad53-4f4e24e5f9b8",
   "metadata": {},
   "outputs": [
    {
     "name": "stdout",
     "output_type": "stream",
     "text": [
      "Loss after iteration 0 is 0.6922810673713684\n",
      "Loss after iteration 1 is 0.808465301990509\n",
      "Loss after iteration 2 is 0.6925058960914612\n",
      "Loss after iteration 3 is 4.394179821014404\n",
      "Loss after iteration 4 is 0.6862664222717285\n",
      "Loss after iteration 5 is 0.6838672757148743\n",
      "Loss after iteration 6 is 0.6723612546920776\n",
      "Loss after iteration 7 is 0.662721574306488\n",
      "Loss after iteration 8 is 0.603973925113678\n",
      "Loss after iteration 9 is 0.5048074722290039\n",
      "Loss after iteration 10 is 0.5032059550285339\n",
      "Loss after iteration 11 is 0.3383939266204834\n",
      "Loss after iteration 12 is 0.3179763853549957\n",
      "Loss after iteration 13 is 0.15319520235061646\n",
      "Loss after iteration 14 is 0.10418346524238586\n",
      "Loss after iteration 15 is 0.08064798265695572\n",
      "Loss after iteration 16 is 0.07270855456590652\n",
      "Loss after iteration 17 is 0.042916711419820786\n",
      "Loss after iteration 18 is 0.034030117094516754\n",
      "Loss after iteration 19 is 0.021974744275212288\n",
      "Loss after iteration 20 is 0.020033808425068855\n",
      "Loss after iteration 21 is 0.009128005243837833\n",
      "Loss after iteration 22 is 0.009479898028075695\n",
      "Loss after iteration 23 is 0.0038249006029218435\n",
      "Loss after iteration 24 is 0.002731860149651766\n",
      "Loss after iteration 25 is 0.0021363673731684685\n",
      "Loss after iteration 26 is 0.001602164818905294\n",
      "Loss after iteration 27 is 0.0012462835293263197\n",
      "Loss after iteration 28 is 0.0010235203662887216\n",
      "Loss after iteration 29 is 0.0008965580491349101\n"
     ]
    }
   ],
   "source": [
    "# Converting numpy arrays into pytorch tensors\n",
    "X_train = torch.Tensor(X_train)\n",
    "\n",
    "# You must convert it into LongTensor. I did it once\n",
    "Y_train = torch.Tensor(Y_train).type(torch.LongTensor)\n",
    "\n",
    "X_test = torch.Tensor(X_test)\n",
    "Y_test = torch.Tensor(Y_test)\n",
    "\n",
    "EPOCHS = 30\n",
    "\n",
    "for epoch in range(EPOCHS):\n",
    "    \n",
    "    # Clearing gradients\n",
    "    optimizer.zero_grad()\n",
    "    \n",
    "    # Forward Propagation\n",
    "    outs = model(X_train)\n",
    "    \n",
    "    # Computing Loss\n",
    "    loss = error(outs,Y_train)\n",
    "    \n",
    "    # Backward propagation\n",
    "    loss.backward()\n",
    "    \n",
    "    # Updating parameters\n",
    "    optimizer.step()\n",
    "    \n",
    "    # Printing loss\n",
    "    print(f\"Loss after iteration {epoch} is {loss}\")"
   ]
  },
  {
   "cell_type": "code",
   "execution_count": 68,
   "id": "aeb599f8-0822-4e73-a947-16b7d2724705",
   "metadata": {},
   "outputs": [
    {
     "name": "stdout",
     "output_type": "stream",
     "text": [
      "tensor([ 4.8300, 23.7371], grad_fn=<SelectBackward0>)\n",
      "tensor(1)\n",
      " accuracy =  98.44097995545657\n",
      " precision =  98.42419080068143\n",
      " recall =  98.59215017064847\n",
      " f1_score =  98.5080988917306\n"
     ]
    }
   ],
   "source": [
    "from sklearn.metrics import confusion_matrix,accuracy_score,precision_score,recall_score,f1_score\n",
    "\n",
    "# Prediction\n",
    "y_head = model(X_test)\n",
    "print(y_head[0])\n",
    "\n",
    "# Converting Prediction into labels\n",
    "y_pred = torch.max(y_head,1)[1]\n",
    "print(y_pred[0])\n",
    "\n",
    "# Accuracy score\n",
    "print(\" accuracy = \",accuracy_score(y_pred,Y_test)*100)\n",
    "print(\" precision = \",precision_score(y_pred,Y_test)*100)\n",
    "print(\" recall = \",recall_score(y_pred,Y_test)*100)\n",
    "print(\" f1_score = \",f1_score(y_pred,Y_test)*100)"
   ]
  },
  {
   "cell_type": "code",
   "execution_count": 69,
   "id": "e2050427-047e-4e4d-9181-14eb15a0cef8",
   "metadata": {},
   "outputs": [
    {
     "data": {
      "image/png": "[encoded data removed]",
      "text/plain": [
       "<Figure size 576x432 with 2 Axes>"
      ]
     },
     "metadata": {
      "needs_background": "light"
     },
     "output_type": "display_data"
    }
   ],
   "source": [
    "confusion_matrix = confusion_matrix(y_pred=y_pred,y_true=Y_test) #y_true=y_test\n",
    "\n",
    "fig,ax = plt.subplots(figsize=(8,6))\n",
    "sns.heatmap(confusion_matrix,cmap= \"OrRd\", linecolor = 'black' ,annot=True,fmt=\" \",linewidths=2,xticklabels=['FAKE', 'TRUE'], yticklabels=['FAKE', 'TRUE'])\n",
    "plt.show()"
   ]
  }
 ],
 "metadata": {
  "kernelspec": {
   "display_name": "Python 3",
   "language": "python",
   "name": "python3"
  },
  "language_info": {
   "codemirror_mode": {
    "name": "ipython",
    "version": 3
   },
   "file_extension": ".py",
   "mimetype": "text/x-python",
   "name": "python",
   "nbconvert_exporter": "python",
   "pygments_lexer": "ipython3",
   "version": "3.8.8"
  }
 },
 "nbformat": 4,
 "nbformat_minor": 5
}
